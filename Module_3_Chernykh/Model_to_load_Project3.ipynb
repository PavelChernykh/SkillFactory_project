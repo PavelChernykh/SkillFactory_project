{
 "cells": [
  {
   "cell_type": "markdown",
   "metadata": {},
   "source": [
    "# Загрузка Pandas и очистка данных"
   ]
  },
  {
   "cell_type": "code",
   "execution_count": 1,
   "metadata": {},
   "outputs": [],
   "source": [
    "import pandas as pd\n",
    "import numpy as np\n",
    "\n",
    "import seaborn as sns\n",
    "import datetime\n",
    "from datetime import datetime, timedelta\n",
    "\n",
    "# Загружаем специальный удобный инструмент для разделения датасета:\n",
    "from sklearn.model_selection import train_test_split\n",
    "\n",
    "import matplotlib.pyplot as plt\n",
    "%matplotlib inline"
   ]
  },
  {
   "cell_type": "code",
   "execution_count": 2,
   "metadata": {},
   "outputs": [
    {
     "name": "stdout",
     "output_type": "stream",
     "text": [
      "<class 'pandas.core.frame.DataFrame'>\n",
      "RangeIndex: 40000 entries, 0 to 39999\n",
      "Data columns (total 10 columns):\n",
      " #   Column             Non-Null Count  Dtype  \n",
      "---  ------             --------------  -----  \n",
      " 0   Restaurant_id      40000 non-null  object \n",
      " 1   City               40000 non-null  object \n",
      " 2   Cuisine Style      30717 non-null  object \n",
      " 3   Ranking            40000 non-null  float64\n",
      " 4   Rating             40000 non-null  float64\n",
      " 5   Price Range        26114 non-null  object \n",
      " 6   Number of Reviews  37457 non-null  float64\n",
      " 7   Reviews            40000 non-null  object \n",
      " 8   URL_TA             40000 non-null  object \n",
      " 9   ID_TA              40000 non-null  object \n",
      "dtypes: float64(3), object(7)\n",
      "memory usage: 3.1+ MB\n"
     ]
    }
   ],
   "source": [
    "data = pd.read_csv('main_task.csv')\n",
    "data.info()"
   ]
  },
  {
   "cell_type": "markdown",
   "metadata": {},
   "source": [
    "Первоначальная версия датасета состоит из десяти столбцов, содержащих следующую информацию:\n",
    "\n",
    "- Restaurant_id — идентификационный номер ресторана / сети ресторанов;\n",
    "- City — город, в котором находится ресторан;\n",
    "- Cuisine Style — кухня или кухни, к которым можно отнести блюда, предлагаемые в ресторане;\n",
    "- Ranking — место, которое занимает данный ресторан среди всех ресторанов своего города;\n",
    "- Rating — рейтинг ресторана по данным TripAdvisor (именно это значение должна будет предсказывать модель);\n",
    "- Price Range — диапазон цен в ресторане;\n",
    "- Number of Reviews — количество отзывов о ресторане;\n",
    "- Reviews — данные о двух отзывах, которые отображаются на сайте ресторана;\n",
    "- URL_TA — URL страницы ресторана на TripAdvosor;\n",
    "- ID_TA — идентификатор ресторана в базе данных TripAdvisor."
   ]
  },
  {
   "cell_type": "code",
   "execution_count": 3,
   "metadata": {},
   "outputs": [
    {
     "data": {
      "text/html": [
       "<div>\n",
       "<style scoped>\n",
       "    .dataframe tbody tr th:only-of-type {\n",
       "        vertical-align: middle;\n",
       "    }\n",
       "\n",
       "    .dataframe tbody tr th {\n",
       "        vertical-align: top;\n",
       "    }\n",
       "\n",
       "    .dataframe thead th {\n",
       "        text-align: right;\n",
       "    }\n",
       "</style>\n",
       "<table border=\"1\" class=\"dataframe\">\n",
       "  <thead>\n",
       "    <tr style=\"text-align: right;\">\n",
       "      <th></th>\n",
       "      <th>Restaurant_id</th>\n",
       "      <th>City</th>\n",
       "      <th>Cuisine Style</th>\n",
       "      <th>Ranking</th>\n",
       "      <th>Rating</th>\n",
       "      <th>Price Range</th>\n",
       "      <th>Number of Reviews</th>\n",
       "      <th>Reviews</th>\n",
       "      <th>URL_TA</th>\n",
       "      <th>ID_TA</th>\n",
       "    </tr>\n",
       "  </thead>\n",
       "  <tbody>\n",
       "    <tr>\n",
       "      <th>0</th>\n",
       "      <td>id_5569</td>\n",
       "      <td>Paris</td>\n",
       "      <td>['European', 'French', 'International']</td>\n",
       "      <td>5570.0</td>\n",
       "      <td>3.5</td>\n",
       "      <td>$$ - $$$</td>\n",
       "      <td>194.0</td>\n",
       "      <td>[['Good food at your doorstep', 'A good hotel ...</td>\n",
       "      <td>/Restaurant_Review-g187147-d1912643-Reviews-R_...</td>\n",
       "      <td>d1912643</td>\n",
       "    </tr>\n",
       "    <tr>\n",
       "      <th>1</th>\n",
       "      <td>id_1535</td>\n",
       "      <td>Stockholm</td>\n",
       "      <td>NaN</td>\n",
       "      <td>1537.0</td>\n",
       "      <td>4.0</td>\n",
       "      <td>NaN</td>\n",
       "      <td>10.0</td>\n",
       "      <td>[['Unique cuisine', 'Delicious Nepalese food']...</td>\n",
       "      <td>/Restaurant_Review-g189852-d7992032-Reviews-Bu...</td>\n",
       "      <td>d7992032</td>\n",
       "    </tr>\n",
       "    <tr>\n",
       "      <th>2</th>\n",
       "      <td>id_352</td>\n",
       "      <td>London</td>\n",
       "      <td>['Japanese', 'Sushi', 'Asian', 'Grill', 'Veget...</td>\n",
       "      <td>353.0</td>\n",
       "      <td>4.5</td>\n",
       "      <td>$$$$</td>\n",
       "      <td>688.0</td>\n",
       "      <td>[['Catch up with friends', 'Not exceptional'],...</td>\n",
       "      <td>/Restaurant_Review-g186338-d8632781-Reviews-RO...</td>\n",
       "      <td>d8632781</td>\n",
       "    </tr>\n",
       "    <tr>\n",
       "      <th>3</th>\n",
       "      <td>id_3456</td>\n",
       "      <td>Berlin</td>\n",
       "      <td>NaN</td>\n",
       "      <td>3458.0</td>\n",
       "      <td>5.0</td>\n",
       "      <td>NaN</td>\n",
       "      <td>3.0</td>\n",
       "      <td>[[], []]</td>\n",
       "      <td>/Restaurant_Review-g187323-d1358776-Reviews-Es...</td>\n",
       "      <td>d1358776</td>\n",
       "    </tr>\n",
       "    <tr>\n",
       "      <th>4</th>\n",
       "      <td>id_615</td>\n",
       "      <td>Munich</td>\n",
       "      <td>['German', 'Central European', 'Vegetarian Fri...</td>\n",
       "      <td>621.0</td>\n",
       "      <td>4.0</td>\n",
       "      <td>$$ - $$$</td>\n",
       "      <td>84.0</td>\n",
       "      <td>[['Best place to try a Bavarian food', 'Nice b...</td>\n",
       "      <td>/Restaurant_Review-g187309-d6864963-Reviews-Au...</td>\n",
       "      <td>d6864963</td>\n",
       "    </tr>\n",
       "  </tbody>\n",
       "</table>\n",
       "</div>"
      ],
      "text/plain": [
       "  Restaurant_id       City                                      Cuisine Style  \\\n",
       "0       id_5569      Paris            ['European', 'French', 'International']   \n",
       "1       id_1535  Stockholm                                                NaN   \n",
       "2        id_352     London  ['Japanese', 'Sushi', 'Asian', 'Grill', 'Veget...   \n",
       "3       id_3456     Berlin                                                NaN   \n",
       "4        id_615     Munich  ['German', 'Central European', 'Vegetarian Fri...   \n",
       "\n",
       "   Ranking  Rating Price Range  Number of Reviews  \\\n",
       "0   5570.0     3.5    $$ - $$$              194.0   \n",
       "1   1537.0     4.0         NaN               10.0   \n",
       "2    353.0     4.5        $$$$              688.0   \n",
       "3   3458.0     5.0         NaN                3.0   \n",
       "4    621.0     4.0    $$ - $$$               84.0   \n",
       "\n",
       "                                             Reviews  \\\n",
       "0  [['Good food at your doorstep', 'A good hotel ...   \n",
       "1  [['Unique cuisine', 'Delicious Nepalese food']...   \n",
       "2  [['Catch up with friends', 'Not exceptional'],...   \n",
       "3                                           [[], []]   \n",
       "4  [['Best place to try a Bavarian food', 'Nice b...   \n",
       "\n",
       "                                              URL_TA     ID_TA  \n",
       "0  /Restaurant_Review-g187147-d1912643-Reviews-R_...  d1912643  \n",
       "1  /Restaurant_Review-g189852-d7992032-Reviews-Bu...  d7992032  \n",
       "2  /Restaurant_Review-g186338-d8632781-Reviews-RO...  d8632781  \n",
       "3  /Restaurant_Review-g187323-d1358776-Reviews-Es...  d1358776  \n",
       "4  /Restaurant_Review-g187309-d6864963-Reviews-Au...  d6864963  "
      ]
     },
     "execution_count": 3,
     "metadata": {},
     "output_type": "execute_result"
    }
   ],
   "source": [
    "data.head(5)"
   ]
  },
  {
   "cell_type": "code",
   "execution_count": 4,
   "metadata": {},
   "outputs": [],
   "source": [
    "# Обработка для Cuisine Style\n",
    "def str_to_list(string):\n",
    "    if pd.isnull(string):\n",
    "        return []\n",
    "    else:\n",
    "        string = string.replace('\"', '')\n",
    "        string = string.replace('[', '')\n",
    "        string = string.replace(']', '')\n",
    "        string = string.replace(\"'\", '')\n",
    "        return string.split(', ')\n",
    "\n",
    "\n",
    "# Обработка для Reviews\n",
    "def reviews_to_list(string):\n",
    "    if string == '[[], []]':\n",
    "        return []\n",
    "    else:\n",
    "        string = string.replace(']]', '')\n",
    "        string = string.replace(\"'\", '')\n",
    "        string = string.split('], [')[1]\n",
    "        string = string.split(', ')\n",
    "        return string"
   ]
  },
  {
   "cell_type": "code",
   "execution_count": 5,
   "metadata": {},
   "outputs": [
    {
     "data": {
      "text/html": [
       "<div>\n",
       "<style scoped>\n",
       "    .dataframe tbody tr th:only-of-type {\n",
       "        vertical-align: middle;\n",
       "    }\n",
       "\n",
       "    .dataframe tbody tr th {\n",
       "        vertical-align: top;\n",
       "    }\n",
       "\n",
       "    .dataframe thead th {\n",
       "        text-align: right;\n",
       "    }\n",
       "</style>\n",
       "<table border=\"1\" class=\"dataframe\">\n",
       "  <thead>\n",
       "    <tr style=\"text-align: right;\">\n",
       "      <th></th>\n",
       "      <th>Restaurant_id</th>\n",
       "      <th>City</th>\n",
       "      <th>Cuisine Style</th>\n",
       "      <th>Ranking</th>\n",
       "      <th>Rating</th>\n",
       "      <th>Price Range</th>\n",
       "      <th>Number of Reviews</th>\n",
       "      <th>Reviews</th>\n",
       "      <th>URL_TA</th>\n",
       "      <th>ID_TA</th>\n",
       "    </tr>\n",
       "  </thead>\n",
       "  <tbody>\n",
       "    <tr>\n",
       "      <th>16725</th>\n",
       "      <td>id_1619</td>\n",
       "      <td>Munich</td>\n",
       "      <td>['Cafe']</td>\n",
       "      <td>1632.0</td>\n",
       "      <td>5.0</td>\n",
       "      <td>NaN</td>\n",
       "      <td>4.0</td>\n",
       "      <td>[['Great Bio offers'], ['05/20/2017']]</td>\n",
       "      <td>/Restaurant_Review-g187309-d11014363-Reviews-T...</td>\n",
       "      <td>d11014363</td>\n",
       "    </tr>\n",
       "    <tr>\n",
       "      <th>35905</th>\n",
       "      <td>id_5872</td>\n",
       "      <td>Barcelona</td>\n",
       "      <td>['Cafe']</td>\n",
       "      <td>5873.0</td>\n",
       "      <td>4.0</td>\n",
       "      <td>$</td>\n",
       "      <td>NaN</td>\n",
       "      <td>[['Freshness'], ['08/02/2016']]</td>\n",
       "      <td>/Restaurant_Review-g187497-d10497174-Reviews-P...</td>\n",
       "      <td>d10497174</td>\n",
       "    </tr>\n",
       "    <tr>\n",
       "      <th>3692</th>\n",
       "      <td>id_532</td>\n",
       "      <td>Milan</td>\n",
       "      <td>['Japanese', 'Seafood', 'Sushi']</td>\n",
       "      <td>533.0</td>\n",
       "      <td>4.5</td>\n",
       "      <td>$$ - $$$</td>\n",
       "      <td>441.0</td>\n",
       "      <td>[['Ridiculously expensive experience!', 'my fa...</td>\n",
       "      <td>/Restaurant_Review-g187849-d782156-Reviews-Mam...</td>\n",
       "      <td>d782156</td>\n",
       "    </tr>\n",
       "    <tr>\n",
       "      <th>1391</th>\n",
       "      <td>id_2961</td>\n",
       "      <td>Prague</td>\n",
       "      <td>['Grill']</td>\n",
       "      <td>2968.0</td>\n",
       "      <td>4.0</td>\n",
       "      <td>NaN</td>\n",
       "      <td>NaN</td>\n",
       "      <td>[['Sympathethic and nice place'], ['08/23/2015']]</td>\n",
       "      <td>/Restaurant_Review-g274707-d7123548-Reviews-Pc...</td>\n",
       "      <td>d7123548</td>\n",
       "    </tr>\n",
       "    <tr>\n",
       "      <th>6839</th>\n",
       "      <td>id_2849</td>\n",
       "      <td>Milan</td>\n",
       "      <td>['Sushi', 'Fusion', 'Street Food']</td>\n",
       "      <td>2851.0</td>\n",
       "      <td>5.0</td>\n",
       "      <td>NaN</td>\n",
       "      <td>4.0</td>\n",
       "      <td>[[], []]</td>\n",
       "      <td>/Restaurant_Review-g187849-d13167018-Reviews-F...</td>\n",
       "      <td>d13167018</td>\n",
       "    </tr>\n",
       "  </tbody>\n",
       "</table>\n",
       "</div>"
      ],
      "text/plain": [
       "      Restaurant_id       City                       Cuisine Style  Ranking  \\\n",
       "16725       id_1619     Munich                            ['Cafe']   1632.0   \n",
       "35905       id_5872  Barcelona                            ['Cafe']   5873.0   \n",
       "3692         id_532      Milan    ['Japanese', 'Seafood', 'Sushi']    533.0   \n",
       "1391        id_2961     Prague                           ['Grill']   2968.0   \n",
       "6839        id_2849      Milan  ['Sushi', 'Fusion', 'Street Food']   2851.0   \n",
       "\n",
       "       Rating Price Range  Number of Reviews  \\\n",
       "16725     5.0         NaN                4.0   \n",
       "35905     4.0           $                NaN   \n",
       "3692      4.5    $$ - $$$              441.0   \n",
       "1391      4.0         NaN                NaN   \n",
       "6839      5.0         NaN                4.0   \n",
       "\n",
       "                                                 Reviews  \\\n",
       "16725             [['Great Bio offers'], ['05/20/2017']]   \n",
       "35905                    [['Freshness'], ['08/02/2016']]   \n",
       "3692   [['Ridiculously expensive experience!', 'my fa...   \n",
       "1391   [['Sympathethic and nice place'], ['08/23/2015']]   \n",
       "6839                                            [[], []]   \n",
       "\n",
       "                                                  URL_TA      ID_TA  \n",
       "16725  /Restaurant_Review-g187309-d11014363-Reviews-T...  d11014363  \n",
       "35905  /Restaurant_Review-g187497-d10497174-Reviews-P...  d10497174  \n",
       "3692   /Restaurant_Review-g187849-d782156-Reviews-Mam...    d782156  \n",
       "1391   /Restaurant_Review-g274707-d7123548-Reviews-Pc...   d7123548  \n",
       "6839   /Restaurant_Review-g187849-d13167018-Reviews-F...  d13167018  "
      ]
     },
     "execution_count": 5,
     "metadata": {},
     "output_type": "execute_result"
    }
   ],
   "source": [
    "data.sample(5)"
   ]
  },
  {
   "cell_type": "code",
   "execution_count": 6,
   "metadata": {},
   "outputs": [],
   "source": [
    "data = data[data['Restaurant_id'] != '#error']"
   ]
  },
  {
   "cell_type": "code",
   "execution_count": 7,
   "metadata": {},
   "outputs": [],
   "source": [
    "data = data[data['ID_TA'] != '#error']"
   ]
  },
  {
   "cell_type": "code",
   "execution_count": 8,
   "metadata": {},
   "outputs": [
    {
     "name": "stdout",
     "output_type": "stream",
     "text": [
      "<class 'pandas.core.frame.DataFrame'>\n",
      "Int64Index: 40000 entries, 0 to 39999\n",
      "Data columns (total 10 columns):\n",
      " #   Column             Non-Null Count  Dtype  \n",
      "---  ------             --------------  -----  \n",
      " 0   Restaurant_id      40000 non-null  object \n",
      " 1   City               40000 non-null  object \n",
      " 2   Cuisine Style      30717 non-null  object \n",
      " 3   Ranking            40000 non-null  float64\n",
      " 4   Rating             40000 non-null  float64\n",
      " 5   Price Range        26114 non-null  object \n",
      " 6   Number of Reviews  37457 non-null  float64\n",
      " 7   Reviews            40000 non-null  object \n",
      " 8   URL_TA             40000 non-null  object \n",
      " 9   ID_TA              40000 non-null  object \n",
      "dtypes: float64(3), object(7)\n",
      "memory usage: 3.4+ MB\n"
     ]
    }
   ],
   "source": [
    "data.info()"
   ]
  },
  {
   "cell_type": "code",
   "execution_count": 9,
   "metadata": {},
   "outputs": [
    {
     "data": {
      "text/plain": [
       "'/Restaurant_Review-g186338-d780583-Reviews-Gaucho_Charlotte_Street-London_England.html'"
      ]
     },
     "execution_count": 9,
     "metadata": {},
     "output_type": "execute_result"
    }
   ],
   "source": [
    "data['URL_TA'][8419]"
   ]
  },
  {
   "cell_type": "code",
   "execution_count": 10,
   "metadata": {},
   "outputs": [
    {
     "data": {
      "text/plain": [
       "\"[['Unique cuisine', 'Delicious Nepalese food'], ['07/06/2017', '06/19/2016']]\""
      ]
     },
     "execution_count": 10,
     "metadata": {},
     "output_type": "execute_result"
    }
   ],
   "source": [
    "data['Reviews'][1]"
   ]
  },
  {
   "cell_type": "code",
   "execution_count": 11,
   "metadata": {},
   "outputs": [
    {
     "data": {
      "text/plain": [
       "Index(['Restaurant_id', 'City', 'Cuisine Style', 'Ranking', 'Rating',\n",
       "       'Price Range', 'Number of Reviews', 'Reviews', 'URL_TA', 'ID_TA'],\n",
       "      dtype='object')"
      ]
     },
     "execution_count": 11,
     "metadata": {},
     "output_type": "execute_result"
    }
   ],
   "source": [
    "data.columns"
   ]
  },
  {
   "cell_type": "code",
   "execution_count": 12,
   "metadata": {},
   "outputs": [
    {
     "data": {
      "text/plain": [
       "0    37457\n",
       "1     2543\n",
       "Name: Number_of_Reviews_isNAN, dtype: int64"
      ]
     },
     "execution_count": 12,
     "metadata": {},
     "output_type": "execute_result"
    }
   ],
   "source": [
    "# Для примера я возьму столбец Number of Reviews\n",
    "data['Number_of_Reviews_isNAN'] = pd.isna(data['Number of Reviews']).astype('uint8')\n",
    "data['Number_of_Reviews_isNAN'].value_counts()"
   ]
  },
  {
   "cell_type": "code",
   "execution_count": 13,
   "metadata": {},
   "outputs": [
    {
     "data": {
      "text/plain": [
       "Restaurant_id              11909\n",
       "City                          31\n",
       "Cuisine Style               9008\n",
       "Ranking                    11936\n",
       "Rating                         9\n",
       "Price Range                    4\n",
       "Number of Reviews           1460\n",
       "Reviews                    33516\n",
       "URL_TA                     39980\n",
       "ID_TA                      39980\n",
       "Number_of_Reviews_isNAN        2\n",
       "dtype: int64"
      ]
     },
     "execution_count": 13,
     "metadata": {},
     "output_type": "execute_result"
    }
   ],
   "source": [
    "# смотрим категориальные признаки\n",
    "\n",
    "data.nunique(dropna=False)"
   ]
  },
  {
   "cell_type": "markdown",
   "metadata": {},
   "source": [
    "#### Работа с дублями\n",
    "(как показала практика - их очень много)"
   ]
  },
  {
   "cell_type": "code",
   "execution_count": 14,
   "metadata": {},
   "outputs": [
    {
     "data": {
      "text/plain": [
       "d7337366     2\n",
       "d11921719    2\n",
       "d13002276    2\n",
       "d11999956    2\n",
       "d3685055     2\n",
       "            ..\n",
       "d1097463     1\n",
       "d4472311     1\n",
       "d8460858     1\n",
       "d3703217     1\n",
       "d13298288    1\n",
       "Name: ID_TA, Length: 39980, dtype: int64"
      ]
     },
     "execution_count": 14,
     "metadata": {},
     "output_type": "execute_result"
    }
   ],
   "source": [
    "# т.к. это база Trip_Adviser, то начнем с их уникального идентификатора ресторана в базе данных\n",
    "\n",
    "data['ID_TA'].value_counts()"
   ]
  },
  {
   "cell_type": "code",
   "execution_count": 15,
   "metadata": {},
   "outputs": [
    {
     "data": {
      "text/html": [
       "<div>\n",
       "<style scoped>\n",
       "    .dataframe tbody tr th:only-of-type {\n",
       "        vertical-align: middle;\n",
       "    }\n",
       "\n",
       "    .dataframe tbody tr th {\n",
       "        vertical-align: top;\n",
       "    }\n",
       "\n",
       "    .dataframe thead th {\n",
       "        text-align: right;\n",
       "    }\n",
       "</style>\n",
       "<table border=\"1\" class=\"dataframe\">\n",
       "  <thead>\n",
       "    <tr style=\"text-align: right;\">\n",
       "      <th></th>\n",
       "      <th>Restaurant_id</th>\n",
       "      <th>City</th>\n",
       "      <th>Cuisine Style</th>\n",
       "      <th>Ranking</th>\n",
       "      <th>Rating</th>\n",
       "      <th>Price Range</th>\n",
       "      <th>Number of Reviews</th>\n",
       "      <th>Reviews</th>\n",
       "      <th>URL_TA</th>\n",
       "      <th>ID_TA</th>\n",
       "      <th>Number_of_Reviews_isNAN</th>\n",
       "    </tr>\n",
       "  </thead>\n",
       "  <tbody>\n",
       "    <tr>\n",
       "      <th>15295</th>\n",
       "      <td>id_475</td>\n",
       "      <td>Madrid</td>\n",
       "      <td>['Japanese', 'Vegetarian Friendly', 'Vegan Opt...</td>\n",
       "      <td>476.0</td>\n",
       "      <td>4.5</td>\n",
       "      <td>$$ - $$$</td>\n",
       "      <td>67.0</td>\n",
       "      <td>[['Whenever in Madrid, we never miss this gem....</td>\n",
       "      <td>/Restaurant_Review-g187514-d9877640-Reviews-Ra...</td>\n",
       "      <td>d9877640</td>\n",
       "      <td>0</td>\n",
       "    </tr>\n",
       "    <tr>\n",
       "      <th>15565</th>\n",
       "      <td>id_530</td>\n",
       "      <td>Madrid</td>\n",
       "      <td>['Japanese', 'Vegetarian Friendly', 'Vegan Opt...</td>\n",
       "      <td>531.0</td>\n",
       "      <td>4.5</td>\n",
       "      <td>$$ - $$$</td>\n",
       "      <td>67.0</td>\n",
       "      <td>[['Whenever in Madrid, we never miss this gem....</td>\n",
       "      <td>/Restaurant_Review-g187514-d9877640-Reviews-Ra...</td>\n",
       "      <td>d9877640</td>\n",
       "      <td>0</td>\n",
       "    </tr>\n",
       "  </tbody>\n",
       "</table>\n",
       "</div>"
      ],
      "text/plain": [
       "      Restaurant_id    City  \\\n",
       "15295        id_475  Madrid   \n",
       "15565        id_530  Madrid   \n",
       "\n",
       "                                           Cuisine Style  Ranking  Rating  \\\n",
       "15295  ['Japanese', 'Vegetarian Friendly', 'Vegan Opt...    476.0     4.5   \n",
       "15565  ['Japanese', 'Vegetarian Friendly', 'Vegan Opt...    531.0     4.5   \n",
       "\n",
       "      Price Range  Number of Reviews  \\\n",
       "15295    $$ - $$$               67.0   \n",
       "15565    $$ - $$$               67.0   \n",
       "\n",
       "                                                 Reviews  \\\n",
       "15295  [['Whenever in Madrid, we never miss this gem....   \n",
       "15565  [['Whenever in Madrid, we never miss this gem....   \n",
       "\n",
       "                                                  URL_TA     ID_TA  \\\n",
       "15295  /Restaurant_Review-g187514-d9877640-Reviews-Ra...  d9877640   \n",
       "15565  /Restaurant_Review-g187514-d9877640-Reviews-Ra...  d9877640   \n",
       "\n",
       "       Number_of_Reviews_isNAN  \n",
       "15295                        0  \n",
       "15565                        0  "
      ]
     },
     "execution_count": 15,
     "metadata": {},
     "output_type": "execute_result"
    }
   ],
   "source": [
    "# посмотрим внутри на примере одного дубля\n",
    "\n",
    "data_ID_TA = data[data['ID_TA'] == 'd9877640']\n",
    "data_ID_TA\n",
    "\n",
    "# все одинаково кроме 'Restaurant-id'"
   ]
  },
  {
   "cell_type": "code",
   "execution_count": 16,
   "metadata": {},
   "outputs": [
    {
     "data": {
      "text/plain": [
       "/Restaurant_Review-g187514-d9802625-Reviews-La_Vie_en_Doux-Madrid.html                            2\n",
       "/Restaurant_Review-g187514-d7337366-Reviews-Lady_Madonna-Madrid.html                              2\n",
       "/Restaurant_Review-g187514-d1315077-Reviews-El_Pimiento_Verde-Madrid.html                         2\n",
       "/Restaurant_Review-g187514-d987900-Reviews-Compostela_Restaurante-Madrid.html                     2\n",
       "/Restaurant_Review-g187514-d4600226-Reviews-Cafeteria_Teresa-Madrid.html                          2\n",
       "                                                                                                 ..\n",
       "/Restaurant_Review-g187497-d5820228-Reviews-The_Box-Barcelona_Catalonia.html                      1\n",
       "/Restaurant_Review-g189541-d9561974-Reviews-Ristorante_Buono-Copenhagen_Zealand.html              1\n",
       "/Restaurant_Review-g187849-d12447161-Reviews-Le_Biciclette_Art_Bar_Bistrot-Milan_Lombardy.html    1\n",
       "/Restaurant_Review-g186605-d5863819-Reviews-The_Farmhouse_Cafe-Dublin_County_Dublin.html          1\n",
       "/Restaurant_Review-g186525-d806763-Reviews-Cafe_Marlayne-Edinburgh_Scotland.html                  1\n",
       "Name: URL_TA, Length: 39980, dtype: int64"
      ]
     },
     "execution_count": 16,
     "metadata": {},
     "output_type": "execute_result"
    }
   ],
   "source": [
    "# чтобы удостовериться в повторяемости дублей посмотрим следующий признак 'URL_TA'\n",
    "\n",
    "data['URL_TA'].value_counts()"
   ]
  },
  {
   "cell_type": "code",
   "execution_count": 17,
   "metadata": {},
   "outputs": [
    {
     "data": {
      "text/html": [
       "<div>\n",
       "<style scoped>\n",
       "    .dataframe tbody tr th:only-of-type {\n",
       "        vertical-align: middle;\n",
       "    }\n",
       "\n",
       "    .dataframe tbody tr th {\n",
       "        vertical-align: top;\n",
       "    }\n",
       "\n",
       "    .dataframe thead th {\n",
       "        text-align: right;\n",
       "    }\n",
       "</style>\n",
       "<table border=\"1\" class=\"dataframe\">\n",
       "  <thead>\n",
       "    <tr style=\"text-align: right;\">\n",
       "      <th></th>\n",
       "      <th>Restaurant_id</th>\n",
       "      <th>City</th>\n",
       "      <th>Cuisine Style</th>\n",
       "      <th>Ranking</th>\n",
       "      <th>Rating</th>\n",
       "      <th>Price Range</th>\n",
       "      <th>Number of Reviews</th>\n",
       "      <th>Reviews</th>\n",
       "      <th>URL_TA</th>\n",
       "      <th>ID_TA</th>\n",
       "      <th>Number_of_Reviews_isNAN</th>\n",
       "    </tr>\n",
       "  </thead>\n",
       "  <tbody>\n",
       "    <tr>\n",
       "      <th>15295</th>\n",
       "      <td>id_475</td>\n",
       "      <td>Madrid</td>\n",
       "      <td>['Japanese', 'Vegetarian Friendly', 'Vegan Opt...</td>\n",
       "      <td>476.0</td>\n",
       "      <td>4.5</td>\n",
       "      <td>$$ - $$$</td>\n",
       "      <td>67.0</td>\n",
       "      <td>[['Whenever in Madrid, we never miss this gem....</td>\n",
       "      <td>/Restaurant_Review-g187514-d9877640-Reviews-Ra...</td>\n",
       "      <td>d9877640</td>\n",
       "      <td>0</td>\n",
       "    </tr>\n",
       "    <tr>\n",
       "      <th>15565</th>\n",
       "      <td>id_530</td>\n",
       "      <td>Madrid</td>\n",
       "      <td>['Japanese', 'Vegetarian Friendly', 'Vegan Opt...</td>\n",
       "      <td>531.0</td>\n",
       "      <td>4.5</td>\n",
       "      <td>$$ - $$$</td>\n",
       "      <td>67.0</td>\n",
       "      <td>[['Whenever in Madrid, we never miss this gem....</td>\n",
       "      <td>/Restaurant_Review-g187514-d9877640-Reviews-Ra...</td>\n",
       "      <td>d9877640</td>\n",
       "      <td>0</td>\n",
       "    </tr>\n",
       "  </tbody>\n",
       "</table>\n",
       "</div>"
      ],
      "text/plain": [
       "      Restaurant_id    City  \\\n",
       "15295        id_475  Madrid   \n",
       "15565        id_530  Madrid   \n",
       "\n",
       "                                           Cuisine Style  Ranking  Rating  \\\n",
       "15295  ['Japanese', 'Vegetarian Friendly', 'Vegan Opt...    476.0     4.5   \n",
       "15565  ['Japanese', 'Vegetarian Friendly', 'Vegan Opt...    531.0     4.5   \n",
       "\n",
       "      Price Range  Number of Reviews  \\\n",
       "15295    $$ - $$$               67.0   \n",
       "15565    $$ - $$$               67.0   \n",
       "\n",
       "                                                 Reviews  \\\n",
       "15295  [['Whenever in Madrid, we never miss this gem....   \n",
       "15565  [['Whenever in Madrid, we never miss this gem....   \n",
       "\n",
       "                                                  URL_TA     ID_TA  \\\n",
       "15295  /Restaurant_Review-g187514-d9877640-Reviews-Ra...  d9877640   \n",
       "15565  /Restaurant_Review-g187514-d9877640-Reviews-Ra...  d9877640   \n",
       "\n",
       "       Number_of_Reviews_isNAN  \n",
       "15295                        0  \n",
       "15565                        0  "
      ]
     },
     "execution_count": 17,
     "metadata": {},
     "output_type": "execute_result"
    }
   ],
   "source": [
    "# дубли есть и их то же количество\n",
    "# посмотрим, что внутри.\n",
    "data_ID_TA = data[data['URL_TA'] == '/Restaurant_Review-g187514-d9877640-Reviews-Raku_Sushi-Madrid.html']\n",
    "data_ID_TA\n",
    "# полное совпадение с предыдущей историей"
   ]
  },
  {
   "cell_type": "code",
   "execution_count": 18,
   "metadata": {},
   "outputs": [],
   "source": [
    "# с чистой совестью могу удалить дубли (проверка показала, что также исчезли дубли и в 'URL_TA')\n",
    "\n",
    "data.drop_duplicates(subset=['ID_TA'], inplace=True)"
   ]
  },
  {
   "cell_type": "code",
   "execution_count": 19,
   "metadata": {},
   "outputs": [
    {
     "name": "stdout",
     "output_type": "stream",
     "text": [
      "<class 'pandas.core.frame.DataFrame'>\n",
      "Int64Index: 39980 entries, 0 to 39999\n",
      "Data columns (total 11 columns):\n",
      " #   Column                   Non-Null Count  Dtype  \n",
      "---  ------                   --------------  -----  \n",
      " 0   Restaurant_id            39980 non-null  object \n",
      " 1   City                     39980 non-null  object \n",
      " 2   Cuisine Style            30701 non-null  object \n",
      " 3   Ranking                  39980 non-null  float64\n",
      " 4   Rating                   39980 non-null  float64\n",
      " 5   Price Range              26101 non-null  object \n",
      " 6   Number of Reviews        37437 non-null  float64\n",
      " 7   Reviews                  39980 non-null  object \n",
      " 8   URL_TA                   39980 non-null  object \n",
      " 9   ID_TA                    39980 non-null  object \n",
      " 10  Number_of_Reviews_isNAN  39980 non-null  uint8  \n",
      "dtypes: float64(3), object(7), uint8(1)\n",
      "memory usage: 3.4+ MB\n"
     ]
    }
   ],
   "source": [
    "data.info()"
   ]
  },
  {
   "cell_type": "code",
   "execution_count": 20,
   "metadata": {},
   "outputs": [
    {
     "data": {
      "text/plain": [
       "id_871      18\n",
       "id_436      18\n",
       "id_633      18\n",
       "id_227      18\n",
       "id_71       17\n",
       "            ..\n",
       "id_9741      1\n",
       "id_4438      1\n",
       "id_11552     1\n",
       "id_8309      1\n",
       "id_10778     1\n",
       "Name: Restaurant_id, Length: 11907, dtype: int64"
      ]
     },
     "execution_count": 20,
     "metadata": {},
     "output_type": "execute_result"
    }
   ],
   "source": [
    "# посмотрим на дубли в 'Restaurant_id'\n",
    "\n",
    "data['Restaurant_id'].value_counts()"
   ]
  },
  {
   "cell_type": "code",
   "execution_count": 21,
   "metadata": {},
   "outputs": [
    {
     "data": {
      "text/html": [
       "<div>\n",
       "<style scoped>\n",
       "    .dataframe tbody tr th:only-of-type {\n",
       "        vertical-align: middle;\n",
       "    }\n",
       "\n",
       "    .dataframe tbody tr th {\n",
       "        vertical-align: top;\n",
       "    }\n",
       "\n",
       "    .dataframe thead th {\n",
       "        text-align: right;\n",
       "    }\n",
       "</style>\n",
       "<table border=\"1\" class=\"dataframe\">\n",
       "  <thead>\n",
       "    <tr style=\"text-align: right;\">\n",
       "      <th></th>\n",
       "      <th>Restaurant_id</th>\n",
       "      <th>City</th>\n",
       "      <th>Cuisine Style</th>\n",
       "      <th>Ranking</th>\n",
       "      <th>Rating</th>\n",
       "      <th>Price Range</th>\n",
       "      <th>Number of Reviews</th>\n",
       "      <th>Reviews</th>\n",
       "      <th>URL_TA</th>\n",
       "      <th>ID_TA</th>\n",
       "      <th>Number_of_Reviews_isNAN</th>\n",
       "    </tr>\n",
       "  </thead>\n",
       "  <tbody>\n",
       "    <tr>\n",
       "      <th>31576</th>\n",
       "      <td>id_871</td>\n",
       "      <td>Lyon</td>\n",
       "      <td>NaN</td>\n",
       "      <td>872.0</td>\n",
       "      <td>4.0</td>\n",
       "      <td>NaN</td>\n",
       "      <td>43.0</td>\n",
       "      <td>[[], []]</td>\n",
       "      <td>/Restaurant_Review-g661468-d7214794-Reviews-Re...</td>\n",
       "      <td>d7214794</td>\n",
       "      <td>0</td>\n",
       "    </tr>\n",
       "    <tr>\n",
       "      <th>36687</th>\n",
       "      <td>id_871</td>\n",
       "      <td>Madrid</td>\n",
       "      <td>['Spanish']</td>\n",
       "      <td>872.0</td>\n",
       "      <td>4.0</td>\n",
       "      <td>$$ - $$$</td>\n",
       "      <td>327.0</td>\n",
       "      <td>[['Great cocido!', 'Delicious'], ['11/19/2017'...</td>\n",
       "      <td>/Restaurant_Review-g187514-d4187302-Reviews-Cr...</td>\n",
       "      <td>d4187302</td>\n",
       "      <td>0</td>\n",
       "    </tr>\n",
       "    <tr>\n",
       "      <th>26161</th>\n",
       "      <td>id_871</td>\n",
       "      <td>Edinburgh</td>\n",
       "      <td>['Italian', 'Wine Bar']</td>\n",
       "      <td>872.0</td>\n",
       "      <td>5.0</td>\n",
       "      <td>$$ - $$$</td>\n",
       "      <td>8.0</td>\n",
       "      <td>[['Great fine - simple, friendly and nice win....</td>\n",
       "      <td>/Restaurant_Review-g186525-d12868167-Reviews-B...</td>\n",
       "      <td>d12868167</td>\n",
       "      <td>0</td>\n",
       "    </tr>\n",
       "    <tr>\n",
       "      <th>11434</th>\n",
       "      <td>id_871</td>\n",
       "      <td>Berlin</td>\n",
       "      <td>['Asian', 'Vegetarian Friendly', 'Gluten Free ...</td>\n",
       "      <td>872.0</td>\n",
       "      <td>4.5</td>\n",
       "      <td>$$ - $$$</td>\n",
       "      <td>37.0</td>\n",
       "      <td>[['Honest, fun and so good!', 'Amazing!!'], ['...</td>\n",
       "      <td>/Restaurant_Review-g187323-d12165690-Reviews-M...</td>\n",
       "      <td>d12165690</td>\n",
       "      <td>0</td>\n",
       "    </tr>\n",
       "    <tr>\n",
       "      <th>1172</th>\n",
       "      <td>id_871</td>\n",
       "      <td>Geneva</td>\n",
       "      <td>['International']</td>\n",
       "      <td>876.0</td>\n",
       "      <td>4.0</td>\n",
       "      <td>$$ - $$$</td>\n",
       "      <td>28.0</td>\n",
       "      <td>[['Wild Girls Mess - A place Where Staff igno....</td>\n",
       "      <td>/Restaurant_Review-g188057-d4462793-Reviews-BG...</td>\n",
       "      <td>d4462793</td>\n",
       "      <td>0</td>\n",
       "    </tr>\n",
       "    <tr>\n",
       "      <th>36816</th>\n",
       "      <td>id_871</td>\n",
       "      <td>Brussels</td>\n",
       "      <td>['Italian', 'Pizza', 'European', 'Mediterranea...</td>\n",
       "      <td>872.0</td>\n",
       "      <td>4.0</td>\n",
       "      <td>$$ - $$$</td>\n",
       "      <td>39.0</td>\n",
       "      <td>[['I lovely this family restaurant', 'Good piz...</td>\n",
       "      <td>/Restaurant_Review-g188644-d4608409-Reviews-La...</td>\n",
       "      <td>d4608409</td>\n",
       "      <td>0</td>\n",
       "    </tr>\n",
       "    <tr>\n",
       "      <th>22885</th>\n",
       "      <td>id_871</td>\n",
       "      <td>Barcelona</td>\n",
       "      <td>['Mediterranean', 'Wine Bar', 'International',...</td>\n",
       "      <td>872.0</td>\n",
       "      <td>4.5</td>\n",
       "      <td>$$$$</td>\n",
       "      <td>102.0</td>\n",
       "      <td>[['Great wine tasting', 'Excellent meal with a...</td>\n",
       "      <td>/Restaurant_Review-g187497-d7332637-Reviews-Bo...</td>\n",
       "      <td>d7332637</td>\n",
       "      <td>0</td>\n",
       "    </tr>\n",
       "  </tbody>\n",
       "</table>\n",
       "</div>"
      ],
      "text/plain": [
       "      Restaurant_id       City  \\\n",
       "31576        id_871       Lyon   \n",
       "36687        id_871     Madrid   \n",
       "26161        id_871  Edinburgh   \n",
       "11434        id_871     Berlin   \n",
       "1172         id_871     Geneva   \n",
       "36816        id_871   Brussels   \n",
       "22885        id_871  Barcelona   \n",
       "\n",
       "                                           Cuisine Style  Ranking  Rating  \\\n",
       "31576                                                NaN    872.0     4.0   \n",
       "36687                                        ['Spanish']    872.0     4.0   \n",
       "26161                            ['Italian', 'Wine Bar']    872.0     5.0   \n",
       "11434  ['Asian', 'Vegetarian Friendly', 'Gluten Free ...    872.0     4.5   \n",
       "1172                                   ['International']    876.0     4.0   \n",
       "36816  ['Italian', 'Pizza', 'European', 'Mediterranea...    872.0     4.0   \n",
       "22885  ['Mediterranean', 'Wine Bar', 'International',...    872.0     4.5   \n",
       "\n",
       "      Price Range  Number of Reviews  \\\n",
       "31576         NaN               43.0   \n",
       "36687    $$ - $$$              327.0   \n",
       "26161    $$ - $$$                8.0   \n",
       "11434    $$ - $$$               37.0   \n",
       "1172     $$ - $$$               28.0   \n",
       "36816    $$ - $$$               39.0   \n",
       "22885        $$$$              102.0   \n",
       "\n",
       "                                                 Reviews  \\\n",
       "31576                                           [[], []]   \n",
       "36687  [['Great cocido!', 'Delicious'], ['11/19/2017'...   \n",
       "26161  [['Great fine - simple, friendly and nice win....   \n",
       "11434  [['Honest, fun and so good!', 'Amazing!!'], ['...   \n",
       "1172   [['Wild Girls Mess - A place Where Staff igno....   \n",
       "36816  [['I lovely this family restaurant', 'Good piz...   \n",
       "22885  [['Great wine tasting', 'Excellent meal with a...   \n",
       "\n",
       "                                                  URL_TA      ID_TA  \\\n",
       "31576  /Restaurant_Review-g661468-d7214794-Reviews-Re...   d7214794   \n",
       "36687  /Restaurant_Review-g187514-d4187302-Reviews-Cr...   d4187302   \n",
       "26161  /Restaurant_Review-g186525-d12868167-Reviews-B...  d12868167   \n",
       "11434  /Restaurant_Review-g187323-d12165690-Reviews-M...  d12165690   \n",
       "1172   /Restaurant_Review-g188057-d4462793-Reviews-BG...   d4462793   \n",
       "36816  /Restaurant_Review-g188644-d4608409-Reviews-La...   d4608409   \n",
       "22885  /Restaurant_Review-g187497-d7332637-Reviews-Bo...   d7332637   \n",
       "\n",
       "       Number_of_Reviews_isNAN  \n",
       "31576                        0  \n",
       "36687                        0  \n",
       "26161                        0  \n",
       "11434                        0  \n",
       "1172                         0  \n",
       "36816                        0  \n",
       "22885                        0  "
      ]
     },
     "execution_count": 21,
     "metadata": {},
     "output_type": "execute_result"
    }
   ],
   "source": [
    "# посмотрим на содержимое\n",
    "\n",
    "data_ID = data[data['Restaurant_id'] == 'id_871']\n",
    "data_ID.sample(7)"
   ]
  },
  {
   "cell_type": "markdown",
   "metadata": {},
   "source": [
    "Анализ 'Restaurant_id' показал, что первые две цифры совпадают с первыми двумя цифрами в 'Ranking' место ресторана в городе. Можно сгруппировать и ввести новый признак. Это сделано в конце. Удалять дубли нецелесообразно."
   ]
  },
  {
   "cell_type": "markdown",
   "metadata": {},
   "source": [
    "### City\n",
    "посмотрим параметр City"
   ]
  },
  {
   "cell_type": "code",
   "execution_count": 22,
   "metadata": {},
   "outputs": [
    {
     "data": {
      "text/plain": [
       "London        5757\n",
       "Paris         4897\n",
       "Madrid        3088\n",
       "Barcelona     2734\n",
       "Berlin        2155\n",
       "Milan         2133\n",
       "Rome          2078\n",
       "Prague        1443\n",
       "Lisbon        1300\n",
       "Vienna        1166\n",
       "Amsterdam     1086\n",
       "Brussels      1060\n",
       "Hamburg        949\n",
       "Munich         893\n",
       "Lyon           892\n",
       "Stockholm      820\n",
       "Budapest       816\n",
       "Warsaw         727\n",
       "Dublin         673\n",
       "Copenhagen     659\n",
       "Athens         628\n",
       "Edinburgh      596\n",
       "Zurich         538\n",
       "Oporto         513\n",
       "Geneva         481\n",
       "Krakow         443\n",
       "Oslo           385\n",
       "Helsinki       376\n",
       "Bratislava     301\n",
       "Luxembourg     210\n",
       "Ljubljana      183\n",
       "Name: City, dtype: int64"
      ]
     },
     "execution_count": 22,
     "metadata": {},
     "output_type": "execute_result"
    }
   ],
   "source": [
    "data['City'].value_counts(dropna = False)"
   ]
  },
  {
   "cell_type": "code",
   "execution_count": 23,
   "metadata": {},
   "outputs": [],
   "source": [
    "# Добавил в датасет население городов City_pop - внешний источник данных: Википедия. данные на 2018 год\n",
    "\n",
    "dict_tmp = {\n",
    "    'London': 8787892,\n",
    "    'Paris': 2140526,\n",
    "    'Madrid': 3223334,\n",
    "    'Barcelona': 1620343,\n",
    "    'Berlin': 3601131,\n",
    "    'Milan': 1366180,\n",
    "    'Rome': 2872800,\n",
    "    'Prague': 1280508,\n",
    "    'Lisbon': 505526,\n",
    "    'Vienna': 1840573,\n",
    "    'Amsterdam': 859732,\n",
    "    'Brussels': 144784,\n",
    "    'Hamburg': 1830584,\n",
    "    'Munich': 1456039,\n",
    "    'Lyon': 515695,\n",
    "    'Stockholm': 961609,\n",
    "    'Budapest': 1749734,\n",
    "    'Warsaw': 1758143,\n",
    "    'Dublin': 553165,\n",
    "    'Copenhagen': 615993,\n",
    "    'Athens': 655780,\n",
    "    'Edinburgh': 476100,\n",
    "    'Zurich': 402275,\n",
    "    'Oporto': 221800,\n",
    "    'Geneva': 196150,\n",
    "    'Krakow': 766739,\n",
    "    'Oslo': 673469,\n",
    "    'Helsinki': 643272,\n",
    "    'Bratislava': 413192,\n",
    "    'Luxembourg': 576249,\n",
    "    'Ljubljana': 277554\n",
    "}\n",
    "\n",
    "data['City_pop'] = data['City'].apply(lambda x: dict_tmp[x])"
   ]
  },
  {
   "cell_type": "code",
   "execution_count": 24,
   "metadata": {},
   "outputs": [],
   "source": [
    "# добавил бинарный признак столица или нет.\n",
    "\n",
    "dict_tmp = {\n",
    "    'London': 1,\n",
    "    'Paris': 1,\n",
    "    'Madrid': 1,\n",
    "    'Barcelona': 0,\n",
    "    'Berlin': 1,\n",
    "    'Milan': 0,\n",
    "    'Rome': 1,\n",
    "    'Prague': 1,\n",
    "    'Lisbon': 1,\n",
    "    'Vienna': 1,\n",
    "    'Amsterdam': 1,\n",
    "    'Brussels': 1,\n",
    "    'Hamburg': 0,\n",
    "    'Munich': 0,\n",
    "    'Lyon': 0,\n",
    "    'Stockholm': 1,\n",
    "    'Budapest': 1,\n",
    "    'Warsaw': 1,\n",
    "    'Dublin': 1,\n",
    "    'Copenhagen': 1,\n",
    "    'Athens': 1,\n",
    "    'Edinburgh': 1,\n",
    "    'Zurich': 1,\n",
    "    'Oporto': 0,\n",
    "    'Geneva': 1,\n",
    "    'Krakow': 0,\n",
    "    'Oslo': 1,\n",
    "    'Helsinki': 1,\n",
    "    'Bratislava': 1,\n",
    "    'Luxembourg': 1,\n",
    "    'Ljubljana': 1\n",
    "}\n",
    "\n",
    "data['Capital'] = data['City'].apply(lambda x: dict_tmp[x])"
   ]
  },
  {
   "cell_type": "markdown",
   "metadata": {},
   "source": [
    "Добавим столбец Country - название страны."
   ]
  },
  {
   "cell_type": "code",
   "execution_count": 25,
   "metadata": {},
   "outputs": [],
   "source": [
    "dict_tmp = {\n",
    "    'London': 'UK',\n",
    "    'Paris': 'FR',\n",
    "    'Madrid': 'ESP',\n",
    "    'Barcelona': 'ESP',\n",
    "    'Berlin': 'GER',\n",
    "    'Milan': 'IT',\n",
    "    'Rome': 'IT',\n",
    "    'Prague': 'CZ',\n",
    "    'Lisbon': 'PO',\n",
    "    'Vienna': 'AUS',\n",
    "    'Amsterdam': 'NDL',\n",
    "    'Brussels': 'BLG',\n",
    "    'Hamburg': 'GER',\n",
    "    'Munich': 'GER',\n",
    "    'Lyon': 'FR',\n",
    "    'Stockholm': 'SWE',\n",
    "    'Budapest': 'HUN',\n",
    "    'Warsaw': 'PL',\n",
    "    'Dublin': 'IRL',\n",
    "    'Copenhagen': 'DM',\n",
    "    'Athens': 'GRC',\n",
    "    'Edinburgh': 'SCT',\n",
    "    'Zurich': 'SWZ',\n",
    "    'Oporto': 'PO',\n",
    "    'Geneva': 'SWZ',\n",
    "    'Krakow': 'PL',\n",
    "    'Oslo': 'NOR',\n",
    "    'Helsinki': 'FIN',\n",
    "    'Bratislava': 'SVK',\n",
    "    'Luxembourg': 'LUX',\n",
    "    'Ljubljana': 'SVN'\n",
    "}\n",
    "\n",
    "data['Country'] = data['City'].apply(lambda x: dict_tmp[x])"
   ]
  },
  {
   "cell_type": "code",
   "execution_count": 26,
   "metadata": {},
   "outputs": [
    {
     "data": {
      "text/plain": [
       "23"
      ]
     },
     "execution_count": 26,
     "metadata": {},
     "output_type": "execute_result"
    }
   ],
   "source": [
    "data['Country'].nunique()"
   ]
  },
  {
   "cell_type": "code",
   "execution_count": 27,
   "metadata": {},
   "outputs": [],
   "source": [
    "data_tmp = data['Country'].value_counts()\n",
    "data['Rest_Count_Country'] = data['Country'].apply(lambda x: data_tmp[x])"
   ]
  },
  {
   "cell_type": "code",
   "execution_count": 28,
   "metadata": {},
   "outputs": [],
   "source": [
    "# Создадим признак Rest_counts - кол-во ресторанов в городе.\n",
    "\n",
    "data_tmp = data['City'].value_counts()\n",
    "data['R_counts'] = data['City'].apply(lambda x: data_tmp[x])"
   ]
  },
  {
   "cell_type": "code",
   "execution_count": 29,
   "metadata": {},
   "outputs": [],
   "source": [
    "# Добавим столбец R_City_concentration - коэффициент распределения ресторанов в городах страны.\n",
    "data['Rest_City_concentration'] = data['R_counts'] / data['Rest_Count_Country']"
   ]
  },
  {
   "cell_type": "code",
   "execution_count": 30,
   "metadata": {},
   "outputs": [],
   "source": [
    "# с сайта World Tourism Organization (UNWTO) скачал отчет https://www.e-unwto.org/doi/book/10.18111/9789284419876\n",
    "# взял значение, сколько тратит в среднем один турист при посещении той или иной страны в долл.США.\n",
    "\n",
    "dict_tmp = {\n",
    "    'UK': 1337.63,\n",
    "    'FR': 659.38,\n",
    "    'ESP': 803.33,\n",
    "    'GER': 1052.25,\n",
    "    'IT': 768.46,\n",
    "    'CZ': 492.58,\n",
    "    'PO': 771.21,\n",
    "    'AUS': 684.90,\n",
    "    'NDL': 887.92,\n",
    "    'BLG': 1552.20,\n",
    "    'SWE': 1944.50,\n",
    "    'HUN': 371.26,\n",
    "    'PL': 628.59,\n",
    "    'IRL': 513.47,\n",
    "    'DM': 653.65,\n",
    "    'GRC': 589.50,\n",
    "    'SCT': 1337.63,\n",
    "    'SWZ': 1562.87,\n",
    "    'NOR': 873.15,\n",
    "    'FIN': 979.20,\n",
    "    'SVK': 412.37,\n",
    "    'LUX': 3867.17,\n",
    "    'SVN': 799.47\n",
    "}\n",
    "\n",
    "data['spend_visitor'] = data['Country'].apply(lambda x: dict_tmp[x])"
   ]
  },
  {
   "cell_type": "code",
   "execution_count": 31,
   "metadata": {},
   "outputs": [
    {
     "data": {
      "text/html": [
       "<div>\n",
       "<style scoped>\n",
       "    .dataframe tbody tr th:only-of-type {\n",
       "        vertical-align: middle;\n",
       "    }\n",
       "\n",
       "    .dataframe tbody tr th {\n",
       "        vertical-align: top;\n",
       "    }\n",
       "\n",
       "    .dataframe thead th {\n",
       "        text-align: right;\n",
       "    }\n",
       "</style>\n",
       "<table border=\"1\" class=\"dataframe\">\n",
       "  <thead>\n",
       "    <tr style=\"text-align: right;\">\n",
       "      <th></th>\n",
       "      <th>Restaurant_id</th>\n",
       "      <th>City</th>\n",
       "      <th>Cuisine Style</th>\n",
       "      <th>Ranking</th>\n",
       "      <th>Rating</th>\n",
       "      <th>Price Range</th>\n",
       "      <th>Number of Reviews</th>\n",
       "      <th>Reviews</th>\n",
       "      <th>URL_TA</th>\n",
       "      <th>ID_TA</th>\n",
       "      <th>Number_of_Reviews_isNAN</th>\n",
       "      <th>City_pop</th>\n",
       "      <th>Capital</th>\n",
       "      <th>Country</th>\n",
       "      <th>Rest_Count_Country</th>\n",
       "      <th>R_counts</th>\n",
       "      <th>Rest_City_concentration</th>\n",
       "      <th>spend_visitor</th>\n",
       "    </tr>\n",
       "  </thead>\n",
       "  <tbody>\n",
       "    <tr>\n",
       "      <th>11556</th>\n",
       "      <td>id_2400</td>\n",
       "      <td>Hamburg</td>\n",
       "      <td>['German']</td>\n",
       "      <td>2404.0</td>\n",
       "      <td>3.5</td>\n",
       "      <td>$$ - $$$</td>\n",
       "      <td>22.0</td>\n",
       "      <td>[['Poor service', 'Light, natural and deliciou...</td>\n",
       "      <td>/Restaurant_Review-g187331-d3865420-Reviews-Wi...</td>\n",
       "      <td>d3865420</td>\n",
       "      <td>0</td>\n",
       "      <td>1830584</td>\n",
       "      <td>0</td>\n",
       "      <td>GER</td>\n",
       "      <td>3997</td>\n",
       "      <td>949</td>\n",
       "      <td>0.237428</td>\n",
       "      <td>1052.25</td>\n",
       "    </tr>\n",
       "    <tr>\n",
       "      <th>28536</th>\n",
       "      <td>id_832</td>\n",
       "      <td>Barcelona</td>\n",
       "      <td>['Mediterranean', 'European', 'Spanish', 'Vege...</td>\n",
       "      <td>833.0</td>\n",
       "      <td>4.0</td>\n",
       "      <td>$$ - $$$</td>\n",
       "      <td>434.0</td>\n",
       "      <td>[['very simple, very good', '4.5 stars'], ['11...</td>\n",
       "      <td>/Restaurant_Review-g187497-d751583-Reviews-La_...</td>\n",
       "      <td>d751583</td>\n",
       "      <td>0</td>\n",
       "      <td>1620343</td>\n",
       "      <td>0</td>\n",
       "      <td>ESP</td>\n",
       "      <td>5822</td>\n",
       "      <td>2734</td>\n",
       "      <td>0.469598</td>\n",
       "      <td>803.33</td>\n",
       "    </tr>\n",
       "    <tr>\n",
       "      <th>23231</th>\n",
       "      <td>id_16362</td>\n",
       "      <td>London</td>\n",
       "      <td>['Indian', 'Asian', 'Bangladeshi', 'Halal']</td>\n",
       "      <td>16380.0</td>\n",
       "      <td>1.0</td>\n",
       "      <td>NaN</td>\n",
       "      <td>2.0</td>\n",
       "      <td>[['Very Small Portions', 'Stay very away'], ['...</td>\n",
       "      <td>/Restaurant_Review-g186338-d10765583-Reviews-M...</td>\n",
       "      <td>d10765583</td>\n",
       "      <td>0</td>\n",
       "      <td>8787892</td>\n",
       "      <td>1</td>\n",
       "      <td>UK</td>\n",
       "      <td>5757</td>\n",
       "      <td>5757</td>\n",
       "      <td>1.000000</td>\n",
       "      <td>1337.63</td>\n",
       "    </tr>\n",
       "  </tbody>\n",
       "</table>\n",
       "</div>"
      ],
      "text/plain": [
       "      Restaurant_id       City  \\\n",
       "11556       id_2400    Hamburg   \n",
       "28536        id_832  Barcelona   \n",
       "23231      id_16362     London   \n",
       "\n",
       "                                           Cuisine Style  Ranking  Rating  \\\n",
       "11556                                         ['German']   2404.0     3.5   \n",
       "28536  ['Mediterranean', 'European', 'Spanish', 'Vege...    833.0     4.0   \n",
       "23231        ['Indian', 'Asian', 'Bangladeshi', 'Halal']  16380.0     1.0   \n",
       "\n",
       "      Price Range  Number of Reviews  \\\n",
       "11556    $$ - $$$               22.0   \n",
       "28536    $$ - $$$              434.0   \n",
       "23231         NaN                2.0   \n",
       "\n",
       "                                                 Reviews  \\\n",
       "11556  [['Poor service', 'Light, natural and deliciou...   \n",
       "28536  [['very simple, very good', '4.5 stars'], ['11...   \n",
       "23231  [['Very Small Portions', 'Stay very away'], ['...   \n",
       "\n",
       "                                                  URL_TA      ID_TA  \\\n",
       "11556  /Restaurant_Review-g187331-d3865420-Reviews-Wi...   d3865420   \n",
       "28536  /Restaurant_Review-g187497-d751583-Reviews-La_...    d751583   \n",
       "23231  /Restaurant_Review-g186338-d10765583-Reviews-M...  d10765583   \n",
       "\n",
       "       Number_of_Reviews_isNAN  City_pop  Capital Country  Rest_Count_Country  \\\n",
       "11556                        0   1830584        0     GER                3997   \n",
       "28536                        0   1620343        0     ESP                5822   \n",
       "23231                        0   8787892        1      UK                5757   \n",
       "\n",
       "       R_counts  Rest_City_concentration  spend_visitor  \n",
       "11556       949                 0.237428        1052.25  \n",
       "28536      2734                 0.469598         803.33  \n",
       "23231      5757                 1.000000        1337.63  "
      ]
     },
     "execution_count": 31,
     "metadata": {},
     "output_type": "execute_result"
    }
   ],
   "source": [
    "data.sample(3)"
   ]
  },
  {
   "cell_type": "code",
   "execution_count": 32,
   "metadata": {},
   "outputs": [],
   "source": [
    "data.drop(['Rest_Count_Country'], axis=1, inplace=True)"
   ]
  },
  {
   "cell_type": "markdown",
   "metadata": {},
   "source": [
    "#### Number of Reviews \n",
    "количество отзывов о ресторане. чем больше город, тем больше отзывов."
   ]
  },
  {
   "cell_type": "code",
   "execution_count": 33,
   "metadata": {},
   "outputs": [
    {
     "data": {
      "text/plain": [
       "City\n",
       "London        746139.0\n",
       "Rome          583983.0\n",
       "Paris         561444.0\n",
       "Milan         352637.0\n",
       "Barcelona     337566.0\n",
       "Madrid        289335.0\n",
       "Prague        159005.0\n",
       "Lisbon        153705.0\n",
       "Amsterdam     151909.0\n",
       "Edinburgh     134393.0\n",
       "Berlin        129786.0\n",
       "Budapest      119171.0\n",
       "Dublin         99463.0\n",
       "Vienna         89407.0\n",
       "Brussels       88021.0\n",
       "Lyon           73148.0\n",
       "Munich         67301.0\n",
       "Oporto         64979.0\n",
       "Stockholm      59075.0\n",
       "Athens         58039.0\n",
       "Copenhagen     56498.0\n",
       "Krakow         50035.0\n",
       "Warsaw         42169.0\n",
       "Hamburg        40576.0\n",
       "Zurich         39167.0\n",
       "Oslo           34745.0\n",
       "Geneva         27793.0\n",
       "Helsinki       21252.0\n",
       "Luxembourg     16184.0\n",
       "Bratislava     13697.0\n",
       "Ljubljana      12646.0\n",
       "Name: Number of Reviews, dtype: float64"
      ]
     },
     "execution_count": 33,
     "metadata": {},
     "output_type": "execute_result"
    }
   ],
   "source": [
    "# распределение количества отзывов по городам.\n",
    "\n",
    "data_tmp = data.groupby(['City'])['Number of Reviews'].sum().sort_values(ascending=False)\n",
    "data_tmp"
   ]
  },
  {
   "cell_type": "code",
   "execution_count": 34,
   "metadata": {},
   "outputs": [],
   "source": [
    "# количество отзывов в каждом городе\n",
    "data['Rev_num_city'] = data['City'].apply(lambda x: data_tmp[x])"
   ]
  },
  {
   "cell_type": "code",
   "execution_count": 35,
   "metadata": {},
   "outputs": [],
   "source": [
    "# Добавим параметр Rel_num_rev - ранг ресторана по количеству отзывов о ресторанах в городе.\n",
    "data['Rel_num_rev'] = data['Ranking'] / data['Rev_num_city']"
   ]
  },
  {
   "cell_type": "code",
   "execution_count": 36,
   "metadata": {},
   "outputs": [],
   "source": [
    "data.drop(['Rev_num_city'], axis=1, inplace=True)"
   ]
  },
  {
   "cell_type": "markdown",
   "metadata": {},
   "source": [
    "#### 'Rating'\n",
    "посмотрим признак rating"
   ]
  },
  {
   "cell_type": "code",
   "execution_count": 37,
   "metadata": {},
   "outputs": [
    {
     "data": {
      "text/plain": [
       "4.0    13684\n",
       "4.5    10924\n",
       "3.5     6821\n",
       "5.0     3875\n",
       "3.0     2955\n",
       "2.5      915\n",
       "2.0      466\n",
       "1.0      201\n",
       "1.5      139\n",
       "Name: Rating, dtype: int64"
      ]
     },
     "execution_count": 37,
     "metadata": {},
     "output_type": "execute_result"
    }
   ],
   "source": [
    "data['Rating'].value_counts(dropna = False)\n",
    "# ошибок нет, пустых нет."
   ]
  },
  {
   "cell_type": "code",
   "execution_count": 38,
   "metadata": {},
   "outputs": [
    {
     "data": {
      "text/plain": [
       "count    39980.000000\n",
       "mean         3.992909\n",
       "std          0.668471\n",
       "min          1.000000\n",
       "25%          3.500000\n",
       "50%          4.000000\n",
       "75%          4.500000\n",
       "max          5.000000\n",
       "Name: Rating, dtype: float64"
      ]
     },
     "execution_count": 38,
     "metadata": {},
     "output_type": "execute_result"
    },
    {
     "data": {
      "image/png": "[encoded data removed]",
      "text/plain": [
       "<Figure size 432x288 with 1 Axes>"
      ]
     },
     "metadata": {
      "needs_background": "light"
     },
     "output_type": "display_data"
    }
   ],
   "source": [
    "data['Rating'].hist()\n",
    "data['Rating'].describe()"
   ]
  },
  {
   "cell_type": "code",
   "execution_count": 39,
   "metadata": {},
   "outputs": [
    {
     "name": "stdout",
     "output_type": "stream",
     "text": [
      "25-й перцентиль: 3.5, 75-й перцентиль: 4.5, IQR: 1.0,  Границы выбросов: [2.0, 6.0].\n"
     ]
    },
    {
     "data": {
      "text/plain": [
       "<matplotlib.legend.Legend at 0x1b2e3113888>"
      ]
     },
     "execution_count": 39,
     "metadata": {},
     "output_type": "execute_result"
    },
    {
     "data": {
      "image/png": "[encoded data removed]",
      "text/plain": [
       "<Figure size 432x288 with 1 Axes>"
      ]
     },
     "metadata": {
      "needs_background": "light"
     },
     "output_type": "display_data"
    }
   ],
   "source": [
    "median_r = data['Rating'].median()\n",
    "IQR_r = data['Rating'].quantile(0.75) - data['Rating'].quantile(0.25)\n",
    "perc25 = data['Rating'].quantile(0.25)\n",
    "perc75 = data['Rating'].quantile(0.75)\n",
    "print('25-й перцентиль: {},'.format(perc25), '75-й перцентиль: {},'.format(perc75), \"IQR: {}, \".format(IQR_r),\n",
    "      \"Границы выбросов: [{f}, {l}].\".format(f=perc25 - 1.5*IQR_r, l=perc75 + 1.5*IQR_r))\n",
    "data['Rating'].loc[data['Rating'].between(perc25 - 1.5*IQR_r, perc75 + 1.5*IQR_r)].hist(bins=10, range=(0, 10),\n",
    "                                                                                        label='IQR')\n",
    "plt.legend()"
   ]
  },
  {
   "cell_type": "code",
   "execution_count": 40,
   "metadata": {},
   "outputs": [
    {
     "name": "stdout",
     "output_type": "stream",
     "text": [
      "<class 'pandas.core.frame.DataFrame'>\n",
      "Int64Index: 39640 entries, 0 to 39999\n",
      "Data columns (total 18 columns):\n",
      " #   Column                   Non-Null Count  Dtype  \n",
      "---  ------                   --------------  -----  \n",
      " 0   Restaurant_id            39640 non-null  object \n",
      " 1   City                     39640 non-null  object \n",
      " 2   Cuisine Style            30514 non-null  object \n",
      " 3   Ranking                  39640 non-null  float64\n",
      " 4   Rating                   39640 non-null  float64\n",
      " 5   Price Range              26022 non-null  object \n",
      " 6   Number of Reviews        37246 non-null  float64\n",
      " 7   Reviews                  39640 non-null  object \n",
      " 8   URL_TA                   39640 non-null  object \n",
      " 9   ID_TA                    39640 non-null  object \n",
      " 10  Number_of_Reviews_isNAN  39640 non-null  uint8  \n",
      " 11  City_pop                 39640 non-null  int64  \n",
      " 12  Capital                  39640 non-null  int64  \n",
      " 13  Country                  39640 non-null  object \n",
      " 14  R_counts                 39640 non-null  int64  \n",
      " 15  Rest_City_concentration  39640 non-null  float64\n",
      " 16  spend_visitor            39640 non-null  float64\n",
      " 17  Rel_num_rev              39640 non-null  float64\n",
      "dtypes: float64(6), int64(3), object(8), uint8(1)\n",
      "memory usage: 5.5+ MB\n"
     ]
    }
   ],
   "source": [
    "data = data.loc[data['Rating'].between(perc25 - 1.5*IQR_r, perc75 + 1.5*IQR_r)]\n",
    "data.info()"
   ]
  },
  {
   "cell_type": "markdown",
   "metadata": {},
   "source": [
    "Еще раз посмотрим столбец data 'Number_of_Reviews_isNAN'"
   ]
  },
  {
   "cell_type": "code",
   "execution_count": 41,
   "metadata": {},
   "outputs": [
    {
     "name": "stdout",
     "output_type": "stream",
     "text": [
      "<class 'pandas.core.frame.DataFrame'>\n",
      "Int64Index: 39640 entries, 0 to 39999\n",
      "Data columns (total 18 columns):\n",
      " #   Column                   Non-Null Count  Dtype  \n",
      "---  ------                   --------------  -----  \n",
      " 0   Restaurant_id            39640 non-null  object \n",
      " 1   City                     39640 non-null  object \n",
      " 2   Cuisine Style            30514 non-null  object \n",
      " 3   Ranking                  39640 non-null  float64\n",
      " 4   Rating                   39640 non-null  float64\n",
      " 5   Price Range              26022 non-null  object \n",
      " 6   Number of Reviews        39640 non-null  float64\n",
      " 7   Reviews                  39640 non-null  object \n",
      " 8   URL_TA                   39640 non-null  object \n",
      " 9   ID_TA                    39640 non-null  object \n",
      " 10  Number_of_Reviews_isNAN  39640 non-null  uint8  \n",
      " 11  City_pop                 39640 non-null  int64  \n",
      " 12  Capital                  39640 non-null  int64  \n",
      " 13  Country                  39640 non-null  object \n",
      " 14  R_counts                 39640 non-null  int64  \n",
      " 15  Rest_City_concentration  39640 non-null  float64\n",
      " 16  spend_visitor            39640 non-null  float64\n",
      " 17  Rel_num_rev              39640 non-null  float64\n",
      "dtypes: float64(6), int64(3), object(8), uint8(1)\n",
      "memory usage: 5.5+ MB\n"
     ]
    }
   ],
   "source": [
    "data['Number of Reviews'].fillna(0, inplace=True)\n",
    "#data.drop('Number_of_Reviews_isNAN', inplace = True, axis = 1)\n",
    "data.info()"
   ]
  },
  {
   "cell_type": "code",
   "execution_count": 42,
   "metadata": {},
   "outputs": [
    {
     "data": {
      "text/plain": [
       "0    37246\n",
       "1     2394\n",
       "Name: Number_of_Reviews_isNAN, dtype: int64"
      ]
     },
     "execution_count": 42,
     "metadata": {},
     "output_type": "execute_result"
    }
   ],
   "source": [
    "# проверяем пропуски в ['Number of Reviews'].\n",
    "data['Number_of_Reviews_isNAN'].value_counts(dropna=False)"
   ]
  },
  {
   "cell_type": "markdown",
   "metadata": {},
   "source": [
    "### EDA_RDS"
   ]
  },
  {
   "cell_type": "code",
   "execution_count": 43,
   "metadata": {},
   "outputs": [
    {
     "data": {
      "image/png": "[encoded data removed]",
      "text/plain": [
       "<Figure size 432x288 with 1 Axes>"
      ]
     },
     "metadata": {
      "needs_background": "light"
     },
     "output_type": "display_data"
    }
   ],
   "source": [
    "#Ranking — место, которое занимает ресторан среди всех ресторанов города. Посмотрим на данные.\n",
    "\n",
    "for x in (data['City'].value_counts())[0:10].index:\n",
    "    data['Ranking'][data['City'] == x].hist(bins=100)\n",
    "plt.show()"
   ]
  },
  {
   "cell_type": "markdown",
   "metadata": {},
   "source": [
    "Можно предположить, что ресторан занимает 10е место из 1000, то он очень хороший, а если 10е место из 10, то плохой.\n",
    "Введем параметр Ranking_rel - относительный ранг от количества ресторанов в городе"
   ]
  },
  {
   "cell_type": "code",
   "execution_count": 44,
   "metadata": {},
   "outputs": [],
   "source": [
    "# параметр Relative_rank - относительного ранга = ранг / кол-во ресторанов в городе.\n",
    "data['Ranking_rel'] = round((data['Ranking'] / data['R_counts']), 2)"
   ]
  },
  {
   "cell_type": "code",
   "execution_count": 45,
   "metadata": {},
   "outputs": [
    {
     "data": {
      "text/html": [
       "<div>\n",
       "<style scoped>\n",
       "    .dataframe tbody tr th:only-of-type {\n",
       "        vertical-align: middle;\n",
       "    }\n",
       "\n",
       "    .dataframe tbody tr th {\n",
       "        vertical-align: top;\n",
       "    }\n",
       "\n",
       "    .dataframe thead th {\n",
       "        text-align: right;\n",
       "    }\n",
       "</style>\n",
       "<table border=\"1\" class=\"dataframe\">\n",
       "  <thead>\n",
       "    <tr style=\"text-align: right;\">\n",
       "      <th></th>\n",
       "      <th>Restaurant_id</th>\n",
       "      <th>City</th>\n",
       "      <th>Cuisine Style</th>\n",
       "      <th>Ranking</th>\n",
       "      <th>Rating</th>\n",
       "      <th>Price Range</th>\n",
       "      <th>Number of Reviews</th>\n",
       "      <th>Reviews</th>\n",
       "      <th>URL_TA</th>\n",
       "      <th>ID_TA</th>\n",
       "      <th>Number_of_Reviews_isNAN</th>\n",
       "      <th>City_pop</th>\n",
       "      <th>Capital</th>\n",
       "      <th>Country</th>\n",
       "      <th>R_counts</th>\n",
       "      <th>Rest_City_concentration</th>\n",
       "      <th>spend_visitor</th>\n",
       "      <th>Rel_num_rev</th>\n",
       "      <th>Ranking_rel</th>\n",
       "    </tr>\n",
       "  </thead>\n",
       "  <tbody>\n",
       "    <tr>\n",
       "      <th>38777</th>\n",
       "      <td>id_3572</td>\n",
       "      <td>Prague</td>\n",
       "      <td>['European', 'Czech', 'Eastern European', 'Cen...</td>\n",
       "      <td>3580.0</td>\n",
       "      <td>3.0</td>\n",
       "      <td>$$ - $$$</td>\n",
       "      <td>121.0</td>\n",
       "      <td>[['Overpriced for the quality', 'Good traditio...</td>\n",
       "      <td>/Restaurant_Review-g274707-d2365741-Reviews-St...</td>\n",
       "      <td>d2365741</td>\n",
       "      <td>0</td>\n",
       "      <td>1280508</td>\n",
       "      <td>1</td>\n",
       "      <td>CZ</td>\n",
       "      <td>1443</td>\n",
       "      <td>1.000000</td>\n",
       "      <td>492.58</td>\n",
       "      <td>0.022515</td>\n",
       "      <td>2.48</td>\n",
       "    </tr>\n",
       "    <tr>\n",
       "      <th>16849</th>\n",
       "      <td>id_6288</td>\n",
       "      <td>Berlin</td>\n",
       "      <td>NaN</td>\n",
       "      <td>6290.0</td>\n",
       "      <td>2.5</td>\n",
       "      <td>NaN</td>\n",
       "      <td>2.0</td>\n",
       "      <td>[['A great little restaurant'], ['10/20/2016']]</td>\n",
       "      <td>/Restaurant_Review-g187323-d11715911-Reviews-A...</td>\n",
       "      <td>d11715911</td>\n",
       "      <td>0</td>\n",
       "      <td>3601131</td>\n",
       "      <td>1</td>\n",
       "      <td>GER</td>\n",
       "      <td>2155</td>\n",
       "      <td>0.539154</td>\n",
       "      <td>1052.25</td>\n",
       "      <td>0.048464</td>\n",
       "      <td>2.92</td>\n",
       "    </tr>\n",
       "    <tr>\n",
       "      <th>12661</th>\n",
       "      <td>id_172</td>\n",
       "      <td>Oporto</td>\n",
       "      <td>['Mediterranean', 'European', 'Portuguese']</td>\n",
       "      <td>173.0</td>\n",
       "      <td>4.0</td>\n",
       "      <td>$$ - $$$</td>\n",
       "      <td>436.0</td>\n",
       "      <td>[['Wonderful food, GREAT price, meh service', ...</td>\n",
       "      <td>/Restaurant_Review-g189180-d2401909-Reviews-Mu...</td>\n",
       "      <td>d2401909</td>\n",
       "      <td>0</td>\n",
       "      <td>221800</td>\n",
       "      <td>0</td>\n",
       "      <td>PO</td>\n",
       "      <td>513</td>\n",
       "      <td>0.282956</td>\n",
       "      <td>771.21</td>\n",
       "      <td>0.002662</td>\n",
       "      <td>0.34</td>\n",
       "    </tr>\n",
       "    <tr>\n",
       "      <th>27600</th>\n",
       "      <td>id_2421</td>\n",
       "      <td>Lisbon</td>\n",
       "      <td>NaN</td>\n",
       "      <td>2424.0</td>\n",
       "      <td>3.5</td>\n",
       "      <td>NaN</td>\n",
       "      <td>27.0</td>\n",
       "      <td>[['Delicious Madeiran cuisine for travellers.....</td>\n",
       "      <td>/Restaurant_Review-g189158-d11747994-Reviews-C...</td>\n",
       "      <td>d11747994</td>\n",
       "      <td>0</td>\n",
       "      <td>505526</td>\n",
       "      <td>1</td>\n",
       "      <td>PO</td>\n",
       "      <td>1300</td>\n",
       "      <td>0.717044</td>\n",
       "      <td>771.21</td>\n",
       "      <td>0.015770</td>\n",
       "      <td>1.86</td>\n",
       "    </tr>\n",
       "    <tr>\n",
       "      <th>14972</th>\n",
       "      <td>id_821</td>\n",
       "      <td>Copenhagen</td>\n",
       "      <td>['Cafe', 'Scandinavian', 'Danish', 'Vegetarian...</td>\n",
       "      <td>822.0</td>\n",
       "      <td>4.0</td>\n",
       "      <td>$$ - $$$</td>\n",
       "      <td>76.0</td>\n",
       "      <td>[['The local deli and coffee shop', 'Indefinit...</td>\n",
       "      <td>/Restaurant_Review-g189541-d1799429-Reviews-Wu...</td>\n",
       "      <td>d1799429</td>\n",
       "      <td>0</td>\n",
       "      <td>615993</td>\n",
       "      <td>1</td>\n",
       "      <td>DM</td>\n",
       "      <td>659</td>\n",
       "      <td>1.000000</td>\n",
       "      <td>653.65</td>\n",
       "      <td>0.014549</td>\n",
       "      <td>1.25</td>\n",
       "    </tr>\n",
       "    <tr>\n",
       "      <th>26219</th>\n",
       "      <td>id_847</td>\n",
       "      <td>Barcelona</td>\n",
       "      <td>['American', 'Fast Food', 'European']</td>\n",
       "      <td>848.0</td>\n",
       "      <td>4.5</td>\n",
       "      <td>$$ - $$$</td>\n",
       "      <td>154.0</td>\n",
       "      <td>[[\"One of the best burgers I've ever had!\", 'A...</td>\n",
       "      <td>/Restaurant_Review-g187497-d8027248-Reviews-Ni...</td>\n",
       "      <td>d8027248</td>\n",
       "      <td>0</td>\n",
       "      <td>1620343</td>\n",
       "      <td>0</td>\n",
       "      <td>ESP</td>\n",
       "      <td>2734</td>\n",
       "      <td>0.469598</td>\n",
       "      <td>803.33</td>\n",
       "      <td>0.002512</td>\n",
       "      <td>0.31</td>\n",
       "    </tr>\n",
       "    <tr>\n",
       "      <th>35294</th>\n",
       "      <td>id_1414</td>\n",
       "      <td>Dublin</td>\n",
       "      <td>NaN</td>\n",
       "      <td>1418.0</td>\n",
       "      <td>4.5</td>\n",
       "      <td>NaN</td>\n",
       "      <td>3.0</td>\n",
       "      <td>[['Ms', 'Quality'], ['11/01/2016', '05/12/2016']]</td>\n",
       "      <td>/Restaurant_Review-g186605-d5821512-Reviews-Fo...</td>\n",
       "      <td>d5821512</td>\n",
       "      <td>0</td>\n",
       "      <td>553165</td>\n",
       "      <td>1</td>\n",
       "      <td>IRL</td>\n",
       "      <td>673</td>\n",
       "      <td>1.000000</td>\n",
       "      <td>513.47</td>\n",
       "      <td>0.014257</td>\n",
       "      <td>2.11</td>\n",
       "    </tr>\n",
       "    <tr>\n",
       "      <th>35169</th>\n",
       "      <td>id_914</td>\n",
       "      <td>Paris</td>\n",
       "      <td>['French', 'European']</td>\n",
       "      <td>915.0</td>\n",
       "      <td>4.5</td>\n",
       "      <td>$$ - $$$</td>\n",
       "      <td>166.0</td>\n",
       "      <td>[['Classic Bistro', 'A memorable evening'], ['...</td>\n",
       "      <td>/Restaurant_Review-g187147-d3350579-Reviews-Sc...</td>\n",
       "      <td>d3350579</td>\n",
       "      <td>0</td>\n",
       "      <td>2140526</td>\n",
       "      <td>1</td>\n",
       "      <td>FR</td>\n",
       "      <td>4897</td>\n",
       "      <td>0.845915</td>\n",
       "      <td>659.38</td>\n",
       "      <td>0.001630</td>\n",
       "      <td>0.19</td>\n",
       "    </tr>\n",
       "  </tbody>\n",
       "</table>\n",
       "</div>"
      ],
      "text/plain": [
       "      Restaurant_id        City  \\\n",
       "38777       id_3572      Prague   \n",
       "16849       id_6288      Berlin   \n",
       "12661        id_172      Oporto   \n",
       "27600       id_2421      Lisbon   \n",
       "14972        id_821  Copenhagen   \n",
       "26219        id_847   Barcelona   \n",
       "35294       id_1414      Dublin   \n",
       "35169        id_914       Paris   \n",
       "\n",
       "                                           Cuisine Style  Ranking  Rating  \\\n",
       "38777  ['European', 'Czech', 'Eastern European', 'Cen...   3580.0     3.0   \n",
       "16849                                                NaN   6290.0     2.5   \n",
       "12661        ['Mediterranean', 'European', 'Portuguese']    173.0     4.0   \n",
       "27600                                                NaN   2424.0     3.5   \n",
       "14972  ['Cafe', 'Scandinavian', 'Danish', 'Vegetarian...    822.0     4.0   \n",
       "26219              ['American', 'Fast Food', 'European']    848.0     4.5   \n",
       "35294                                                NaN   1418.0     4.5   \n",
       "35169                             ['French', 'European']    915.0     4.5   \n",
       "\n",
       "      Price Range  Number of Reviews  \\\n",
       "38777    $$ - $$$              121.0   \n",
       "16849         NaN                2.0   \n",
       "12661    $$ - $$$              436.0   \n",
       "27600         NaN               27.0   \n",
       "14972    $$ - $$$               76.0   \n",
       "26219    $$ - $$$              154.0   \n",
       "35294         NaN                3.0   \n",
       "35169    $$ - $$$              166.0   \n",
       "\n",
       "                                                 Reviews  \\\n",
       "38777  [['Overpriced for the quality', 'Good traditio...   \n",
       "16849    [['A great little restaurant'], ['10/20/2016']]   \n",
       "12661  [['Wonderful food, GREAT price, meh service', ...   \n",
       "27600  [['Delicious Madeiran cuisine for travellers.....   \n",
       "14972  [['The local deli and coffee shop', 'Indefinit...   \n",
       "26219  [[\"One of the best burgers I've ever had!\", 'A...   \n",
       "35294  [['Ms', 'Quality'], ['11/01/2016', '05/12/2016']]   \n",
       "35169  [['Classic Bistro', 'A memorable evening'], ['...   \n",
       "\n",
       "                                                  URL_TA      ID_TA  \\\n",
       "38777  /Restaurant_Review-g274707-d2365741-Reviews-St...   d2365741   \n",
       "16849  /Restaurant_Review-g187323-d11715911-Reviews-A...  d11715911   \n",
       "12661  /Restaurant_Review-g189180-d2401909-Reviews-Mu...   d2401909   \n",
       "27600  /Restaurant_Review-g189158-d11747994-Reviews-C...  d11747994   \n",
       "14972  /Restaurant_Review-g189541-d1799429-Reviews-Wu...   d1799429   \n",
       "26219  /Restaurant_Review-g187497-d8027248-Reviews-Ni...   d8027248   \n",
       "35294  /Restaurant_Review-g186605-d5821512-Reviews-Fo...   d5821512   \n",
       "35169  /Restaurant_Review-g187147-d3350579-Reviews-Sc...   d3350579   \n",
       "\n",
       "       Number_of_Reviews_isNAN  City_pop  Capital Country  R_counts  \\\n",
       "38777                        0   1280508        1      CZ      1443   \n",
       "16849                        0   3601131        1     GER      2155   \n",
       "12661                        0    221800        0      PO       513   \n",
       "27600                        0    505526        1      PO      1300   \n",
       "14972                        0    615993        1      DM       659   \n",
       "26219                        0   1620343        0     ESP      2734   \n",
       "35294                        0    553165        1     IRL       673   \n",
       "35169                        0   2140526        1      FR      4897   \n",
       "\n",
       "       Rest_City_concentration  spend_visitor  Rel_num_rev  Ranking_rel  \n",
       "38777                 1.000000         492.58     0.022515         2.48  \n",
       "16849                 0.539154        1052.25     0.048464         2.92  \n",
       "12661                 0.282956         771.21     0.002662         0.34  \n",
       "27600                 0.717044         771.21     0.015770         1.86  \n",
       "14972                 1.000000         653.65     0.014549         1.25  \n",
       "26219                 0.469598         803.33     0.002512         0.31  \n",
       "35294                 1.000000         513.47     0.014257         2.11  \n",
       "35169                 0.845915         659.38     0.001630         0.19  "
      ]
     },
     "execution_count": 45,
     "metadata": {},
     "output_type": "execute_result"
    }
   ],
   "source": [
    "data.sample(8)"
   ]
  },
  {
   "cell_type": "code",
   "execution_count": 46,
   "metadata": {},
   "outputs": [],
   "source": [
    "# удаляем вспомогательный столбец\n",
    "\n",
    "data.drop(['R_counts'], axis=1, inplace=True)"
   ]
  },
  {
   "cell_type": "markdown",
   "metadata": {},
   "source": [
    "#### Price"
   ]
  },
  {
   "cell_type": "code",
   "execution_count": 47,
   "metadata": {},
   "outputs": [
    {
     "data": {
      "text/plain": [
       "$$ - $$$    18352\n",
       "NaN         13618\n",
       "$            6252\n",
       "$$$$         1418\n",
       "Name: Price Range, dtype: int64"
      ]
     },
     "execution_count": 47,
     "metadata": {},
     "output_type": "execute_result"
    }
   ],
   "source": [
    "# Возьмем следующий признак \"Price Range\".\n",
    "\n",
    "data['Price Range'].value_counts(dropna = False)"
   ]
  },
  {
   "cell_type": "code",
   "execution_count": 48,
   "metadata": {},
   "outputs": [],
   "source": [
    "# поменяем символьные значения на цифровые метки\n",
    "\n",
    "data['Price Range'] = data['Price Range'].replace(['$$ - $$$', '$', '$$$$'], [2, 1, 3])"
   ]
  },
  {
   "cell_type": "code",
   "execution_count": 49,
   "metadata": {},
   "outputs": [],
   "source": [
    "# найдем медиану, чтобы заполнить пропуски\n",
    "\n",
    "median_p = int(data['Price Range'].median())"
   ]
  },
  {
   "cell_type": "code",
   "execution_count": 50,
   "metadata": {},
   "outputs": [],
   "source": [
    "data['Price Range'] = data['Price Range'].fillna(median_p)"
   ]
  },
  {
   "cell_type": "code",
   "execution_count": 51,
   "metadata": {},
   "outputs": [
    {
     "name": "stdout",
     "output_type": "stream",
     "text": [
      "<class 'pandas.core.frame.DataFrame'>\n",
      "Int64Index: 39640 entries, 0 to 39999\n",
      "Data columns (total 18 columns):\n",
      " #   Column                   Non-Null Count  Dtype  \n",
      "---  ------                   --------------  -----  \n",
      " 0   Restaurant_id            39640 non-null  object \n",
      " 1   City                     39640 non-null  object \n",
      " 2   Cuisine Style            30514 non-null  object \n",
      " 3   Ranking                  39640 non-null  float64\n",
      " 4   Rating                   39640 non-null  float64\n",
      " 5   Price Range              39640 non-null  float64\n",
      " 6   Number of Reviews        39640 non-null  float64\n",
      " 7   Reviews                  39640 non-null  object \n",
      " 8   URL_TA                   39640 non-null  object \n",
      " 9   ID_TA                    39640 non-null  object \n",
      " 10  Number_of_Reviews_isNAN  39640 non-null  uint8  \n",
      " 11  City_pop                 39640 non-null  int64  \n",
      " 12  Capital                  39640 non-null  int64  \n",
      " 13  Country                  39640 non-null  object \n",
      " 14  Rest_City_concentration  39640 non-null  float64\n",
      " 15  spend_visitor            39640 non-null  float64\n",
      " 16  Rel_num_rev              39640 non-null  float64\n",
      " 17  Ranking_rel              39640 non-null  float64\n",
      "dtypes: float64(8), int64(2), object(7), uint8(1)\n",
      "memory usage: 5.5+ MB\n"
     ]
    }
   ],
   "source": [
    "data.info()"
   ]
  },
  {
   "cell_type": "markdown",
   "metadata": {},
   "source": [
    "#### 'Cuisine Style'\n",
    "повозимся с кухнями"
   ]
  },
  {
   "cell_type": "code",
   "execution_count": 52,
   "metadata": {},
   "outputs": [],
   "source": [
    "# Преобразуем кухони в списки\n",
    "\n",
    "data['Cuisine_Style_list'] = data['Cuisine Style'].apply(str_to_list)\n",
    "#df.drop(['Cuisine Style'], axis=1, inplace=True)"
   ]
  },
  {
   "cell_type": "code",
   "execution_count": 53,
   "metadata": {},
   "outputs": [
    {
     "name": "stdout",
     "output_type": "stream",
     "text": [
      "Всего кухонь:  125\n"
     ]
    }
   ],
   "source": [
    "# Посмотрим какие кухни бывают\n",
    "\n",
    "cuisine_set = set()\n",
    "for cuis_list in data['Cuisine_Style_list']:\n",
    "    for cuis in cuis_list:\n",
    "        cuisine_set.add(cuis)\n",
    "\n",
    "print('Всего кухонь: ', len(cuisine_set))"
   ]
  },
  {
   "cell_type": "code",
   "execution_count": 54,
   "metadata": {},
   "outputs": [
    {
     "data": {
      "text/plain": [
       "Vegetarian Friendly    11181\n",
       "European               10034\n",
       "Mediterranean           6253\n",
       "Italian                 5938\n",
       "Vegan Options           4481\n",
       "                       ...  \n",
       "Salvadoran                 1\n",
       "Latvian                    1\n",
       "Yunnan                     1\n",
       "Xinjiang                   1\n",
       "Burmese                    1\n",
       "Length: 125, dtype: int64"
      ]
     },
     "execution_count": 54,
     "metadata": {},
     "output_type": "execute_result"
    }
   ],
   "source": [
    "# Считаем сколько раз кухня встречается в ресторанах\n",
    "cuisine_count = dict.fromkeys(cuisine_set, 0)\n",
    "for cuis in cuisine_set:\n",
    "    for cuis_list in data['Cuisine_Style_list']:\n",
    "        if cuis in cuis_list:\n",
    "            cuisine_count[cuis] += 1\n",
    "\n",
    "cuisine_count = pd.Series(cuisine_count)\n",
    "cuisine_count.sort_values(ascending=False)"
   ]
  },
  {
   "cell_type": "code",
   "execution_count": 55,
   "metadata": {},
   "outputs": [],
   "source": [
    "# самая популярная кухня Vegetarian Friendly.\n",
    "\n",
    "cuis_nan = 'Vegetarian Friendly'\n",
    "data['Cuisine Style'].fillna(cuis_nan, inplace=True)\n",
    "data['Cuisine_Style_list'] = data['Cuisine Style'].apply(str_to_list)\n",
    "\n",
    "# далее, в разделе dummy переменные мы будем использовать эти данные для формирования новых признаков."
   ]
  },
  {
   "cell_type": "code",
   "execution_count": 56,
   "metadata": {},
   "outputs": [
    {
     "name": "stdout",
     "output_type": "stream",
     "text": [
      "<class 'pandas.core.frame.DataFrame'>\n",
      "Int64Index: 39640 entries, 0 to 39999\n",
      "Data columns (total 19 columns):\n",
      " #   Column                   Non-Null Count  Dtype  \n",
      "---  ------                   --------------  -----  \n",
      " 0   Restaurant_id            39640 non-null  object \n",
      " 1   City                     39640 non-null  object \n",
      " 2   Cuisine Style            39640 non-null  object \n",
      " 3   Ranking                  39640 non-null  float64\n",
      " 4   Rating                   39640 non-null  float64\n",
      " 5   Price Range              39640 non-null  float64\n",
      " 6   Number of Reviews        39640 non-null  float64\n",
      " 7   Reviews                  39640 non-null  object \n",
      " 8   URL_TA                   39640 non-null  object \n",
      " 9   ID_TA                    39640 non-null  object \n",
      " 10  Number_of_Reviews_isNAN  39640 non-null  uint8  \n",
      " 11  City_pop                 39640 non-null  int64  \n",
      " 12  Capital                  39640 non-null  int64  \n",
      " 13  Country                  39640 non-null  object \n",
      " 14  Rest_City_concentration  39640 non-null  float64\n",
      " 15  spend_visitor            39640 non-null  float64\n",
      " 16  Rel_num_rev              39640 non-null  float64\n",
      " 17  Ranking_rel              39640 non-null  float64\n",
      " 18  Cuisine_Style_list       39640 non-null  object \n",
      "dtypes: float64(8), int64(2), object(8), uint8(1)\n",
      "memory usage: 5.8+ MB\n"
     ]
    }
   ],
   "source": [
    "data.info()"
   ]
  },
  {
   "cell_type": "markdown",
   "metadata": {},
   "source": [
    "У нас все столбцы не имеют пустых значений. Дальше будем добавлять новые признаки."
   ]
  },
  {
   "cell_type": "markdown",
   "metadata": {},
   "source": [
    "#### Reviews - Даты отзывов\n",
    "Продолжим работать с отзывами.\n",
    "\n",
    "Создадим столбцы Reviews_date_first и Reviews_date_last с первой и последней датой отзывов, соответственно."
   ]
  },
  {
   "cell_type": "code",
   "execution_count": 57,
   "metadata": {},
   "outputs": [],
   "source": [
    "data['Reviews_date_temp'] = data['Reviews'].apply(reviews_to_list)\n",
    "data['Reviews_date_first'] = data['Reviews_date_temp'].apply(\n",
    "    lambda x: None if len(x) == 0\n",
    "    else pd.to_datetime(x[0], format='%m/%d/%Y') if len(x) == 1\n",
    "    else pd.to_datetime(x[0], format='%m/%d/%Y') if pd.to_datetime(x[0], format='%m/%d/%Y') < pd.to_datetime(x[1], format='%m/%d/%Y')\n",
    "    else pd.to_datetime(x[1], format='%m/%d/%Y'))\n",
    "data['Reviews_date_last'] = data['Reviews_date_temp'].apply(\n",
    "    lambda x: None if len(x) == 0\n",
    "    else pd.to_datetime(x[0], format='%m/%d/%Y') if len(x) == 1\n",
    "    else pd.to_datetime(x[0], format='%m/%d/%Y') if pd.to_datetime(x[0], format='%m/%d/%Y') > pd.to_datetime(x[1], format='%m/%d/%Y')\n",
    "    else pd.to_datetime(x[1], format='%m/%d/%Y'))"
   ]
  },
  {
   "cell_type": "markdown",
   "metadata": {},
   "source": [
    "Заполним прлпуски в датах средними значениями для каждой категории: датой первого отзыва и датой последнего отзыва"
   ]
  },
  {
   "cell_type": "code",
   "execution_count": 58,
   "metadata": {},
   "outputs": [],
   "source": [
    "min_date = data['Reviews_date_first'].mean()"
   ]
  },
  {
   "cell_type": "code",
   "execution_count": 59,
   "metadata": {},
   "outputs": [],
   "source": [
    "max_date = data['Reviews_date_last'].mean()"
   ]
  },
  {
   "cell_type": "code",
   "execution_count": 60,
   "metadata": {},
   "outputs": [],
   "source": [
    "# Заполним пропуски средней датой\n",
    "\n",
    "data['Reviews_date_first'] = data['Reviews_date_first'].apply(\n",
    "    lambda x: min_date if pd.isnull(x) else min_date if x == None else x)\n",
    "data['Reviews_date_last'] = data['Reviews_date_last'].apply(\n",
    "    lambda x: max_date if pd.isnull(x) else min_date if x == None else x)"
   ]
  },
  {
   "cell_type": "code",
   "execution_count": 61,
   "metadata": {},
   "outputs": [],
   "source": [
    "# Создадим параметр date_delta - сколько дней прошло между первым и последним отзывом.\n",
    "\n",
    "data['delta_days'] = (data['Reviews_date_last'] - data['Reviews_date_first']).dt.days"
   ]
  },
  {
   "cell_type": "code",
   "execution_count": 62,
   "metadata": {},
   "outputs": [],
   "source": [
    "# Создадим параметр Rev_year - год последнего отзыва. Возможно, с годами уровень лояльности пользователей меняется.\n",
    "\n",
    "data['Rev_last_year'] = data['Reviews_date_last'].dt.year"
   ]
  },
  {
   "cell_type": "code",
   "execution_count": 63,
   "metadata": {},
   "outputs": [
    {
     "data": {
      "text/html": [
       "<div>\n",
       "<style scoped>\n",
       "    .dataframe tbody tr th:only-of-type {\n",
       "        vertical-align: middle;\n",
       "    }\n",
       "\n",
       "    .dataframe tbody tr th {\n",
       "        vertical-align: top;\n",
       "    }\n",
       "\n",
       "    .dataframe thead th {\n",
       "        text-align: right;\n",
       "    }\n",
       "</style>\n",
       "<table border=\"1\" class=\"dataframe\">\n",
       "  <thead>\n",
       "    <tr style=\"text-align: right;\">\n",
       "      <th></th>\n",
       "      <th>Restaurant_id</th>\n",
       "      <th>City</th>\n",
       "      <th>Cuisine Style</th>\n",
       "      <th>Ranking</th>\n",
       "      <th>Rating</th>\n",
       "      <th>Price Range</th>\n",
       "      <th>Number of Reviews</th>\n",
       "      <th>Reviews</th>\n",
       "      <th>URL_TA</th>\n",
       "      <th>ID_TA</th>\n",
       "      <th>...</th>\n",
       "      <th>Rest_City_concentration</th>\n",
       "      <th>spend_visitor</th>\n",
       "      <th>Rel_num_rev</th>\n",
       "      <th>Ranking_rel</th>\n",
       "      <th>Cuisine_Style_list</th>\n",
       "      <th>Reviews_date_temp</th>\n",
       "      <th>Reviews_date_first</th>\n",
       "      <th>Reviews_date_last</th>\n",
       "      <th>delta_days</th>\n",
       "      <th>Rev_last_year</th>\n",
       "    </tr>\n",
       "  </thead>\n",
       "  <tbody>\n",
       "    <tr>\n",
       "      <th>13710</th>\n",
       "      <td>id_867</td>\n",
       "      <td>Prague</td>\n",
       "      <td>['European', 'Soups', 'Fast Food', 'Vegetarian...</td>\n",
       "      <td>868.0</td>\n",
       "      <td>4.5</td>\n",
       "      <td>1.0</td>\n",
       "      <td>41.0</td>\n",
       "      <td>[['The best salads in town', 'Fresh!'], ['10/0...</td>\n",
       "      <td>/Restaurant_Review-g274707-d8664387-Reviews-Gr...</td>\n",
       "      <td>d8664387</td>\n",
       "      <td>...</td>\n",
       "      <td>1.000000</td>\n",
       "      <td>492.58</td>\n",
       "      <td>0.005459</td>\n",
       "      <td>0.60</td>\n",
       "      <td>[European, Soups, Fast Food, Vegetarian Friend...</td>\n",
       "      <td>[10/08/2017, 09/06/2017]</td>\n",
       "      <td>2017-09-06</td>\n",
       "      <td>2017-10-08</td>\n",
       "      <td>32</td>\n",
       "      <td>2017</td>\n",
       "    </tr>\n",
       "    <tr>\n",
       "      <th>14510</th>\n",
       "      <td>id_3162</td>\n",
       "      <td>Amsterdam</td>\n",
       "      <td>['Italian', 'Argentinean', 'South American']</td>\n",
       "      <td>3173.0</td>\n",
       "      <td>2.5</td>\n",
       "      <td>2.0</td>\n",
       "      <td>5.0</td>\n",
       "      <td>[['DO NOT GO THERE'], ['11/04/2017']]</td>\n",
       "      <td>/Restaurant_Review-g188590-d12980391-Reviews-M...</td>\n",
       "      <td>d12980391</td>\n",
       "      <td>...</td>\n",
       "      <td>1.000000</td>\n",
       "      <td>887.92</td>\n",
       "      <td>0.020888</td>\n",
       "      <td>2.92</td>\n",
       "      <td>[Italian, Argentinean, South American]</td>\n",
       "      <td>[11/04/2017]</td>\n",
       "      <td>2017-11-04</td>\n",
       "      <td>2017-11-04</td>\n",
       "      <td>0</td>\n",
       "      <td>2017</td>\n",
       "    </tr>\n",
       "    <tr>\n",
       "      <th>33791</th>\n",
       "      <td>id_1827</td>\n",
       "      <td>London</td>\n",
       "      <td>['Cafe', 'British', 'Vegetarian Friendly', 'Ve...</td>\n",
       "      <td>1831.0</td>\n",
       "      <td>4.5</td>\n",
       "      <td>1.0</td>\n",
       "      <td>102.0</td>\n",
       "      <td>[['Nice place', 'Great Find'], ['12/03/2017', ...</td>\n",
       "      <td>/Restaurant_Review-g186338-d1457059-Reviews-Pr...</td>\n",
       "      <td>d1457059</td>\n",
       "      <td>...</td>\n",
       "      <td>1.000000</td>\n",
       "      <td>1337.63</td>\n",
       "      <td>0.002454</td>\n",
       "      <td>0.32</td>\n",
       "      <td>[Cafe, British, Vegetarian Friendly, Vegan Opt...</td>\n",
       "      <td>[12/03/2017, 11/19/2017]</td>\n",
       "      <td>2017-11-19</td>\n",
       "      <td>2017-12-03</td>\n",
       "      <td>14</td>\n",
       "      <td>2017</td>\n",
       "    </tr>\n",
       "    <tr>\n",
       "      <th>24463</th>\n",
       "      <td>id_10489</td>\n",
       "      <td>London</td>\n",
       "      <td>['Asian', 'Thai']</td>\n",
       "      <td>10498.0</td>\n",
       "      <td>3.5</td>\n",
       "      <td>1.0</td>\n",
       "      <td>22.0</td>\n",
       "      <td>[['Quick and easy Thai food', 'No idea what th...</td>\n",
       "      <td>/Restaurant_Review-g186338-d8331750-Reviews-Ne...</td>\n",
       "      <td>d8331750</td>\n",
       "      <td>...</td>\n",
       "      <td>1.000000</td>\n",
       "      <td>1337.63</td>\n",
       "      <td>0.014070</td>\n",
       "      <td>1.82</td>\n",
       "      <td>[Asian, Thai]</td>\n",
       "      <td>[12/14/2017, 11/30/2017]</td>\n",
       "      <td>2017-11-30</td>\n",
       "      <td>2017-12-14</td>\n",
       "      <td>14</td>\n",
       "      <td>2017</td>\n",
       "    </tr>\n",
       "    <tr>\n",
       "      <th>16126</th>\n",
       "      <td>id_3510</td>\n",
       "      <td>Lisbon</td>\n",
       "      <td>['European', 'Portuguese']</td>\n",
       "      <td>3514.0</td>\n",
       "      <td>3.0</td>\n",
       "      <td>2.0</td>\n",
       "      <td>9.0</td>\n",
       "      <td>[['Good coffee', 'Local produce at hidden gem'...</td>\n",
       "      <td>/Restaurant_Review-g189158-d10399941-Reviews-L...</td>\n",
       "      <td>d10399941</td>\n",
       "      <td>...</td>\n",
       "      <td>0.717044</td>\n",
       "      <td>771.21</td>\n",
       "      <td>0.022862</td>\n",
       "      <td>2.70</td>\n",
       "      <td>[European, Portuguese]</td>\n",
       "      <td>[08/13/2016, 08/10/2016]</td>\n",
       "      <td>2016-08-10</td>\n",
       "      <td>2016-08-13</td>\n",
       "      <td>3</td>\n",
       "      <td>2016</td>\n",
       "    </tr>\n",
       "  </tbody>\n",
       "</table>\n",
       "<p>5 rows × 24 columns</p>\n",
       "</div>"
      ],
      "text/plain": [
       "      Restaurant_id       City  \\\n",
       "13710        id_867     Prague   \n",
       "14510       id_3162  Amsterdam   \n",
       "33791       id_1827     London   \n",
       "24463      id_10489     London   \n",
       "16126       id_3510     Lisbon   \n",
       "\n",
       "                                           Cuisine Style  Ranking  Rating  \\\n",
       "13710  ['European', 'Soups', 'Fast Food', 'Vegetarian...    868.0     4.5   \n",
       "14510       ['Italian', 'Argentinean', 'South American']   3173.0     2.5   \n",
       "33791  ['Cafe', 'British', 'Vegetarian Friendly', 'Ve...   1831.0     4.5   \n",
       "24463                                  ['Asian', 'Thai']  10498.0     3.5   \n",
       "16126                         ['European', 'Portuguese']   3514.0     3.0   \n",
       "\n",
       "       Price Range  Number of Reviews  \\\n",
       "13710          1.0               41.0   \n",
       "14510          2.0                5.0   \n",
       "33791          1.0              102.0   \n",
       "24463          1.0               22.0   \n",
       "16126          2.0                9.0   \n",
       "\n",
       "                                                 Reviews  \\\n",
       "13710  [['The best salads in town', 'Fresh!'], ['10/0...   \n",
       "14510              [['DO NOT GO THERE'], ['11/04/2017']]   \n",
       "33791  [['Nice place', 'Great Find'], ['12/03/2017', ...   \n",
       "24463  [['Quick and easy Thai food', 'No idea what th...   \n",
       "16126  [['Good coffee', 'Local produce at hidden gem'...   \n",
       "\n",
       "                                                  URL_TA      ID_TA  ...  \\\n",
       "13710  /Restaurant_Review-g274707-d8664387-Reviews-Gr...   d8664387  ...   \n",
       "14510  /Restaurant_Review-g188590-d12980391-Reviews-M...  d12980391  ...   \n",
       "33791  /Restaurant_Review-g186338-d1457059-Reviews-Pr...   d1457059  ...   \n",
       "24463  /Restaurant_Review-g186338-d8331750-Reviews-Ne...   d8331750  ...   \n",
       "16126  /Restaurant_Review-g189158-d10399941-Reviews-L...  d10399941  ...   \n",
       "\n",
       "       Rest_City_concentration  spend_visitor  Rel_num_rev Ranking_rel  \\\n",
       "13710                 1.000000         492.58     0.005459        0.60   \n",
       "14510                 1.000000         887.92     0.020888        2.92   \n",
       "33791                 1.000000        1337.63     0.002454        0.32   \n",
       "24463                 1.000000        1337.63     0.014070        1.82   \n",
       "16126                 0.717044         771.21     0.022862        2.70   \n",
       "\n",
       "                                      Cuisine_Style_list  \\\n",
       "13710  [European, Soups, Fast Food, Vegetarian Friend...   \n",
       "14510             [Italian, Argentinean, South American]   \n",
       "33791  [Cafe, British, Vegetarian Friendly, Vegan Opt...   \n",
       "24463                                      [Asian, Thai]   \n",
       "16126                             [European, Portuguese]   \n",
       "\n",
       "              Reviews_date_temp  Reviews_date_first  Reviews_date_last  \\\n",
       "13710  [10/08/2017, 09/06/2017]          2017-09-06         2017-10-08   \n",
       "14510              [11/04/2017]          2017-11-04         2017-11-04   \n",
       "33791  [12/03/2017, 11/19/2017]          2017-11-19         2017-12-03   \n",
       "24463  [12/14/2017, 11/30/2017]          2017-11-30         2017-12-14   \n",
       "16126  [08/13/2016, 08/10/2016]          2016-08-10         2016-08-13   \n",
       "\n",
       "      delta_days Rev_last_year  \n",
       "13710         32          2017  \n",
       "14510          0          2017  \n",
       "33791         14          2017  \n",
       "24463         14          2017  \n",
       "16126          3          2016  \n",
       "\n",
       "[5 rows x 24 columns]"
      ]
     },
     "execution_count": 63,
     "metadata": {},
     "output_type": "execute_result"
    }
   ],
   "source": [
    "data.sample(5)"
   ]
  },
  {
   "cell_type": "code",
   "execution_count": 64,
   "metadata": {},
   "outputs": [],
   "source": [
    "# Удалим лишние столбцы, на основе которых работали с датами.\n",
    "\n",
    "data.drop(['Reviews_date_temp', 'Reviews_date_first','Reviews_date_last'], axis=1, inplace=True)"
   ]
  },
  {
   "cell_type": "code",
   "execution_count": 65,
   "metadata": {},
   "outputs": [
    {
     "name": "stdout",
     "output_type": "stream",
     "text": [
      "<class 'pandas.core.frame.DataFrame'>\n",
      "Int64Index: 39640 entries, 0 to 39999\n",
      "Data columns (total 21 columns):\n",
      " #   Column                   Non-Null Count  Dtype  \n",
      "---  ------                   --------------  -----  \n",
      " 0   Restaurant_id            39640 non-null  object \n",
      " 1   City                     39640 non-null  object \n",
      " 2   Cuisine Style            39640 non-null  object \n",
      " 3   Ranking                  39640 non-null  float64\n",
      " 4   Rating                   39640 non-null  float64\n",
      " 5   Price Range              39640 non-null  float64\n",
      " 6   Number of Reviews        39640 non-null  float64\n",
      " 7   Reviews                  39640 non-null  object \n",
      " 8   URL_TA                   39640 non-null  object \n",
      " 9   ID_TA                    39640 non-null  object \n",
      " 10  Number_of_Reviews_isNAN  39640 non-null  uint8  \n",
      " 11  City_pop                 39640 non-null  int64  \n",
      " 12  Capital                  39640 non-null  int64  \n",
      " 13  Country                  39640 non-null  object \n",
      " 14  Rest_City_concentration  39640 non-null  float64\n",
      " 15  spend_visitor            39640 non-null  float64\n",
      " 16  Rel_num_rev              39640 non-null  float64\n",
      " 17  Ranking_rel              39640 non-null  float64\n",
      " 18  Cuisine_Style_list       39640 non-null  object \n",
      " 19  delta_days               39640 non-null  int64  \n",
      " 20  Rev_last_year            39640 non-null  int64  \n",
      "dtypes: float64(8), int64(4), object(8), uint8(1)\n",
      "memory usage: 6.4+ MB\n"
     ]
    }
   ],
   "source": [
    "data.info()"
   ]
  },
  {
   "cell_type": "code",
   "execution_count": 66,
   "metadata": {},
   "outputs": [
    {
     "data": {
      "text/plain": [
       "<matplotlib.axes._subplots.AxesSubplot at 0x1b2e403ce88>"
      ]
     },
     "execution_count": 66,
     "metadata": {},
     "output_type": "execute_result"
    },
    {
     "data": {
      "image/png": "[encoded data removed]",
      "text/plain": [
       "<Figure size 1080x720 with 2 Axes>"
      ]
     },
     "metadata": {
      "needs_background": "light"
     },
     "output_type": "display_data"
    }
   ],
   "source": [
    "# перед dummy переменными посмотрим корреляцию между собой параметров\n",
    "#data.corr()\n",
    "\n",
    "plt.rcParams['figure.figsize'] = (15, 10)\n",
    "sns.heatmap(data.corr())"
   ]
  },
  {
   "cell_type": "markdown",
   "metadata": {},
   "source": [
    "Сильно скоррелированных между собой показателей нет. Можно работать дальше с таблицей."
   ]
  },
  {
   "cell_type": "markdown",
   "metadata": {},
   "source": [
    "### Dummy переменные\n",
    "превращаем в dummy "
   ]
  },
  {
   "cell_type": "markdown",
   "metadata": {},
   "source": [
    "#### Reviews \n",
    "поработаем с ключевыми словами в отзывах, которые могут повлиять на рейтинг и выведем признак каждого ключевого слова в отдельный столбец:\n",
    "\n",
    "- Terrible\n",
    "- Horrible\n",
    "- Not good\n",
    "- Disappointing\n",
    "- Worst\n",
    "- Better\n",
    "- Bad\n",
    "- Excellent\n",
    "- Best\n",
    "- Amazing\n",
    "- Great\n",
    "- Wonderful \n",
    "- Super\n",
    "- Good food\n",
    "- delicious\n",
    "- but\n",
    "- not\n",
    "\n",
    "ключевых слов возможно найти больше, если бы было побольше времени :) я пробовал пакте nltk, но так толком не смог разобраться. Если бы выбрал самые часто встерчающиеся ключесвые слова, то модель можно собрать точнее."
   ]
  },
  {
   "cell_type": "code",
   "execution_count": 67,
   "metadata": {},
   "outputs": [],
   "source": [
    "# создаем dummy по отзывам\n",
    "\n",
    "data['R_terrible'] = data['Reviews'].apply(\n",
    "    lambda x: 1 if 'terrible' in x.lower() else 0)\n",
    "data['R_horrible'] = data['Reviews'].apply(\n",
    "    lambda x: 1 if 'horrible' in x.lower() else 0)\n",
    "data['R_not_good'] = data['Reviews'].apply(\n",
    "    lambda x: 1 if 'not good' in x.lower() else 0)\n",
    "data['R_disappointing'] = data['Reviews'].apply(\n",
    "    lambda x: 1 if 'disappointing' in x.lower() else 0)\n",
    "data['R_worst'] = data['Reviews'].apply(\n",
    "    lambda x: 1 if 'worst' in x.lower() else 0)\n",
    "data['R_bad'] = data['Reviews'].apply(\n",
    "    lambda x: 1 if 'bad' in x.lower() else 0)\n",
    "data['R_better'] = data['Reviews'].apply(\n",
    "    lambda x: 1 if 'better' in x.lower() else 0)\n",
    "data['R_excellent'] = data['Reviews'].apply(\n",
    "    lambda x: 1 if 'excellent' in x.lower() else 0)\n",
    "data['R_best'] = data['Reviews'].apply(\n",
    "    lambda x: 1 if 'best' in x.lower() else 0)\n",
    "data['R_amazing'] = data['Reviews'].apply(\n",
    "    lambda x: 1 if 'amazing' in x.lower() else 0)\n",
    "data['R_great'] = data['Reviews'].apply(\n",
    "    lambda x: 1 if 'great' in x.lower() else 0)\n",
    "data['R_wonderful'] = data['Reviews'].apply(\n",
    "    lambda x: 1 if 'wonderful' in x.lower() else 0)\n",
    "data['R_super'] = data['Reviews'].apply(\n",
    "    lambda x: 1 if 'super' in x.lower() else 0)\n",
    "data['R_good_food'] = data['Reviews'].apply(\n",
    "    lambda x: 1 if 'good_food' in x.lower() else 0)\n",
    "data['R_delicious'] = data['Reviews'].apply(\n",
    "    lambda x: 1 if 'delicious' in x.lower() else 0)\n",
    "data['R_but'] = data['Reviews'].apply(\n",
    "    lambda x: 1 if 'but' in x.lower() else 0)\n",
    "data['R_not'] = data['Reviews'].apply(\n",
    "    lambda x: 1 if 'not' in x.lower() else 0)"
   ]
  },
  {
   "cell_type": "markdown",
   "metadata": {},
   "source": [
    "##### 'Cuisine Style'"
   ]
  },
  {
   "cell_type": "code",
   "execution_count": 68,
   "metadata": {},
   "outputs": [],
   "source": [
    "#Переформатируем информацию о кухнях в dummy-переменные.\n",
    "\n",
    "for cuis in cuisine_set:\n",
    "    data[cuis] = 0\n",
    "    data[cuis] = data['Cuisine Style'].apply(lambda x: 1 if cuis in x else 0)\n",
    "\n",
    "# теперь уберем вспомогательный столбец\n",
    "data.drop(['Cuisine_Style_list'], axis=1, inplace=True)"
   ]
  },
  {
   "cell_type": "code",
   "execution_count": 69,
   "metadata": {},
   "outputs": [],
   "source": [
    "# из кухонь возможно можно было вытащить еще, но надо больше времени. \n",
    "# там есть интересная взаимосвязь со странами и городами. \n",
    "# пробовал количество типов кухонь на ресторан, но MAE не очень сильно изменился. \n",
    "# Удаляю столбец\n",
    "\n",
    "data.drop(['Cuisine Style'], axis=1, inplace=True)"
   ]
  },
  {
   "cell_type": "markdown",
   "metadata": {},
   "source": [
    "##### 'City'\n",
    "это из basline пример"
   ]
  },
  {
   "cell_type": "code",
   "execution_count": 70,
   "metadata": {},
   "outputs": [],
   "source": [
    "# для One-Hot Encoding в pandas есть готовая функция - get_dummies. Особенно радует параметр dummy_na\n",
    "\n",
    "data = pd.get_dummies(data, columns=['City'])"
   ]
  },
  {
   "cell_type": "code",
   "execution_count": 71,
   "metadata": {},
   "outputs": [
    {
     "data": {
      "text/html": [
       "<div>\n",
       "<style scoped>\n",
       "    .dataframe tbody tr th:only-of-type {\n",
       "        vertical-align: middle;\n",
       "    }\n",
       "\n",
       "    .dataframe tbody tr th {\n",
       "        vertical-align: top;\n",
       "    }\n",
       "\n",
       "    .dataframe thead th {\n",
       "        text-align: right;\n",
       "    }\n",
       "</style>\n",
       "<table border=\"1\" class=\"dataframe\">\n",
       "  <thead>\n",
       "    <tr style=\"text-align: right;\">\n",
       "      <th></th>\n",
       "      <th>Restaurant_id</th>\n",
       "      <th>Ranking</th>\n",
       "      <th>Rating</th>\n",
       "      <th>Price Range</th>\n",
       "      <th>Number of Reviews</th>\n",
       "      <th>Reviews</th>\n",
       "      <th>URL_TA</th>\n",
       "      <th>ID_TA</th>\n",
       "      <th>Number_of_Reviews_isNAN</th>\n",
       "      <th>City_pop</th>\n",
       "      <th>...</th>\n",
       "      <th>City_Munich</th>\n",
       "      <th>City_Oporto</th>\n",
       "      <th>City_Oslo</th>\n",
       "      <th>City_Paris</th>\n",
       "      <th>City_Prague</th>\n",
       "      <th>City_Rome</th>\n",
       "      <th>City_Stockholm</th>\n",
       "      <th>City_Vienna</th>\n",
       "      <th>City_Warsaw</th>\n",
       "      <th>City_Zurich</th>\n",
       "    </tr>\n",
       "  </thead>\n",
       "  <tbody>\n",
       "    <tr>\n",
       "      <th>476</th>\n",
       "      <td>id_1243</td>\n",
       "      <td>1244.0</td>\n",
       "      <td>4.5</td>\n",
       "      <td>2.0</td>\n",
       "      <td>12.0</td>\n",
       "      <td>[['Busy, modern restaurant with good food', 'A...</td>\n",
       "      <td>/Restaurant_Review-g274856-d4781734-Reviews-St...</td>\n",
       "      <td>d4781734</td>\n",
       "      <td>0</td>\n",
       "      <td>1758143</td>\n",
       "      <td>...</td>\n",
       "      <td>0</td>\n",
       "      <td>0</td>\n",
       "      <td>0</td>\n",
       "      <td>0</td>\n",
       "      <td>0</td>\n",
       "      <td>0</td>\n",
       "      <td>0</td>\n",
       "      <td>0</td>\n",
       "      <td>1</td>\n",
       "      <td>0</td>\n",
       "    </tr>\n",
       "    <tr>\n",
       "      <th>32544</th>\n",
       "      <td>id_1620</td>\n",
       "      <td>1621.0</td>\n",
       "      <td>4.5</td>\n",
       "      <td>2.0</td>\n",
       "      <td>8.0</td>\n",
       "      <td>[['Very nice atmosphere', 'Nice food, good ser...</td>\n",
       "      <td>/Restaurant_Review-g188644-d1940683-Reviews-Be...</td>\n",
       "      <td>d1940683</td>\n",
       "      <td>0</td>\n",
       "      <td>144784</td>\n",
       "      <td>...</td>\n",
       "      <td>0</td>\n",
       "      <td>0</td>\n",
       "      <td>0</td>\n",
       "      <td>0</td>\n",
       "      <td>0</td>\n",
       "      <td>0</td>\n",
       "      <td>0</td>\n",
       "      <td>0</td>\n",
       "      <td>0</td>\n",
       "      <td>0</td>\n",
       "    </tr>\n",
       "    <tr>\n",
       "      <th>17344</th>\n",
       "      <td>id_1451</td>\n",
       "      <td>1452.0</td>\n",
       "      <td>3.5</td>\n",
       "      <td>2.0</td>\n",
       "      <td>46.0</td>\n",
       "      <td>[['Excellent choice.', 'Friendly restaurant'],...</td>\n",
       "      <td>/Restaurant_Review-g947638-d11698368-Reviews-L...</td>\n",
       "      <td>d11698368</td>\n",
       "      <td>0</td>\n",
       "      <td>144784</td>\n",
       "      <td>...</td>\n",
       "      <td>0</td>\n",
       "      <td>0</td>\n",
       "      <td>0</td>\n",
       "      <td>0</td>\n",
       "      <td>0</td>\n",
       "      <td>0</td>\n",
       "      <td>0</td>\n",
       "      <td>0</td>\n",
       "      <td>0</td>\n",
       "      <td>0</td>\n",
       "    </tr>\n",
       "  </tbody>\n",
       "</table>\n",
       "<p>3 rows × 191 columns</p>\n",
       "</div>"
      ],
      "text/plain": [
       "      Restaurant_id  Ranking  Rating  Price Range  Number of Reviews  \\\n",
       "476         id_1243   1244.0     4.5          2.0               12.0   \n",
       "32544       id_1620   1621.0     4.5          2.0                8.0   \n",
       "17344       id_1451   1452.0     3.5          2.0               46.0   \n",
       "\n",
       "                                                 Reviews  \\\n",
       "476    [['Busy, modern restaurant with good food', 'A...   \n",
       "32544  [['Very nice atmosphere', 'Nice food, good ser...   \n",
       "17344  [['Excellent choice.', 'Friendly restaurant'],...   \n",
       "\n",
       "                                                  URL_TA      ID_TA  \\\n",
       "476    /Restaurant_Review-g274856-d4781734-Reviews-St...   d4781734   \n",
       "32544  /Restaurant_Review-g188644-d1940683-Reviews-Be...   d1940683   \n",
       "17344  /Restaurant_Review-g947638-d11698368-Reviews-L...  d11698368   \n",
       "\n",
       "       Number_of_Reviews_isNAN  City_pop  ...  City_Munich City_Oporto  \\\n",
       "476                          0   1758143  ...            0           0   \n",
       "32544                        0    144784  ...            0           0   \n",
       "17344                        0    144784  ...            0           0   \n",
       "\n",
       "       City_Oslo  City_Paris  City_Prague  City_Rome  City_Stockholm  \\\n",
       "476            0           0            0          0               0   \n",
       "32544          0           0            0          0               0   \n",
       "17344          0           0            0          0               0   \n",
       "\n",
       "       City_Vienna  City_Warsaw  City_Zurich  \n",
       "476              0            1            0  \n",
       "32544            0            0            0  \n",
       "17344            0            0            0  \n",
       "\n",
       "[3 rows x 191 columns]"
      ]
     },
     "execution_count": 71,
     "metadata": {},
     "output_type": "execute_result"
    }
   ],
   "source": [
    "data.sample(3)"
   ]
  },
  {
   "cell_type": "markdown",
   "metadata": {},
   "source": [
    "#### ID_TA — идентификатор ресторана в базе данных TripAdvisor"
   ]
  },
  {
   "cell_type": "code",
   "execution_count": 72,
   "metadata": {},
   "outputs": [],
   "source": [
    "#Предположим, что индентификатор присваивается последовательно в момент регистрации ресторана на сайте TripAdvisor, \n",
    "#может влиять на рейтинг.\n",
    "\n",
    "data['ID_TA_num'] = data['ID_TA'].apply(lambda x: int(x[1:]))"
   ]
  },
  {
   "cell_type": "code",
   "execution_count": 73,
   "metadata": {},
   "outputs": [],
   "source": [
    "# Удалим теперь уже не нужные столбцы, на основе которых работали\n",
    "\n",
    "data.drop(['Reviews','ID_TA', 'URL_TA', 'Country'], axis=1, inplace=True)"
   ]
  },
  {
   "cell_type": "code",
   "execution_count": 74,
   "metadata": {},
   "outputs": [
    {
     "data": {
      "text/html": [
       "<div>\n",
       "<style scoped>\n",
       "    .dataframe tbody tr th:only-of-type {\n",
       "        vertical-align: middle;\n",
       "    }\n",
       "\n",
       "    .dataframe tbody tr th {\n",
       "        vertical-align: top;\n",
       "    }\n",
       "\n",
       "    .dataframe thead th {\n",
       "        text-align: right;\n",
       "    }\n",
       "</style>\n",
       "<table border=\"1\" class=\"dataframe\">\n",
       "  <thead>\n",
       "    <tr style=\"text-align: right;\">\n",
       "      <th></th>\n",
       "      <th>Restaurant_id</th>\n",
       "      <th>Ranking</th>\n",
       "      <th>Rating</th>\n",
       "      <th>Price Range</th>\n",
       "      <th>Number of Reviews</th>\n",
       "      <th>Number_of_Reviews_isNAN</th>\n",
       "      <th>City_pop</th>\n",
       "      <th>Capital</th>\n",
       "      <th>Rest_City_concentration</th>\n",
       "      <th>spend_visitor</th>\n",
       "      <th>...</th>\n",
       "      <th>City_Oporto</th>\n",
       "      <th>City_Oslo</th>\n",
       "      <th>City_Paris</th>\n",
       "      <th>City_Prague</th>\n",
       "      <th>City_Rome</th>\n",
       "      <th>City_Stockholm</th>\n",
       "      <th>City_Vienna</th>\n",
       "      <th>City_Warsaw</th>\n",
       "      <th>City_Zurich</th>\n",
       "      <th>ID_TA_num</th>\n",
       "    </tr>\n",
       "  </thead>\n",
       "  <tbody>\n",
       "    <tr>\n",
       "      <th>4115</th>\n",
       "      <td>id_2876</td>\n",
       "      <td>2879.0</td>\n",
       "      <td>4.0</td>\n",
       "      <td>2.0</td>\n",
       "      <td>0.0</td>\n",
       "      <td>1</td>\n",
       "      <td>505526</td>\n",
       "      <td>1</td>\n",
       "      <td>0.717044</td>\n",
       "      <td>771.21</td>\n",
       "      <td>...</td>\n",
       "      <td>0</td>\n",
       "      <td>0</td>\n",
       "      <td>0</td>\n",
       "      <td>0</td>\n",
       "      <td>0</td>\n",
       "      <td>0</td>\n",
       "      <td>0</td>\n",
       "      <td>0</td>\n",
       "      <td>0</td>\n",
       "      <td>12645762</td>\n",
       "    </tr>\n",
       "    <tr>\n",
       "      <th>11769</th>\n",
       "      <td>id_3708</td>\n",
       "      <td>3715.0</td>\n",
       "      <td>4.0</td>\n",
       "      <td>2.0</td>\n",
       "      <td>251.0</td>\n",
       "      <td>0</td>\n",
       "      <td>8787892</td>\n",
       "      <td>1</td>\n",
       "      <td>1.000000</td>\n",
       "      <td>1337.63</td>\n",
       "      <td>...</td>\n",
       "      <td>0</td>\n",
       "      <td>0</td>\n",
       "      <td>0</td>\n",
       "      <td>0</td>\n",
       "      <td>0</td>\n",
       "      <td>0</td>\n",
       "      <td>0</td>\n",
       "      <td>0</td>\n",
       "      <td>0</td>\n",
       "      <td>1487036</td>\n",
       "    </tr>\n",
       "    <tr>\n",
       "      <th>16621</th>\n",
       "      <td>id_1311</td>\n",
       "      <td>1312.0</td>\n",
       "      <td>4.5</td>\n",
       "      <td>2.0</td>\n",
       "      <td>24.0</td>\n",
       "      <td>0</td>\n",
       "      <td>1620343</td>\n",
       "      <td>0</td>\n",
       "      <td>0.469598</td>\n",
       "      <td>803.33</td>\n",
       "      <td>...</td>\n",
       "      <td>0</td>\n",
       "      <td>0</td>\n",
       "      <td>0</td>\n",
       "      <td>0</td>\n",
       "      <td>0</td>\n",
       "      <td>0</td>\n",
       "      <td>0</td>\n",
       "      <td>0</td>\n",
       "      <td>0</td>\n",
       "      <td>12900140</td>\n",
       "    </tr>\n",
       "  </tbody>\n",
       "</table>\n",
       "<p>3 rows × 188 columns</p>\n",
       "</div>"
      ],
      "text/plain": [
       "      Restaurant_id  Ranking  Rating  Price Range  Number of Reviews  \\\n",
       "4115        id_2876   2879.0     4.0          2.0                0.0   \n",
       "11769       id_3708   3715.0     4.0          2.0              251.0   \n",
       "16621       id_1311   1312.0     4.5          2.0               24.0   \n",
       "\n",
       "       Number_of_Reviews_isNAN  City_pop  Capital  Rest_City_concentration  \\\n",
       "4115                         1    505526        1                 0.717044   \n",
       "11769                        0   8787892        1                 1.000000   \n",
       "16621                        0   1620343        0                 0.469598   \n",
       "\n",
       "       spend_visitor  ...  City_Oporto  City_Oslo  City_Paris  City_Prague  \\\n",
       "4115          771.21  ...            0          0           0            0   \n",
       "11769        1337.63  ...            0          0           0            0   \n",
       "16621         803.33  ...            0          0           0            0   \n",
       "\n",
       "       City_Rome  City_Stockholm  City_Vienna  City_Warsaw  City_Zurich  \\\n",
       "4115           0               0            0            0            0   \n",
       "11769          0               0            0            0            0   \n",
       "16621          0               0            0            0            0   \n",
       "\n",
       "       ID_TA_num  \n",
       "4115    12645762  \n",
       "11769    1487036  \n",
       "16621   12900140  \n",
       "\n",
       "[3 rows x 188 columns]"
      ]
     },
     "execution_count": 74,
     "metadata": {},
     "output_type": "execute_result"
    }
   ],
   "source": [
    "data.sample(3)"
   ]
  },
  {
   "cell_type": "markdown",
   "metadata": {},
   "source": [
    "### Restaurant_id"
   ]
  },
  {
   "cell_type": "code",
   "execution_count": 75,
   "metadata": {},
   "outputs": [],
   "source": [
    "# у Restaurant_id значения частично совпадают с Rating можно создать кластеры если убрать индекс\n",
    "\n",
    "data['Rest_id_cl'] = data['Restaurant_id'].apply(lambda x: round(int(x[3:])/10))"
   ]
  },
  {
   "cell_type": "markdown",
   "metadata": {},
   "source": [
    "# Разбиваем датафрейм на части, необходимые для обучения и тестирования модели"
   ]
  },
  {
   "cell_type": "code",
   "execution_count": 76,
   "metadata": {},
   "outputs": [],
   "source": [
    "# Х - данные с информацией о ресторанах, у - целевая переменная (рейтинги ресторанов)\n",
    "X = data.drop(['Restaurant_id','Rating'], axis = 1)\n",
    "y = data['Rating']"
   ]
  },
  {
   "cell_type": "code",
   "execution_count": 77,
   "metadata": {},
   "outputs": [],
   "source": [
    "# Загружаем специальный инструмент для разбивки:\n",
    "from sklearn.model_selection import train_test_split"
   ]
  },
  {
   "cell_type": "code",
   "execution_count": 78,
   "metadata": {},
   "outputs": [],
   "source": [
    "# Наборы данных с меткой \"train\" будут использоваться для обучения модели, \"test\" - для тестирования.\n",
    "# Для тестирования мы будем использовать 25% от исходного датасета.\n",
    "X_train, X_test, y_train, y_test = train_test_split(X, y, test_size=0.2)"
   ]
  },
  {
   "cell_type": "markdown",
   "metadata": {},
   "source": [
    "# Создаём, обучаем и тестируем модель"
   ]
  },
  {
   "cell_type": "code",
   "execution_count": 79,
   "metadata": {},
   "outputs": [],
   "source": [
    "# Импортируем необходимые библиотеки:\n",
    "from sklearn.ensemble import RandomForestRegressor # инструмент для создания и обучения модели\n",
    "from sklearn import metrics # инструменты для оценки точности модели"
   ]
  },
  {
   "cell_type": "code",
   "execution_count": 80,
   "metadata": {},
   "outputs": [],
   "source": [
    "# Создаём модель\n",
    "regr = RandomForestRegressor(n_estimators=100)\n",
    "\n",
    "# Обучаем модель на тестовом наборе данных\n",
    "regr.fit(X_train, y_train)\n",
    "\n",
    "# Используем обученную модель для предсказания рейтинга ресторанов в тестовой выборке.\n",
    "# Предсказанные значения записываем в переменную y_pred\n",
    "y_pred = regr.predict(X_test)"
   ]
  },
  {
   "cell_type": "code",
   "execution_count": 81,
   "metadata": {},
   "outputs": [
    {
     "name": "stdout",
     "output_type": "stream",
     "text": [
      "MAE: 0.1956842835519677\n"
     ]
    }
   ],
   "source": [
    "# Сравниваем предсказанные значения (y_pred) с реальными (y_test), и смотрим насколько они в среднем отличаются\n",
    "# Метрика называется Mean Absolute Error (MAE) и показывает среднее отклонение предсказанных значений от фактических.\n",
    "print('MAE:', metrics.mean_absolute_error(y_test, y_pred))"
   ]
  },
  {
   "cell_type": "code",
   "execution_count": null,
   "metadata": {},
   "outputs": [],
   "source": []
  }
 ],
 "metadata": {
  "kernelspec": {
   "display_name": "Python 3",
   "language": "python",
   "name": "python3"
  },
  "language_info": {
   "codemirror_mode": {
    "name": "ipython",
    "version": 3
   },
   "file_extension": ".py",
   "mimetype": "text/x-python",
   "name": "python",
   "nbconvert_exporter": "python",
   "pygments_lexer": "ipython3",
   "version": "3.7.6"
  }
 },
 "nbformat": 4,
 "nbformat_minor": 2
}
