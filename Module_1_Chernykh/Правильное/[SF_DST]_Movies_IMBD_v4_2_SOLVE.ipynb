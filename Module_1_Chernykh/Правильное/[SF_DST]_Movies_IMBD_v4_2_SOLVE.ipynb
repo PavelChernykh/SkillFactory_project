{
 "cells": [
  {
   "cell_type": "code",
   "execution_count": 1,
   "metadata": {
    "_cell_guid": "b1076dfc-b9ad-4769-8c92-a6c4dae69d19",
    "_uuid": "8f2839f25d086af736a60e9eeb907d3b93b6e0e5",
    "colab": {},
    "colab_type": "code",
    "id": "7uGwprs_qp5F",
    "outputId": "0cf18297-178c-407f-aeb0-1ef24bb40c7b"
   },
   "outputs": [],
   "source": [
    "import numpy as np\n",
    "import pandas as pd\n",
    "import seaborn as sns\n",
    "import matplotlib.pyplot as plt\n",
    "from collections import Counter\n",
    "# import os\n",
    "# print(os.listdir(\"../input\"))"
   ]
  },
  {
   "cell_type": "code",
   "execution_count": 2,
   "metadata": {
    "_cell_guid": "79c7e3d0-c299-4dcb-8224-4455121ee9b0",
    "_uuid": "d629ff2d2480ee46fbb7e2d37f6b5fab8052498a",
    "colab": {},
    "colab_type": "code",
    "id": "78EQC-NPqp5c",
    "outputId": "b85e0a17-e5a7-40b3-c255-5785b72c9b2e"
   },
   "outputs": [
    {
     "data": {
      "text/html": [
       "<div>\n",
       "<style scoped>\n",
       "    .dataframe tbody tr th:only-of-type {\n",
       "        vertical-align: middle;\n",
       "    }\n",
       "\n",
       "    .dataframe tbody tr th {\n",
       "        vertical-align: top;\n",
       "    }\n",
       "\n",
       "    .dataframe thead th {\n",
       "        text-align: right;\n",
       "    }\n",
       "</style>\n",
       "<table border=\"1\" class=\"dataframe\">\n",
       "  <thead>\n",
       "    <tr style=\"text-align: right;\">\n",
       "      <th></th>\n",
       "      <th>imdb_id</th>\n",
       "      <th>budget</th>\n",
       "      <th>revenue</th>\n",
       "      <th>original_title</th>\n",
       "      <th>cast</th>\n",
       "      <th>director</th>\n",
       "      <th>tagline</th>\n",
       "      <th>overview</th>\n",
       "      <th>runtime</th>\n",
       "      <th>genres</th>\n",
       "      <th>production_companies</th>\n",
       "      <th>release_date</th>\n",
       "      <th>vote_average</th>\n",
       "      <th>release_year</th>\n",
       "    </tr>\n",
       "  </thead>\n",
       "  <tbody>\n",
       "    <tr>\n",
       "      <th>309</th>\n",
       "      <td>tt1233227</td>\n",
       "      <td>11000000</td>\n",
       "      <td>68233629</td>\n",
       "      <td>Saw VI</td>\n",
       "      <td>Tobin Bell|Costas Mandylor|Betsy Russell|Mark ...</td>\n",
       "      <td>Kevin Greutert</td>\n",
       "      <td>The Game Has Come Full Circle</td>\n",
       "      <td>Special Agent Strahm is dead, and Detective Ho...</td>\n",
       "      <td>90</td>\n",
       "      <td>Horror|Mystery</td>\n",
       "      <td>Lionsgate|Twisted Pictures</td>\n",
       "      <td>10/22/2009</td>\n",
       "      <td>5.9</td>\n",
       "      <td>2009</td>\n",
       "    </tr>\n",
       "    <tr>\n",
       "      <th>290</th>\n",
       "      <td>tt1152836</td>\n",
       "      <td>80000000</td>\n",
       "      <td>214104620</td>\n",
       "      <td>Public Enemies</td>\n",
       "      <td>Christian Bale|Johnny Depp|Giovanni Ribisi|Bil...</td>\n",
       "      <td>Michael Mann</td>\n",
       "      <td>America's Most Wanted.</td>\n",
       "      <td>Depression-era bank robber John Dillinger's ch...</td>\n",
       "      <td>140</td>\n",
       "      <td>History|Crime|Drama</td>\n",
       "      <td>Universal Pictures|Appian Way|Forward Pass|Den...</td>\n",
       "      <td>7/1/2009</td>\n",
       "      <td>6.5</td>\n",
       "      <td>2009</td>\n",
       "    </tr>\n",
       "    <tr>\n",
       "      <th>1749</th>\n",
       "      <td>tt0462244</td>\n",
       "      <td>6000000</td>\n",
       "      <td>18197398</td>\n",
       "      <td>Daddy Day Camp</td>\n",
       "      <td>Cuba Gooding Jr.|Tamala Jones|Paul Rae|Lochlyn...</td>\n",
       "      <td>Fred Savage</td>\n",
       "      <td>The summer is going to be in tents.</td>\n",
       "      <td>Seeking to offer his son the satisfying summer...</td>\n",
       "      <td>89</td>\n",
       "      <td>Comedy|Family</td>\n",
       "      <td>Revolution Studios|TriStar Pictures</td>\n",
       "      <td>8/8/2007</td>\n",
       "      <td>4.8</td>\n",
       "      <td>2007</td>\n",
       "    </tr>\n",
       "    <tr>\n",
       "      <th>1594</th>\n",
       "      <td>tt0327679</td>\n",
       "      <td>31000000</td>\n",
       "      <td>27388767</td>\n",
       "      <td>Ella Enchanted</td>\n",
       "      <td>Anne Hathaway|Hugh Dancy|Cary Elwes|Aidan McAr...</td>\n",
       "      <td>Tommy O'Haver</td>\n",
       "      <td>Get enchanted</td>\n",
       "      <td>Ella of Frell is given the \"gift of obedience\"...</td>\n",
       "      <td>96</td>\n",
       "      <td>Fantasy|Comedy|Family|Romance</td>\n",
       "      <td>Miramax Films</td>\n",
       "      <td>4/9/2004</td>\n",
       "      <td>5.7</td>\n",
       "      <td>2004</td>\n",
       "    </tr>\n",
       "    <tr>\n",
       "      <th>1129</th>\n",
       "      <td>tt0315733</td>\n",
       "      <td>20000000</td>\n",
       "      <td>60427839</td>\n",
       "      <td>21 Grams</td>\n",
       "      <td>Sean Penn|Naomi Watts|Benicio del Toro|Danny H...</td>\n",
       "      <td>Alejandro GonzÃ¡lez IÃ±Ã¡rritu</td>\n",
       "      <td>How much does life weigh?</td>\n",
       "      <td>This is the story of three gentle persons: Pau...</td>\n",
       "      <td>124</td>\n",
       "      <td>Drama|Crime|Thriller</td>\n",
       "      <td>This Is That Productions|Y Productions|Mediana...</td>\n",
       "      <td>9/6/2003</td>\n",
       "      <td>7.0</td>\n",
       "      <td>2003</td>\n",
       "    </tr>\n",
       "  </tbody>\n",
       "</table>\n",
       "</div>"
      ],
      "text/plain": [
       "        imdb_id    budget    revenue  original_title  \\\n",
       "309   tt1233227  11000000   68233629          Saw VI   \n",
       "290   tt1152836  80000000  214104620  Public Enemies   \n",
       "1749  tt0462244   6000000   18197398  Daddy Day Camp   \n",
       "1594  tt0327679  31000000   27388767  Ella Enchanted   \n",
       "1129  tt0315733  20000000   60427839        21 Grams   \n",
       "\n",
       "                                                   cast  \\\n",
       "309   Tobin Bell|Costas Mandylor|Betsy Russell|Mark ...   \n",
       "290   Christian Bale|Johnny Depp|Giovanni Ribisi|Bil...   \n",
       "1749  Cuba Gooding Jr.|Tamala Jones|Paul Rae|Lochlyn...   \n",
       "1594  Anne Hathaway|Hugh Dancy|Cary Elwes|Aidan McAr...   \n",
       "1129  Sean Penn|Naomi Watts|Benicio del Toro|Danny H...   \n",
       "\n",
       "                            director                              tagline  \\\n",
       "309                   Kevin Greutert        The Game Has Come Full Circle   \n",
       "290                     Michael Mann               America's Most Wanted.   \n",
       "1749                     Fred Savage  The summer is going to be in tents.   \n",
       "1594                   Tommy O'Haver                        Get enchanted   \n",
       "1129  Alejandro GonzÃ¡lez IÃ±Ã¡rritu            How much does life weigh?   \n",
       "\n",
       "                                               overview  runtime  \\\n",
       "309   Special Agent Strahm is dead, and Detective Ho...       90   \n",
       "290   Depression-era bank robber John Dillinger's ch...      140   \n",
       "1749  Seeking to offer his son the satisfying summer...       89   \n",
       "1594  Ella of Frell is given the \"gift of obedience\"...       96   \n",
       "1129  This is the story of three gentle persons: Pau...      124   \n",
       "\n",
       "                             genres  \\\n",
       "309                  Horror|Mystery   \n",
       "290             History|Crime|Drama   \n",
       "1749                  Comedy|Family   \n",
       "1594  Fantasy|Comedy|Family|Romance   \n",
       "1129           Drama|Crime|Thriller   \n",
       "\n",
       "                                   production_companies release_date  \\\n",
       "309                          Lionsgate|Twisted Pictures   10/22/2009   \n",
       "290   Universal Pictures|Appian Way|Forward Pass|Den...     7/1/2009   \n",
       "1749                Revolution Studios|TriStar Pictures     8/8/2007   \n",
       "1594                                      Miramax Films     4/9/2004   \n",
       "1129  This Is That Productions|Y Productions|Mediana...     9/6/2003   \n",
       "\n",
       "      vote_average  release_year  \n",
       "309            5.9          2009  \n",
       "290            6.5          2009  \n",
       "1749           4.8          2007  \n",
       "1594           5.7          2004  \n",
       "1129           7.0          2003  "
      ]
     },
     "execution_count": 2,
     "metadata": {},
     "output_type": "execute_result"
    }
   ],
   "source": [
    "movie_bd = pd.read_csv('movie_bd_v5.csv')\n",
    "movie_bd.sample(5)"
   ]
  },
  {
   "cell_type": "code",
   "execution_count": 3,
   "metadata": {
    "colab": {},
    "colab_type": "code",
    "id": "Q4f9DJ57qp5e",
    "outputId": "99102470-ea5c-4ba0-d550-1566ddcadb62"
   },
   "outputs": [
    {
     "data": {
      "text/html": [
       "<div>\n",
       "<style scoped>\n",
       "    .dataframe tbody tr th:only-of-type {\n",
       "        vertical-align: middle;\n",
       "    }\n",
       "\n",
       "    .dataframe tbody tr th {\n",
       "        vertical-align: top;\n",
       "    }\n",
       "\n",
       "    .dataframe thead th {\n",
       "        text-align: right;\n",
       "    }\n",
       "</style>\n",
       "<table border=\"1\" class=\"dataframe\">\n",
       "  <thead>\n",
       "    <tr style=\"text-align: right;\">\n",
       "      <th></th>\n",
       "      <th>budget</th>\n",
       "      <th>revenue</th>\n",
       "      <th>runtime</th>\n",
       "      <th>vote_average</th>\n",
       "      <th>release_year</th>\n",
       "    </tr>\n",
       "  </thead>\n",
       "  <tbody>\n",
       "    <tr>\n",
       "      <th>count</th>\n",
       "      <td>1.889000e+03</td>\n",
       "      <td>1.889000e+03</td>\n",
       "      <td>1889.000000</td>\n",
       "      <td>1889.000000</td>\n",
       "      <td>1889.000000</td>\n",
       "    </tr>\n",
       "    <tr>\n",
       "      <th>mean</th>\n",
       "      <td>5.431083e+07</td>\n",
       "      <td>1.553653e+08</td>\n",
       "      <td>109.658549</td>\n",
       "      <td>6.140762</td>\n",
       "      <td>2007.860773</td>\n",
       "    </tr>\n",
       "    <tr>\n",
       "      <th>std</th>\n",
       "      <td>4.858721e+07</td>\n",
       "      <td>2.146698e+08</td>\n",
       "      <td>18.017041</td>\n",
       "      <td>0.764763</td>\n",
       "      <td>4.468841</td>\n",
       "    </tr>\n",
       "    <tr>\n",
       "      <th>min</th>\n",
       "      <td>5.000000e+06</td>\n",
       "      <td>2.033165e+06</td>\n",
       "      <td>63.000000</td>\n",
       "      <td>3.300000</td>\n",
       "      <td>2000.000000</td>\n",
       "    </tr>\n",
       "    <tr>\n",
       "      <th>25%</th>\n",
       "      <td>2.000000e+07</td>\n",
       "      <td>3.456058e+07</td>\n",
       "      <td>97.000000</td>\n",
       "      <td>5.600000</td>\n",
       "      <td>2004.000000</td>\n",
       "    </tr>\n",
       "    <tr>\n",
       "      <th>50%</th>\n",
       "      <td>3.800000e+07</td>\n",
       "      <td>8.361541e+07</td>\n",
       "      <td>107.000000</td>\n",
       "      <td>6.100000</td>\n",
       "      <td>2008.000000</td>\n",
       "    </tr>\n",
       "    <tr>\n",
       "      <th>75%</th>\n",
       "      <td>7.200000e+07</td>\n",
       "      <td>1.782626e+08</td>\n",
       "      <td>120.000000</td>\n",
       "      <td>6.600000</td>\n",
       "      <td>2012.000000</td>\n",
       "    </tr>\n",
       "    <tr>\n",
       "      <th>max</th>\n",
       "      <td>3.800000e+08</td>\n",
       "      <td>2.781506e+09</td>\n",
       "      <td>214.000000</td>\n",
       "      <td>8.100000</td>\n",
       "      <td>2015.000000</td>\n",
       "    </tr>\n",
       "  </tbody>\n",
       "</table>\n",
       "</div>"
      ],
      "text/plain": [
       "             budget       revenue      runtime  vote_average  release_year\n",
       "count  1.889000e+03  1.889000e+03  1889.000000   1889.000000   1889.000000\n",
       "mean   5.431083e+07  1.553653e+08   109.658549      6.140762   2007.860773\n",
       "std    4.858721e+07  2.146698e+08    18.017041      0.764763      4.468841\n",
       "min    5.000000e+06  2.033165e+06    63.000000      3.300000   2000.000000\n",
       "25%    2.000000e+07  3.456058e+07    97.000000      5.600000   2004.000000\n",
       "50%    3.800000e+07  8.361541e+07   107.000000      6.100000   2008.000000\n",
       "75%    7.200000e+07  1.782626e+08   120.000000      6.600000   2012.000000\n",
       "max    3.800000e+08  2.781506e+09   214.000000      8.100000   2015.000000"
      ]
     },
     "execution_count": 3,
     "metadata": {},
     "output_type": "execute_result"
    }
   ],
   "source": [
    "movie_bd.describe()"
   ]
  },
  {
   "cell_type": "code",
   "execution_count": 4,
   "metadata": {
    "colab": {},
    "colab_type": "code",
    "id": "e3zsDggdqp5g",
    "outputId": "516c39c9-0627-473c-8504-2cf3ee23806a"
   },
   "outputs": [
    {
     "data": {
      "text/plain": [
       "1889"
      ]
     },
     "execution_count": 4,
     "metadata": {},
     "output_type": "execute_result"
    }
   ],
   "source": [
    "len(movie_bd)"
   ]
  },
  {
   "cell_type": "markdown",
   "metadata": {
    "colab_type": "text",
    "id": "0R7dfHNIqp5i"
   },
   "source": [
    "# Предобработка"
   ]
  },
  {
   "cell_type": "code",
   "execution_count": 5,
   "metadata": {
    "colab": {},
    "colab_type": "code",
    "id": "tw4Mg7cAqp5i"
   },
   "outputs": [],
   "source": [
    "answers = {}\n",
    "\n",
    "#making a new column\n",
    "movie_bd['profit'] = movie_bd['revenue'] - movie_bd['budget']\n",
    "#movie_bd['cof_profit'] = movie_bd['revenue']/movie_bd['budget']\n",
    "\n",
    "#the the given in the dataset is in string format.\n",
    "#So we need to change this in datetime format\n",
    "\n",
    "movie_bd['release_date'] = pd.to_datetime(movie_bd['release_date'])\n",
    "#movie_bd['release_date'].head()\n",
    "\n",
    "movie_bd['season'] = movie_bd['release_date'].apply(lambda dt: (dt.month%12 + 3)//3) # лето, весна, осень, зима"
   ]
  },
  {
   "cell_type": "code",
   "execution_count": 6,
   "metadata": {
    "colab": {},
    "colab_type": "code",
    "id": "qhUxx_WVqp5k"
   },
   "outputs": [],
   "source": [
    "data = movie_bd"
   ]
  },
  {
   "cell_type": "markdown",
   "metadata": {
    "colab_type": "text",
    "id": "BIpAePfgqp5l"
   },
   "source": [
    "# 1. У какого фильма из списка самый большой бюджет?\n",
    "Варианты ответов:\n",
    "1. The Dark Knight Rises (tt1345836)\n",
    "2. Spider-Man 3 (tt0413300)\n",
    "3. Avengers: Age of Ultron (tt2395427)\n",
    "4. **The Warrior's Way\t(tt1032751)**\n",
    "5. Pirates of the Caribbean: On Stranger Tides (tt1298650)"
   ]
  },
  {
   "cell_type": "code",
   "execution_count": 7,
   "metadata": {
    "colab": {},
    "colab_type": "code",
    "id": "rUQ8cPnHqp5m"
   },
   "outputs": [],
   "source": [
    "answers['1'] = '5. Pirates of the Caribbean: On Stranger Tides (tt1298650)'"
   ]
  },
  {
   "cell_type": "code",
   "execution_count": 8,
   "metadata": {
    "colab": {},
    "colab_type": "code",
    "id": "PCd-5DG6qp5n",
    "outputId": "10f31ba2-be1c-44ff-b202-2d6465fdbebb"
   },
   "outputs": [
    {
     "name": "stdout",
     "output_type": "stream",
     "text": [
      "Pirates of the Caribbean: On Stranger Tides\n"
     ]
    }
   ],
   "source": [
    "print(data.original_title[data.budget.idxmax()])"
   ]
  },
  {
   "cell_type": "code",
   "execution_count": 8,
   "metadata": {
    "colab": {},
    "colab_type": "code",
    "id": "AUxvK9SLqp5p",
    "outputId": "85807c06-f984-40de-eadd-b3b3817eeb03"
   },
   "outputs": [
    {
     "name": "stdout",
     "output_type": "stream",
     "text": [
      "662 µs ± 45.9 µs per loop (mean ± std. dev. of 7 runs, 1000 loops each)\n"
     ]
    }
   ],
   "source": [
    "%%timeit\n",
    "data[data['budget'] == data['budget'].max()]['original_title'].values[0]"
   ]
  },
  {
   "cell_type": "code",
   "execution_count": 9,
   "metadata": {
    "colab": {},
    "colab_type": "code",
    "id": "Z4H6wNEdqp5r",
    "outputId": "b2366ae6-7871-4423-8011-5803b2ae8110"
   },
   "outputs": [
    {
     "name": "stdout",
     "output_type": "stream",
     "text": [
      "401 µs ± 18.9 µs per loop (mean ± std. dev. of 7 runs, 1000 loops each)\n"
     ]
    }
   ],
   "source": [
    "%%timeit \n",
    "data.loc[data['budget'] == data['budget'].max(),'original_title'].values[0]"
   ]
  },
  {
   "cell_type": "code",
   "execution_count": 10,
   "metadata": {
    "colab": {},
    "colab_type": "code",
    "id": "RW9iq-cDqp5u",
    "outputId": "f8a3d672-87db-4137-986e-37bfbcc1fa72"
   },
   "outputs": [
    {
     "name": "stdout",
     "output_type": "stream",
     "text": [
      "54.8 µs ± 3.42 µs per loop (mean ± std. dev. of 7 runs, 10000 loops each)\n"
     ]
    }
   ],
   "source": [
    "%%timeit \n",
    "data.original_title[data.budget.idxmax()]"
   ]
  },
  {
   "cell_type": "code",
   "execution_count": 11,
   "metadata": {
    "colab": {},
    "colab_type": "code",
    "id": "sKShd8M8qp5w",
    "outputId": "09ef66e8-4aad-4082-b9da-3783a7cb0439"
   },
   "outputs": [
    {
     "name": "stdout",
     "output_type": "stream",
     "text": [
      "1.01 ms ± 74.6 µs per loop (mean ± std. dev. of 7 runs, 1000 loops each)\n"
     ]
    }
   ],
   "source": [
    "%%timeit\n",
    "data.sort_values(['budget'], ascending=False).head(1)['original_title']"
   ]
  },
  {
   "cell_type": "markdown",
   "metadata": {
    "colab_type": "text",
    "id": "Vu0fagNHqp5y"
   },
   "source": [
    "ВАРИАНТ 2"
   ]
  },
  {
   "cell_type": "code",
   "execution_count": 13,
   "metadata": {
    "colab": {},
    "colab_type": "code",
    "id": "vok0c8lEqp5y",
    "outputId": "0c40b664-31cb-4aef-9df1-458e34eb2bd0"
   },
   "outputs": [
    {
     "data": {
      "text/html": [
       "<div>\n",
       "<style scoped>\n",
       "    .dataframe tbody tr th:only-of-type {\n",
       "        vertical-align: middle;\n",
       "    }\n",
       "\n",
       "    .dataframe tbody tr th {\n",
       "        vertical-align: top;\n",
       "    }\n",
       "\n",
       "    .dataframe thead th {\n",
       "        text-align: right;\n",
       "    }\n",
       "</style>\n",
       "<table border=\"1\" class=\"dataframe\">\n",
       "  <thead>\n",
       "    <tr style=\"text-align: right;\">\n",
       "      <th></th>\n",
       "      <th>budget</th>\n",
       "      <th>original_title</th>\n",
       "      <th>imdb_id</th>\n",
       "    </tr>\n",
       "  </thead>\n",
       "  <tbody>\n",
       "    <tr>\n",
       "      <th>723</th>\n",
       "      <td>380000000</td>\n",
       "      <td>Pirates of the Caribbean: On Stranger Tides</td>\n",
       "      <td>tt1298650</td>\n",
       "    </tr>\n",
       "    <tr>\n",
       "      <th>1669</th>\n",
       "      <td>300000000</td>\n",
       "      <td>Pirates of the Caribbean: At World's End</td>\n",
       "      <td>tt0449088</td>\n",
       "    </tr>\n",
       "    <tr>\n",
       "      <th>14</th>\n",
       "      <td>280000000</td>\n",
       "      <td>Avengers: Age of Ultron</td>\n",
       "      <td>tt2395427</td>\n",
       "    </tr>\n",
       "    <tr>\n",
       "      <th>1014</th>\n",
       "      <td>260000000</td>\n",
       "      <td>John Carter</td>\n",
       "      <td>tt0401729</td>\n",
       "    </tr>\n",
       "    <tr>\n",
       "      <th>380</th>\n",
       "      <td>260000000</td>\n",
       "      <td>Tangled</td>\n",
       "      <td>tt0398286</td>\n",
       "    </tr>\n",
       "    <tr>\n",
       "      <th>1676</th>\n",
       "      <td>258000000</td>\n",
       "      <td>Spider-Man 3</td>\n",
       "      <td>tt0413300</td>\n",
       "    </tr>\n",
       "    <tr>\n",
       "      <th>1245</th>\n",
       "      <td>255000000</td>\n",
       "      <td>The Lone Ranger</td>\n",
       "      <td>tt1210819</td>\n",
       "    </tr>\n",
       "    <tr>\n",
       "      <th>374</th>\n",
       "      <td>250000000</td>\n",
       "      <td>Harry Potter and the Deathly Hallows: Part 1</td>\n",
       "      <td>tt0926084</td>\n",
       "    </tr>\n",
       "    <tr>\n",
       "      <th>1186</th>\n",
       "      <td>250000000</td>\n",
       "      <td>The Hobbit: The Desolation of Smaug</td>\n",
       "      <td>tt1170358</td>\n",
       "    </tr>\n",
       "    <tr>\n",
       "      <th>972</th>\n",
       "      <td>250000000</td>\n",
       "      <td>The Dark Knight Rises</td>\n",
       "      <td>tt1345836</td>\n",
       "    </tr>\n",
       "  </tbody>\n",
       "</table>\n",
       "</div>"
      ],
      "text/plain": [
       "         budget                                original_title    imdb_id\n",
       "723   380000000   Pirates of the Caribbean: On Stranger Tides  tt1298650\n",
       "1669  300000000      Pirates of the Caribbean: At World's End  tt0449088\n",
       "14    280000000                       Avengers: Age of Ultron  tt2395427\n",
       "1014  260000000                                   John Carter  tt0401729\n",
       "380   260000000                                       Tangled  tt0398286\n",
       "1676  258000000                                  Spider-Man 3  tt0413300\n",
       "1245  255000000                               The Lone Ranger  tt1210819\n",
       "374   250000000  Harry Potter and the Deathly Hallows: Part 1  tt0926084\n",
       "1186  250000000           The Hobbit: The Desolation of Smaug  tt1170358\n",
       "972   250000000                         The Dark Knight Rises  tt1345836"
      ]
     },
     "execution_count": 13,
     "metadata": {},
     "output_type": "execute_result"
    }
   ],
   "source": [
    "# Top 10\n",
    "data[['budget', 'original_title', 'imdb_id']].sort_values('budget', ascending=False)[:10]"
   ]
  },
  {
   "cell_type": "markdown",
   "metadata": {
    "colab_type": "text",
    "id": "taG35lr6qp50"
   },
   "source": [
    "# 2. Какой из фильмов самый длительный (в минутах)?\n",
    "1. The Lord of the Rings: The Return of the King\t(tt0167260)\n",
    "2. **Gods and Generals\t(tt0279111)**\n",
    "3. King Kong\t(tt0360717)\n",
    "4. Pearl Harbor\t(tt0213149)\n",
    "5. Alexander\t(tt0346491)"
   ]
  },
  {
   "cell_type": "code",
   "execution_count": 14,
   "metadata": {
    "colab": {},
    "colab_type": "code",
    "id": "5cKAD_bpqp50"
   },
   "outputs": [],
   "source": [
    "answers['2'] = '2. Gods and Generals (tt0279111)'"
   ]
  },
  {
   "cell_type": "code",
   "execution_count": 15,
   "metadata": {
    "colab": {},
    "colab_type": "code",
    "id": "I00-DRVHqp52",
    "outputId": "e0a58381-9229-4a58-f570-6181a06d3a99"
   },
   "outputs": [
    {
     "data": {
      "text/plain": [
       "'Gods and Generals'"
      ]
     },
     "execution_count": 15,
     "metadata": {},
     "output_type": "execute_result"
    }
   ],
   "source": [
    "data.loc[data.runtime==data.runtime.max(),'original_title'].values[0]"
   ]
  },
  {
   "cell_type": "code",
   "execution_count": 16,
   "metadata": {
    "colab": {},
    "colab_type": "code",
    "id": "uW_udy9mqp54",
    "outputId": "27aebf62-c2d1-4839-94b6-3e66a0b76d34"
   },
   "outputs": [
    {
     "data": {
      "text/plain": [
       "'Gods and Generals'"
      ]
     },
     "execution_count": 16,
     "metadata": {},
     "output_type": "execute_result"
    }
   ],
   "source": [
    "data.original_title[data.runtime.idxmax()]"
   ]
  },
  {
   "cell_type": "code",
   "execution_count": 12,
   "metadata": {
    "colab": {},
    "colab_type": "code",
    "id": "OFYF-6_Eqp55",
    "outputId": "3b3a9348-49cb-4d26-d568-37bd8b5ebb22"
   },
   "outputs": [
    {
     "data": {
      "text/html": [
       "<div>\n",
       "<style scoped>\n",
       "    .dataframe tbody tr th:only-of-type {\n",
       "        vertical-align: middle;\n",
       "    }\n",
       "\n",
       "    .dataframe tbody tr th {\n",
       "        vertical-align: top;\n",
       "    }\n",
       "\n",
       "    .dataframe thead th {\n",
       "        text-align: right;\n",
       "    }\n",
       "</style>\n",
       "<table border=\"1\" class=\"dataframe\">\n",
       "  <thead>\n",
       "    <tr style=\"text-align: right;\">\n",
       "      <th></th>\n",
       "      <th>runtime</th>\n",
       "      <th>original_title</th>\n",
       "      <th>imdb_id</th>\n",
       "    </tr>\n",
       "  </thead>\n",
       "  <tbody>\n",
       "    <tr>\n",
       "      <th>1157</th>\n",
       "      <td>214</td>\n",
       "      <td>Gods and Generals</td>\n",
       "      <td>tt0279111</td>\n",
       "    </tr>\n",
       "    <tr>\n",
       "      <th>1081</th>\n",
       "      <td>201</td>\n",
       "      <td>The Lord of the Rings: The Return of the King</td>\n",
       "      <td>tt0167260</td>\n",
       "    </tr>\n",
       "    <tr>\n",
       "      <th>1736</th>\n",
       "      <td>191</td>\n",
       "      <td>Grindhouse</td>\n",
       "      <td>tt0462322</td>\n",
       "    </tr>\n",
       "    <tr>\n",
       "      <th>1336</th>\n",
       "      <td>187</td>\n",
       "      <td>King Kong</td>\n",
       "      <td>tt0360717</td>\n",
       "    </tr>\n",
       "    <tr>\n",
       "      <th>504</th>\n",
       "      <td>183</td>\n",
       "      <td>Pearl Harbor</td>\n",
       "      <td>tt0213149</td>\n",
       "    </tr>\n",
       "    <tr>\n",
       "      <th>1183</th>\n",
       "      <td>180</td>\n",
       "      <td>The Wolf of Wall Street</td>\n",
       "      <td>tt0993846</td>\n",
       "    </tr>\n",
       "    <tr>\n",
       "      <th>863</th>\n",
       "      <td>179</td>\n",
       "      <td>The Lord of the Rings: The Two Towers</td>\n",
       "      <td>tt0167261</td>\n",
       "    </tr>\n",
       "    <tr>\n",
       "      <th>496</th>\n",
       "      <td>178</td>\n",
       "      <td>The Lord of the Rings: The Fellowship of the Ring</td>\n",
       "      <td>tt0120737</td>\n",
       "    </tr>\n",
       "    <tr>\n",
       "      <th>1601</th>\n",
       "      <td>175</td>\n",
       "      <td>Alexander</td>\n",
       "      <td>tt0346491</td>\n",
       "    </tr>\n",
       "    <tr>\n",
       "      <th>993</th>\n",
       "      <td>172</td>\n",
       "      <td>Cloud Atlas</td>\n",
       "      <td>tt1371111</td>\n",
       "    </tr>\n",
       "  </tbody>\n",
       "</table>\n",
       "</div>"
      ],
      "text/plain": [
       "      runtime                                     original_title    imdb_id\n",
       "1157      214                                  Gods and Generals  tt0279111\n",
       "1081      201      The Lord of the Rings: The Return of the King  tt0167260\n",
       "1736      191                                         Grindhouse  tt0462322\n",
       "1336      187                                          King Kong  tt0360717\n",
       "504       183                                       Pearl Harbor  tt0213149\n",
       "1183      180                            The Wolf of Wall Street  tt0993846\n",
       "863       179              The Lord of the Rings: The Two Towers  tt0167261\n",
       "496       178  The Lord of the Rings: The Fellowship of the Ring  tt0120737\n",
       "1601      175                                          Alexander  tt0346491\n",
       "993       172                                        Cloud Atlas  tt1371111"
      ]
     },
     "execution_count": 12,
     "metadata": {},
     "output_type": "execute_result"
    }
   ],
   "source": [
    "# Top 10\n",
    "data[['runtime', 'original_title', 'imdb_id']].sort_values('runtime', ascending=False)[:10]"
   ]
  },
  {
   "cell_type": "markdown",
   "metadata": {
    "colab_type": "text",
    "id": "3epp-rn2qp58"
   },
   "source": [
    "# 3. Какой из фильмов самый короткий (в минутах)?\n",
    "Варианты ответов:\n",
    "\n",
    "1. Home on the Range\ttt0299172\n",
    "2. The Jungle Book 2\ttt0283426\n",
    "3. **Winnie the Pooh\ttt1449283**\n",
    "4. Corpse Bride\ttt0121164\n",
    "5. Hoodwinked!\ttt0443536\n",
    "\n",
    "\n",
    "\n"
   ]
  },
  {
   "cell_type": "code",
   "execution_count": 13,
   "metadata": {
    "colab": {},
    "colab_type": "code",
    "id": "H1v_ZF2Eqp58"
   },
   "outputs": [],
   "source": [
    "answers['3'] = '3. Winnie the Pooh tt1449283'"
   ]
  },
  {
   "cell_type": "code",
   "execution_count": 14,
   "metadata": {
    "colab": {},
    "colab_type": "code",
    "id": "Z15Cqd0Xqp5-",
    "outputId": "43975fca-d6f1-4920-c6d6-354a24c68c3a"
   },
   "outputs": [
    {
     "data": {
      "text/plain": [
       "'Winnie the Pooh'"
      ]
     },
     "execution_count": 14,
     "metadata": {},
     "output_type": "execute_result"
    }
   ],
   "source": [
    "data.loc[data.runtime==data.runtime.min(),'original_title'].values[0]"
   ]
  },
  {
   "cell_type": "code",
   "execution_count": 15,
   "metadata": {
    "colab": {},
    "colab_type": "code",
    "id": "-L4Lycvxqp5_",
    "outputId": "40d66b6c-8d35-4146-e343-c544b1c9bf1b"
   },
   "outputs": [
    {
     "name": "stdout",
     "output_type": "stream",
     "text": [
      "Winnie the Pooh\n"
     ]
    }
   ],
   "source": [
    "print(data.original_title[data.runtime.idxmin()])"
   ]
  },
  {
   "cell_type": "code",
   "execution_count": 16,
   "metadata": {
    "colab": {},
    "colab_type": "code",
    "id": "1-npbJU7qp6B",
    "outputId": "7c9361e3-a2d9-4201-d581-b68a30509606"
   },
   "outputs": [
    {
     "data": {
      "text/html": [
       "<div>\n",
       "<style scoped>\n",
       "    .dataframe tbody tr th:only-of-type {\n",
       "        vertical-align: middle;\n",
       "    }\n",
       "\n",
       "    .dataframe tbody tr th {\n",
       "        vertical-align: top;\n",
       "    }\n",
       "\n",
       "    .dataframe thead th {\n",
       "        text-align: right;\n",
       "    }\n",
       "</style>\n",
       "<table border=\"1\" class=\"dataframe\">\n",
       "  <thead>\n",
       "    <tr style=\"text-align: right;\">\n",
       "      <th></th>\n",
       "      <th>runtime</th>\n",
       "      <th>original_title</th>\n",
       "      <th>imdb_id</th>\n",
       "    </tr>\n",
       "  </thead>\n",
       "  <tbody>\n",
       "    <tr>\n",
       "      <th>1587</th>\n",
       "      <td>80</td>\n",
       "      <td>Garfield</td>\n",
       "      <td>tt0356634</td>\n",
       "    </tr>\n",
       "    <tr>\n",
       "      <th>252</th>\n",
       "      <td>79</td>\n",
       "      <td>9</td>\n",
       "      <td>tt0472033</td>\n",
       "    </tr>\n",
       "    <tr>\n",
       "      <th>884</th>\n",
       "      <td>78</td>\n",
       "      <td>Stuart Little 2</td>\n",
       "      <td>tt0243585</td>\n",
       "    </tr>\n",
       "    <tr>\n",
       "      <th>1807</th>\n",
       "      <td>78</td>\n",
       "      <td>The Emperor's New Groove</td>\n",
       "      <td>tt0120917</td>\n",
       "    </tr>\n",
       "    <tr>\n",
       "      <th>1348</th>\n",
       "      <td>77</td>\n",
       "      <td>Corpse Bride</td>\n",
       "      <td>tt0121164</td>\n",
       "    </tr>\n",
       "    <tr>\n",
       "      <th>1408</th>\n",
       "      <td>76</td>\n",
       "      <td>Valiant</td>\n",
       "      <td>tt0361089</td>\n",
       "    </tr>\n",
       "    <tr>\n",
       "      <th>1626</th>\n",
       "      <td>76</td>\n",
       "      <td>Home on the Range</td>\n",
       "      <td>tt0299172</td>\n",
       "    </tr>\n",
       "    <tr>\n",
       "      <th>1097</th>\n",
       "      <td>72</td>\n",
       "      <td>The Jungle Book 2</td>\n",
       "      <td>tt0283426</td>\n",
       "    </tr>\n",
       "    <tr>\n",
       "      <th>930</th>\n",
       "      <td>72</td>\n",
       "      <td>Return to Never Land</td>\n",
       "      <td>tt0280030</td>\n",
       "    </tr>\n",
       "    <tr>\n",
       "      <th>768</th>\n",
       "      <td>63</td>\n",
       "      <td>Winnie the Pooh</td>\n",
       "      <td>tt1449283</td>\n",
       "    </tr>\n",
       "  </tbody>\n",
       "</table>\n",
       "</div>"
      ],
      "text/plain": [
       "      runtime            original_title    imdb_id\n",
       "1587       80                  Garfield  tt0356634\n",
       "252        79                         9  tt0472033\n",
       "884        78           Stuart Little 2  tt0243585\n",
       "1807       78  The Emperor's New Groove  tt0120917\n",
       "1348       77              Corpse Bride  tt0121164\n",
       "1408       76                   Valiant  tt0361089\n",
       "1626       76         Home on the Range  tt0299172\n",
       "1097       72         The Jungle Book 2  tt0283426\n",
       "930        72      Return to Never Land  tt0280030\n",
       "768        63           Winnie the Pooh  tt1449283"
      ]
     },
     "execution_count": 16,
     "metadata": {},
     "output_type": "execute_result"
    }
   ],
   "source": [
    "# Top 10\n",
    "data[['runtime', 'original_title', 'imdb_id']].sort_values('runtime', ascending=False)[-10:]"
   ]
  },
  {
   "cell_type": "markdown",
   "metadata": {
    "colab_type": "text",
    "id": "Zfu4cECoqp6D"
   },
   "source": [
    "# 4. Какова средняя длительность фильмов?\n",
    "\n",
    "Варианты ответов:\n",
    "1. 115\n",
    "2. 110\n",
    "3. 105\n",
    "4. 120\n",
    "5. 100\n"
   ]
  },
  {
   "cell_type": "code",
   "execution_count": 22,
   "metadata": {
    "colab": {},
    "colab_type": "code",
    "id": "0vTx23Ftqp6D"
   },
   "outputs": [],
   "source": [
    "answers['4'] = '2. 110'"
   ]
  },
  {
   "cell_type": "code",
   "execution_count": 21,
   "metadata": {},
   "outputs": [
    {
     "data": {
      "text/html": [
       "<div>\n",
       "<style scoped>\n",
       "    .dataframe tbody tr th:only-of-type {\n",
       "        vertical-align: middle;\n",
       "    }\n",
       "\n",
       "    .dataframe tbody tr th {\n",
       "        vertical-align: top;\n",
       "    }\n",
       "\n",
       "    .dataframe thead th {\n",
       "        text-align: right;\n",
       "    }\n",
       "</style>\n",
       "<table border=\"1\" class=\"dataframe\">\n",
       "  <thead>\n",
       "    <tr style=\"text-align: right;\">\n",
       "      <th></th>\n",
       "      <th>runtime</th>\n",
       "    </tr>\n",
       "  </thead>\n",
       "  <tbody>\n",
       "    <tr>\n",
       "      <th>768</th>\n",
       "      <td>63</td>\n",
       "    </tr>\n",
       "    <tr>\n",
       "      <th>930</th>\n",
       "      <td>72</td>\n",
       "    </tr>\n",
       "    <tr>\n",
       "      <th>1097</th>\n",
       "      <td>72</td>\n",
       "    </tr>\n",
       "    <tr>\n",
       "      <th>1408</th>\n",
       "      <td>76</td>\n",
       "    </tr>\n",
       "    <tr>\n",
       "      <th>1626</th>\n",
       "      <td>76</td>\n",
       "    </tr>\n",
       "    <tr>\n",
       "      <th>...</th>\n",
       "      <td>...</td>\n",
       "    </tr>\n",
       "    <tr>\n",
       "      <th>504</th>\n",
       "      <td>183</td>\n",
       "    </tr>\n",
       "    <tr>\n",
       "      <th>1336</th>\n",
       "      <td>187</td>\n",
       "    </tr>\n",
       "    <tr>\n",
       "      <th>1736</th>\n",
       "      <td>191</td>\n",
       "    </tr>\n",
       "    <tr>\n",
       "      <th>1081</th>\n",
       "      <td>201</td>\n",
       "    </tr>\n",
       "    <tr>\n",
       "      <th>1157</th>\n",
       "      <td>214</td>\n",
       "    </tr>\n",
       "  </tbody>\n",
       "</table>\n",
       "<p>1889 rows × 1 columns</p>\n",
       "</div>"
      ],
      "text/plain": [
       "      runtime\n",
       "768        63\n",
       "930        72\n",
       "1097       72\n",
       "1408       76\n",
       "1626       76\n",
       "...       ...\n",
       "504       183\n",
       "1336      187\n",
       "1736      191\n",
       "1081      201\n",
       "1157      214\n",
       "\n",
       "[1889 rows x 1 columns]"
      ]
     },
     "execution_count": 21,
     "metadata": {},
     "output_type": "execute_result"
    }
   ],
   "source": [
    "data[['runtime']].sort_values(by='runtime')"
   ]
  },
  {
   "cell_type": "code",
   "execution_count": 19,
   "metadata": {
    "colab": {},
    "colab_type": "code",
    "id": "Zpgb994Qqp6F",
    "outputId": "76b0f56b-ec93-4f86-d6c0-653c12df125c"
   },
   "outputs": [
    {
     "data": {
      "text/plain": [
       "768      63\n",
       "930      72\n",
       "1097     72\n",
       "1408     76\n",
       "1626     76\n",
       "       ... \n",
       "504     183\n",
       "1336    187\n",
       "1736    191\n",
       "1081    201\n",
       "1157    214\n",
       "Name: runtime, Length: 1889, dtype: int64"
      ]
     },
     "execution_count": 19,
     "metadata": {},
     "output_type": "execute_result"
    }
   ],
   "source": [
    "data['runtime'].sort_values()"
   ]
  },
  {
   "cell_type": "code",
   "execution_count": 22,
   "metadata": {
    "colab": {},
    "colab_type": "code",
    "id": "ld80dtmiqp6H",
    "outputId": "45fa3aea-ccc4-4c26-e380-dd517c56ae3c"
   },
   "outputs": [
    {
     "data": {
      "text/plain": [
       "109.6585494970884"
      ]
     },
     "execution_count": 22,
     "metadata": {},
     "output_type": "execute_result"
    }
   ],
   "source": [
    "data.runtime.mean()"
   ]
  },
  {
   "cell_type": "markdown",
   "metadata": {
    "colab_type": "text",
    "id": "iFCs7P_aqp6J"
   },
   "source": [
    "# 5. Каково медианное значение длительности фильмов? \n",
    "\n",
    "Варианты ответов:\n",
    "1. 107\n",
    "2. 112\n",
    "3. 101\n",
    "4. 120\n",
    "5. 115\n",
    "\n",
    "\n"
   ]
  },
  {
   "cell_type": "code",
   "execution_count": 23,
   "metadata": {
    "colab": {},
    "colab_type": "code",
    "id": "pTI-dILrqp6J"
   },
   "outputs": [],
   "source": [
    "answers['5'] = '1. 107'"
   ]
  },
  {
   "cell_type": "code",
   "execution_count": 24,
   "metadata": {
    "colab": {},
    "colab_type": "code",
    "id": "Xhm2Ob9bqp6K",
    "outputId": "33c1cbcf-ee70-4bc9-bed4-d2ea68e691c5"
   },
   "outputs": [
    {
     "data": {
      "text/plain": [
       "107.0"
      ]
     },
     "execution_count": 24,
     "metadata": {},
     "output_type": "execute_result"
    }
   ],
   "source": [
    "data.runtime.median()"
   ]
  },
  {
   "cell_type": "markdown",
   "metadata": {
    "colab_type": "text",
    "id": "1pcOMJXoqp6M"
   },
   "source": [
    "# 6. Какой самый прибыльный фильм?\n",
    "### Внимание! Здесь и далее под «прибылью» или «убытками» понимается разность между сборами и бюджетом фильма. (прибыль = сборы - бюджет) в нашем датасете это будет (profit = revenue - budget) \n",
    "\n",
    "Варианты ответов:\n",
    "1. The Avengers\ttt0848228\n",
    "2. Minions\ttt2293640\n",
    "3. Star Wars: The Force Awakens\ttt2488496\n",
    "4. Furious 7\ttt2820852\n",
    "5. **Avatar\ttt0499549**"
   ]
  },
  {
   "cell_type": "code",
   "execution_count": 25,
   "metadata": {
    "colab": {},
    "colab_type": "code",
    "id": "wOQCf5_eqp6N"
   },
   "outputs": [],
   "source": [
    "answers['6'] = '5. Avatar tt0499549'"
   ]
  },
  {
   "cell_type": "code",
   "execution_count": 26,
   "metadata": {
    "colab": {},
    "colab_type": "code",
    "id": "QZZ9dAabqp6P",
    "outputId": "dc29e2f1-b9b6-49c2-c718-3f3cbda0602c"
   },
   "outputs": [
    {
     "data": {
      "text/plain": [
       "'Avatar'"
      ]
     },
     "execution_count": 26,
     "metadata": {},
     "output_type": "execute_result"
    }
   ],
   "source": [
    "data.loc[data.profit==data.profit.max(),'original_title'].values[0]"
   ]
  },
  {
   "cell_type": "code",
   "execution_count": 27,
   "metadata": {
    "colab": {},
    "colab_type": "code",
    "id": "ScQ4KWQVqp6Q",
    "outputId": "23961521-f314-4b09-fa93-429c225e4379"
   },
   "outputs": [
    {
     "name": "stdout",
     "output_type": "stream",
     "text": [
      "Avatar\n"
     ]
    }
   ],
   "source": [
    "print(data.original_title[data.profit.idxmax()])"
   ]
  },
  {
   "cell_type": "code",
   "execution_count": 28,
   "metadata": {
    "colab": {},
    "colab_type": "code",
    "id": "-hYIWyCFqp6S",
    "outputId": "72fe15ef-e3f6-4b3b-8daf-254fcbef0a9c"
   },
   "outputs": [
    {
     "data": {
      "text/html": [
       "<div>\n",
       "<style scoped>\n",
       "    .dataframe tbody tr th:only-of-type {\n",
       "        vertical-align: middle;\n",
       "    }\n",
       "\n",
       "    .dataframe tbody tr th {\n",
       "        vertical-align: top;\n",
       "    }\n",
       "\n",
       "    .dataframe thead th {\n",
       "        text-align: right;\n",
       "    }\n",
       "</style>\n",
       "<table border=\"1\" class=\"dataframe\">\n",
       "  <thead>\n",
       "    <tr style=\"text-align: right;\">\n",
       "      <th></th>\n",
       "      <th>profit</th>\n",
       "      <th>original_title</th>\n",
       "      <th>imdb_id</th>\n",
       "    </tr>\n",
       "  </thead>\n",
       "  <tbody>\n",
       "    <tr>\n",
       "      <th>239</th>\n",
       "      <td>2544505847</td>\n",
       "      <td>Avatar</td>\n",
       "      <td>tt0499549</td>\n",
       "    </tr>\n",
       "    <tr>\n",
       "      <th>3</th>\n",
       "      <td>1868178225</td>\n",
       "      <td>Star Wars: The Force Awakens</td>\n",
       "      <td>tt2488496</td>\n",
       "    </tr>\n",
       "    <tr>\n",
       "      <th>0</th>\n",
       "      <td>1363528810</td>\n",
       "      <td>Jurassic World</td>\n",
       "      <td>tt0369610</td>\n",
       "    </tr>\n",
       "    <tr>\n",
       "      <th>4</th>\n",
       "      <td>1316249360</td>\n",
       "      <td>Furious 7</td>\n",
       "      <td>tt2820852</td>\n",
       "    </tr>\n",
       "    <tr>\n",
       "      <th>970</th>\n",
       "      <td>1299557910</td>\n",
       "      <td>The Avengers</td>\n",
       "      <td>tt0848228</td>\n",
       "    </tr>\n",
       "    <tr>\n",
       "      <th>722</th>\n",
       "      <td>1202817822</td>\n",
       "      <td>Harry Potter and the Deathly Hallows: Part 2</td>\n",
       "      <td>tt1201607</td>\n",
       "    </tr>\n",
       "    <tr>\n",
       "      <th>14</th>\n",
       "      <td>1125035767</td>\n",
       "      <td>Avengers: Age of Ultron</td>\n",
       "      <td>tt2395427</td>\n",
       "    </tr>\n",
       "    <tr>\n",
       "      <th>1177</th>\n",
       "      <td>1124219009</td>\n",
       "      <td>Frozen</td>\n",
       "      <td>tt2294629</td>\n",
       "    </tr>\n",
       "    <tr>\n",
       "      <th>8</th>\n",
       "      <td>1082730962</td>\n",
       "      <td>Minions</td>\n",
       "      <td>tt2293640</td>\n",
       "    </tr>\n",
       "    <tr>\n",
       "      <th>1081</th>\n",
       "      <td>1024888979</td>\n",
       "      <td>The Lord of the Rings: The Return of the King</td>\n",
       "      <td>tt0167260</td>\n",
       "    </tr>\n",
       "  </tbody>\n",
       "</table>\n",
       "</div>"
      ],
      "text/plain": [
       "          profit                                 original_title    imdb_id\n",
       "239   2544505847                                         Avatar  tt0499549\n",
       "3     1868178225                   Star Wars: The Force Awakens  tt2488496\n",
       "0     1363528810                                 Jurassic World  tt0369610\n",
       "4     1316249360                                      Furious 7  tt2820852\n",
       "970   1299557910                                   The Avengers  tt0848228\n",
       "722   1202817822   Harry Potter and the Deathly Hallows: Part 2  tt1201607\n",
       "14    1125035767                        Avengers: Age of Ultron  tt2395427\n",
       "1177  1124219009                                         Frozen  tt2294629\n",
       "8     1082730962                                        Minions  tt2293640\n",
       "1081  1024888979  The Lord of the Rings: The Return of the King  tt0167260"
      ]
     },
     "execution_count": 28,
     "metadata": {},
     "output_type": "execute_result"
    }
   ],
   "source": [
    "data[['profit', 'original_title', 'imdb_id']].sort_values('profit', ascending=False)[:10]"
   ]
  },
  {
   "cell_type": "markdown",
   "metadata": {
    "colab_type": "text",
    "id": "keBmkAU6qp6U"
   },
   "source": [
    "# 7. Какой фильм самый убыточный? \n",
    "\n",
    "Варианты ответов:\n",
    "1. Supernova tt0134983\n",
    "2. Frozen\ttt2294629\n",
    "3. Speed Racer\ttt0811080\n",
    "4. The Adventures of Pluto Nash\ttt0180052\n",
    "5. Miles to Gracelan\ttt0233142"
   ]
  },
  {
   "cell_type": "code",
   "execution_count": 29,
   "metadata": {
    "colab": {},
    "colab_type": "code",
    "id": "BhlgfFJyqp6U"
   },
   "outputs": [],
   "source": [
    "answers['7'] = '4. The Adventures of Pluto Nash (tt0180052)'"
   ]
  },
  {
   "cell_type": "code",
   "execution_count": 30,
   "metadata": {
    "colab": {},
    "colab_type": "code",
    "id": "Yw-O_Xy0qp6W",
    "outputId": "0aec62bd-e23d-4545-97bd-c9a22ee3ed39"
   },
   "outputs": [
    {
     "data": {
      "text/plain": [
       "1245                 The Lone Ranger\n",
       "1616                       The Alamo\n",
       "809                  Mars Needs Moms\n",
       "958     The Adventures of Pluto Nash\n",
       "1464                    Flushed Away\n",
       "636                        Australia\n",
       "1872                       Supernova\n",
       "1400              A Sound of Thunder\n",
       "1718                           Awake\n",
       "468                  How Do You Know\n",
       "Name: original_title, dtype: object"
      ]
     },
     "execution_count": 30,
     "metadata": {},
     "output_type": "execute_result"
    }
   ],
   "source": [
    "data.sort_values(by='profit').head(10)['original_title']"
   ]
  },
  {
   "cell_type": "code",
   "execution_count": 32,
   "metadata": {
    "colab": {},
    "colab_type": "code",
    "id": "5ifEqouaqp6Z",
    "outputId": "00b681e1-6d7c-4610-bd8e-cab4ee0ddbd4"
   },
   "outputs": [
    {
     "data": {
      "text/html": [
       "<div>\n",
       "<style scoped>\n",
       "    .dataframe tbody tr th:only-of-type {\n",
       "        vertical-align: middle;\n",
       "    }\n",
       "\n",
       "    .dataframe tbody tr th {\n",
       "        vertical-align: top;\n",
       "    }\n",
       "\n",
       "    .dataframe thead th {\n",
       "        text-align: right;\n",
       "    }\n",
       "</style>\n",
       "<table border=\"1\" class=\"dataframe\">\n",
       "  <thead>\n",
       "    <tr style=\"text-align: right;\">\n",
       "      <th></th>\n",
       "      <th>profit</th>\n",
       "      <th>original_title</th>\n",
       "      <th>imdb_id</th>\n",
       "    </tr>\n",
       "  </thead>\n",
       "  <tbody>\n",
       "    <tr>\n",
       "      <th>468</th>\n",
       "      <td>-71331093</td>\n",
       "      <td>How Do You Know</td>\n",
       "      <td>tt1341188</td>\n",
       "    </tr>\n",
       "    <tr>\n",
       "      <th>1718</th>\n",
       "      <td>-71626175</td>\n",
       "      <td>Awake</td>\n",
       "      <td>tt0211933</td>\n",
       "    </tr>\n",
       "    <tr>\n",
       "      <th>1400</th>\n",
       "      <td>-74010360</td>\n",
       "      <td>A Sound of Thunder</td>\n",
       "      <td>tt0318081</td>\n",
       "    </tr>\n",
       "    <tr>\n",
       "      <th>1872</th>\n",
       "      <td>-75171919</td>\n",
       "      <td>Supernova</td>\n",
       "      <td>tt0134983</td>\n",
       "    </tr>\n",
       "    <tr>\n",
       "      <th>636</th>\n",
       "      <td>-80445998</td>\n",
       "      <td>Australia</td>\n",
       "      <td>tt0455824</td>\n",
       "    </tr>\n",
       "    <tr>\n",
       "      <th>1464</th>\n",
       "      <td>-84540684</td>\n",
       "      <td>Flushed Away</td>\n",
       "      <td>tt0424095</td>\n",
       "    </tr>\n",
       "    <tr>\n",
       "      <th>958</th>\n",
       "      <td>-92896027</td>\n",
       "      <td>The Adventures of Pluto Nash</td>\n",
       "      <td>tt0180052</td>\n",
       "    </tr>\n",
       "    <tr>\n",
       "      <th>809</th>\n",
       "      <td>-111007242</td>\n",
       "      <td>Mars Needs Moms</td>\n",
       "      <td>tt1305591</td>\n",
       "    </tr>\n",
       "    <tr>\n",
       "      <th>1616</th>\n",
       "      <td>-119180039</td>\n",
       "      <td>The Alamo</td>\n",
       "      <td>tt0318974</td>\n",
       "    </tr>\n",
       "    <tr>\n",
       "      <th>1245</th>\n",
       "      <td>-165710090</td>\n",
       "      <td>The Lone Ranger</td>\n",
       "      <td>tt1210819</td>\n",
       "    </tr>\n",
       "  </tbody>\n",
       "</table>\n",
       "</div>"
      ],
      "text/plain": [
       "         profit                original_title    imdb_id\n",
       "468   -71331093               How Do You Know  tt1341188\n",
       "1718  -71626175                         Awake  tt0211933\n",
       "1400  -74010360            A Sound of Thunder  tt0318081\n",
       "1872  -75171919                     Supernova  tt0134983\n",
       "636   -80445998                     Australia  tt0455824\n",
       "1464  -84540684                  Flushed Away  tt0424095\n",
       "958   -92896027  The Adventures of Pluto Nash  tt0180052\n",
       "809  -111007242               Mars Needs Moms  tt1305591\n",
       "1616 -119180039                     The Alamo  tt0318974\n",
       "1245 -165710090               The Lone Ranger  tt1210819"
      ]
     },
     "execution_count": 32,
     "metadata": {},
     "output_type": "execute_result"
    }
   ],
   "source": [
    "# Top 10\n",
    "data[['profit', 'original_title', 'imdb_id']].sort_values('profit', ascending=False)[-10:]"
   ]
  },
  {
   "cell_type": "markdown",
   "metadata": {
    "colab_type": "text",
    "id": "0mMgVMo5qp6b"
   },
   "source": [
    "# 8. У скольких фильмов из датасета объем сборов оказался выше бюджета?\n",
    "Варианты ответов:\n",
    "1. **1478**\n",
    "2. 1520\n",
    "3. 1241\n",
    "4. 1135\n",
    "5. 1398\n"
   ]
  },
  {
   "cell_type": "code",
   "execution_count": 33,
   "metadata": {
    "colab": {},
    "colab_type": "code",
    "id": "H4QE9VfDqp6b"
   },
   "outputs": [],
   "source": [
    "answers['8'] = '1. 1478'"
   ]
  },
  {
   "cell_type": "code",
   "execution_count": 34,
   "metadata": {
    "colab": {},
    "colab_type": "code",
    "id": "73pcsPrxqp6d",
    "outputId": "e48fb529-1544-410b-b412-f0b6abef99bc"
   },
   "outputs": [
    {
     "name": "stdout",
     "output_type": "stream",
     "text": [
      "CPU times: user 1.8 ms, sys: 756 µs, total: 2.56 ms\n",
      "Wall time: 1.9 ms\n"
     ]
    },
    {
     "data": {
      "text/plain": [
       "1478"
      ]
     },
     "execution_count": 34,
     "metadata": {},
     "output_type": "execute_result"
    }
   ],
   "source": [
    "%%time\n",
    "len(data[data['profit'] > 0])"
   ]
  },
  {
   "cell_type": "code",
   "execution_count": 35,
   "metadata": {
    "colab": {},
    "colab_type": "code",
    "id": "3AXNUAopqp6f",
    "outputId": "9eaccdb4-9df0-4bb4-efe4-396a8d8133f4"
   },
   "outputs": [
    {
     "name": "stdout",
     "output_type": "stream",
     "text": [
      "CPU times: user 1.16 ms, sys: 74 µs, total: 1.23 ms\n",
      "Wall time: 1.17 ms\n"
     ]
    },
    {
     "data": {
      "text/plain": [
       "1478"
      ]
     },
     "execution_count": 35,
     "metadata": {},
     "output_type": "execute_result"
    }
   ],
   "source": [
    "%%time\n",
    "data.loc[(data.profit)>0].shape[0]"
   ]
  },
  {
   "cell_type": "code",
   "execution_count": 36,
   "metadata": {},
   "outputs": [
    {
     "data": {
      "text/plain": [
       "(1478, 16)"
      ]
     },
     "execution_count": 36,
     "metadata": {},
     "output_type": "execute_result"
    }
   ],
   "source": [
    "data.loc[(data.profit)>0].shape"
   ]
  },
  {
   "cell_type": "markdown",
   "metadata": {
    "colab_type": "text",
    "id": "1PJhCmXSqp6h"
   },
   "source": [
    "# 9. Какой фильм оказался самым кассовым в 2008 году?\n",
    "Варианты ответов:\n",
    "1. Madagascar: Escape 2 Africa\ttt0479952\n",
    "2. Iron Man\ttt0371746\n",
    "3. Kung Fu Panda\ttt0441773\n",
    "4. **The Dark Knight\ttt0468569**\n",
    "5. Mamma Mia!\ttt0795421"
   ]
  },
  {
   "cell_type": "code",
   "execution_count": 37,
   "metadata": {
    "colab": {},
    "colab_type": "code",
    "id": "fHlEUkCtqp6h"
   },
   "outputs": [],
   "source": [
    "answers['9'] = '4. The Dark Knight (tt0468569)'"
   ]
  },
  {
   "cell_type": "code",
   "execution_count": 39,
   "metadata": {
    "colab": {},
    "colab_type": "code",
    "id": "Qmf7vBY6qp6k",
    "outputId": "c4329ffc-084b-47bb-849e-207d297db36a"
   },
   "outputs": [
    {
     "data": {
      "text/plain": [
       "'The Dark Knight'"
      ]
     },
     "execution_count": 39,
     "metadata": {},
     "output_type": "execute_result"
    }
   ],
   "source": [
    "data.loc[data.release_year==2008].sort_values(by='revenue', ascending=False).head(1)['original_title'].values[0]"
   ]
  },
  {
   "cell_type": "code",
   "execution_count": 41,
   "metadata": {
    "colab": {},
    "colab_type": "code",
    "id": "1tm_HTuaqp6m",
    "outputId": "b1f8bfdb-b4e9-4168-a66b-57b846488712"
   },
   "outputs": [
    {
     "data": {
      "text/plain": [
       "'The Dark Knight'"
      ]
     },
     "execution_count": 41,
     "metadata": {},
     "output_type": "execute_result"
    }
   ],
   "source": [
    "d = data.loc[data.release_year == 2008]\n",
    "d.set_index('original_title')['profit'].idxmax()"
   ]
  },
  {
   "cell_type": "code",
   "execution_count": 42,
   "metadata": {
    "colab": {},
    "colab_type": "code",
    "id": "agC_krCeqp6n",
    "outputId": "a127a57d-717c-4f35-c305-3e4b2b748f8c"
   },
   "outputs": [
    {
     "data": {
      "text/html": [
       "<div>\n",
       "<style scoped>\n",
       "    .dataframe tbody tr th:only-of-type {\n",
       "        vertical-align: middle;\n",
       "    }\n",
       "\n",
       "    .dataframe tbody tr th {\n",
       "        vertical-align: top;\n",
       "    }\n",
       "\n",
       "    .dataframe thead th {\n",
       "        text-align: right;\n",
       "    }\n",
       "</style>\n",
       "<table border=\"1\" class=\"dataframe\">\n",
       "  <thead>\n",
       "    <tr style=\"text-align: right;\">\n",
       "      <th></th>\n",
       "      <th>revenue</th>\n",
       "      <th>original_title</th>\n",
       "      <th>imdb_id</th>\n",
       "    </tr>\n",
       "  </thead>\n",
       "  <tbody>\n",
       "    <tr>\n",
       "      <th>599</th>\n",
       "      <td>1001921825</td>\n",
       "      <td>The Dark Knight</td>\n",
       "      <td>tt0468569</td>\n",
       "    </tr>\n",
       "    <tr>\n",
       "      <th>603</th>\n",
       "      <td>786636033</td>\n",
       "      <td>Indiana Jones and the Kingdom of the Crystal S...</td>\n",
       "      <td>tt0367882</td>\n",
       "    </tr>\n",
       "    <tr>\n",
       "      <th>606</th>\n",
       "      <td>631744560</td>\n",
       "      <td>Kung Fu Panda</td>\n",
       "      <td>tt0441773</td>\n",
       "    </tr>\n",
       "    <tr>\n",
       "      <th>621</th>\n",
       "      <td>624029371</td>\n",
       "      <td>Hancock</td>\n",
       "      <td>tt0448157</td>\n",
       "    </tr>\n",
       "    <tr>\n",
       "      <th>607</th>\n",
       "      <td>609841637</td>\n",
       "      <td>Mamma Mia!</td>\n",
       "      <td>tt0795421</td>\n",
       "    </tr>\n",
       "    <tr>\n",
       "      <th>612</th>\n",
       "      <td>603900354</td>\n",
       "      <td>Madagascar: Escape 2 Africa</td>\n",
       "      <td>tt0479952</td>\n",
       "    </tr>\n",
       "    <tr>\n",
       "      <th>605</th>\n",
       "      <td>586090727</td>\n",
       "      <td>Quantum of Solace</td>\n",
       "      <td>tt0830515</td>\n",
       "    </tr>\n",
       "    <tr>\n",
       "      <th>601</th>\n",
       "      <td>585174222</td>\n",
       "      <td>Iron Man</td>\n",
       "      <td>tt0371746</td>\n",
       "    </tr>\n",
       "    <tr>\n",
       "      <th>600</th>\n",
       "      <td>521311860</td>\n",
       "      <td>WALLÂ·E</td>\n",
       "      <td>tt0910970</td>\n",
       "    </tr>\n",
       "    <tr>\n",
       "      <th>624</th>\n",
       "      <td>419651413</td>\n",
       "      <td>The Chronicles of Narnia: Prince Caspian</td>\n",
       "      <td>tt0499448</td>\n",
       "    </tr>\n",
       "  </tbody>\n",
       "</table>\n",
       "</div>"
      ],
      "text/plain": [
       "        revenue                                     original_title    imdb_id\n",
       "599  1001921825                                    The Dark Knight  tt0468569\n",
       "603   786636033  Indiana Jones and the Kingdom of the Crystal S...  tt0367882\n",
       "606   631744560                                      Kung Fu Panda  tt0441773\n",
       "621   624029371                                            Hancock  tt0448157\n",
       "607   609841637                                         Mamma Mia!  tt0795421\n",
       "612   603900354                        Madagascar: Escape 2 Africa  tt0479952\n",
       "605   586090727                                  Quantum of Solace  tt0830515\n",
       "601   585174222                                           Iron Man  tt0371746\n",
       "600   521311860                                            WALLÂ·E  tt0910970\n",
       "624   419651413           The Chronicles of Narnia: Prince Caspian  tt0499448"
      ]
     },
     "execution_count": 42,
     "metadata": {},
     "output_type": "execute_result"
    }
   ],
   "source": [
    "# Top 10\n",
    "data[['revenue', 'original_title', 'imdb_id']][data['release_year']==2008].sort_values('revenue', ascending=False)[:10]"
   ]
  },
  {
   "cell_type": "markdown",
   "metadata": {
    "colab_type": "text",
    "id": "PgXWhVFCqp6p"
   },
   "source": [
    "# 10. Самый убыточный фильм за период с 2012 по 2014 г. (включительно)?\n",
    "Варианты ответов:\n",
    "1. Winter's Tale\ttt1837709\n",
    "2. Stolen\ttt1656186\n",
    "3. Broken City\ttt1235522\n",
    "4. Upside Down\ttt1374992\n",
    "5. **The Lone Ranger\ttt1210819**\n"
   ]
  },
  {
   "cell_type": "code",
   "execution_count": 43,
   "metadata": {
    "colab": {},
    "colab_type": "code",
    "id": "G9DTb0VUqp6p"
   },
   "outputs": [],
   "source": [
    "answers['10'] = '5. The Lone Ranger (tt1210819)'"
   ]
  },
  {
   "cell_type": "code",
   "execution_count": 42,
   "metadata": {
    "colab": {},
    "colab_type": "code",
    "id": "xLT7MniKqp6r",
    "outputId": "5a5121ec-a6ef-4521-ee3a-c9913cf50a56"
   },
   "outputs": [
    {
     "data": {
      "text/plain": [
       "'The Lone Ranger'"
      ]
     },
     "execution_count": 42,
     "metadata": {},
     "output_type": "execute_result"
    }
   ],
   "source": [
    "data.loc[(data.release_year>=2012)&(data.release_year<=2014)].sort_values(by='profit').head(1)['original_title'].values[0]"
   ]
  },
  {
   "cell_type": "code",
   "execution_count": 43,
   "metadata": {},
   "outputs": [
    {
     "data": {
      "text/plain": [
       "'The Lone Ranger'"
      ]
     },
     "execution_count": 43,
     "metadata": {},
     "output_type": "execute_result"
    }
   ],
   "source": [
    "data.loc[(data.release_date.dt.year>=2012)&(data.release_date.dt.year<=2014)].sort_values(by='profit').head(1)['original_title'].values[0]"
   ]
  },
  {
   "cell_type": "code",
   "execution_count": 44,
   "metadata": {
    "colab": {},
    "colab_type": "code",
    "id": "Cnov_tHmqp6u",
    "outputId": "094eaafb-c9dc-410e-8321-06d8edc24f61"
   },
   "outputs": [
    {
     "data": {
      "text/html": [
       "<div>\n",
       "<style scoped>\n",
       "    .dataframe tbody tr th:only-of-type {\n",
       "        vertical-align: middle;\n",
       "    }\n",
       "\n",
       "    .dataframe tbody tr th {\n",
       "        vertical-align: top;\n",
       "    }\n",
       "\n",
       "    .dataframe thead th {\n",
       "        text-align: right;\n",
       "    }\n",
       "</style>\n",
       "<table border=\"1\" class=\"dataframe\">\n",
       "  <thead>\n",
       "    <tr style=\"text-align: right;\">\n",
       "      <th></th>\n",
       "      <th>imdb_id</th>\n",
       "      <th>budget</th>\n",
       "      <th>revenue</th>\n",
       "      <th>original_title</th>\n",
       "      <th>cast</th>\n",
       "      <th>director</th>\n",
       "      <th>tagline</th>\n",
       "      <th>overview</th>\n",
       "      <th>runtime</th>\n",
       "      <th>genres</th>\n",
       "      <th>production_companies</th>\n",
       "      <th>release_date</th>\n",
       "      <th>vote_average</th>\n",
       "      <th>release_year</th>\n",
       "      <th>profit</th>\n",
       "      <th>season</th>\n",
       "    </tr>\n",
       "  </thead>\n",
       "  <tbody>\n",
       "    <tr>\n",
       "      <th>1245</th>\n",
       "      <td>tt1210819</td>\n",
       "      <td>255000000</td>\n",
       "      <td>89289910</td>\n",
       "      <td>The Lone Ranger</td>\n",
       "      <td>Johnny Depp|Armie Hammer|William Fichtner|Hele...</td>\n",
       "      <td>Gore Verbinski</td>\n",
       "      <td>Never Take Off the Mask</td>\n",
       "      <td>The Texas Rangers chase down a gang of outlaws...</td>\n",
       "      <td>149</td>\n",
       "      <td>Action|Adventure|Western</td>\n",
       "      <td>Walt Disney Pictures|Jerry Bruckheimer Films|I...</td>\n",
       "      <td>2013-07-03</td>\n",
       "      <td>6.0</td>\n",
       "      <td>2013</td>\n",
       "      <td>-165710090</td>\n",
       "      <td>3</td>\n",
       "    </tr>\n",
       "  </tbody>\n",
       "</table>\n",
       "</div>"
      ],
      "text/plain": [
       "        imdb_id     budget   revenue   original_title  \\\n",
       "1245  tt1210819  255000000  89289910  The Lone Ranger   \n",
       "\n",
       "                                                   cast        director  \\\n",
       "1245  Johnny Depp|Armie Hammer|William Fichtner|Hele...  Gore Verbinski   \n",
       "\n",
       "                      tagline  \\\n",
       "1245  Never Take Off the Mask   \n",
       "\n",
       "                                               overview  runtime  \\\n",
       "1245  The Texas Rangers chase down a gang of outlaws...      149   \n",
       "\n",
       "                        genres  \\\n",
       "1245  Action|Adventure|Western   \n",
       "\n",
       "                                   production_companies release_date  \\\n",
       "1245  Walt Disney Pictures|Jerry Bruckheimer Films|I...   2013-07-03   \n",
       "\n",
       "      vote_average  release_year     profit  season  \n",
       "1245           6.0          2013 -165710090       3  "
      ]
     },
     "execution_count": 44,
     "metadata": {},
     "output_type": "execute_result"
    }
   ],
   "source": [
    "data[data.profit == data.query('2012 <= release_year <= 2014').profit.min()]"
   ]
  },
  {
   "cell_type": "code",
   "execution_count": 45,
   "metadata": {
    "colab": {},
    "colab_type": "code",
    "id": "_o9s9rrsqp6v",
    "outputId": "3a9c3f9c-d276-4411-e82b-693ab9009b34"
   },
   "outputs": [
    {
     "data": {
      "text/html": [
       "<div>\n",
       "<style scoped>\n",
       "    .dataframe tbody tr th:only-of-type {\n",
       "        vertical-align: middle;\n",
       "    }\n",
       "\n",
       "    .dataframe tbody tr th {\n",
       "        vertical-align: top;\n",
       "    }\n",
       "\n",
       "    .dataframe thead th {\n",
       "        text-align: right;\n",
       "    }\n",
       "</style>\n",
       "<table border=\"1\" class=\"dataframe\">\n",
       "  <thead>\n",
       "    <tr style=\"text-align: right;\">\n",
       "      <th></th>\n",
       "      <th>profit</th>\n",
       "      <th>original_title</th>\n",
       "      <th>imdb_id</th>\n",
       "      <th>release_year</th>\n",
       "    </tr>\n",
       "  </thead>\n",
       "  <tbody>\n",
       "    <tr>\n",
       "      <th>187</th>\n",
       "      <td>-25592384</td>\n",
       "      <td>Sin City: A Dame to Kill For</td>\n",
       "      <td>tt0458481</td>\n",
       "      <td>2014</td>\n",
       "    </tr>\n",
       "    <tr>\n",
       "      <th>216</th>\n",
       "      <td>-29199769</td>\n",
       "      <td>Winter's Tale</td>\n",
       "      <td>tt1837709</td>\n",
       "      <td>2014</td>\n",
       "    </tr>\n",
       "    <tr>\n",
       "      <th>144</th>\n",
       "      <td>-32694825</td>\n",
       "      <td>The Interview</td>\n",
       "      <td>tt2788710</td>\n",
       "      <td>2014</td>\n",
       "    </tr>\n",
       "    <tr>\n",
       "      <th>1033</th>\n",
       "      <td>-32893443</td>\n",
       "      <td>Stolen</td>\n",
       "      <td>tt1656186</td>\n",
       "      <td>2012</td>\n",
       "    </tr>\n",
       "    <tr>\n",
       "      <th>1278</th>\n",
       "      <td>-36298836</td>\n",
       "      <td>Broken City</td>\n",
       "      <td>tt1235522</td>\n",
       "      <td>2013</td>\n",
       "    </tr>\n",
       "    <tr>\n",
       "      <th>1235</th>\n",
       "      <td>-45510171</td>\n",
       "      <td>Bullet to the Head</td>\n",
       "      <td>tt1308729</td>\n",
       "      <td>2013</td>\n",
       "    </tr>\n",
       "    <tr>\n",
       "      <th>1302</th>\n",
       "      <td>-51337973</td>\n",
       "      <td>Legends of Oz: Dorothy's Return</td>\n",
       "      <td>tt0884726</td>\n",
       "      <td>2013</td>\n",
       "    </tr>\n",
       "    <tr>\n",
       "      <th>1007</th>\n",
       "      <td>-51893525</td>\n",
       "      <td>Upside Down</td>\n",
       "      <td>tt1374992</td>\n",
       "      <td>2012</td>\n",
       "    </tr>\n",
       "    <tr>\n",
       "      <th>1214</th>\n",
       "      <td>-68351500</td>\n",
       "      <td>R.I.P.D.</td>\n",
       "      <td>tt0790736</td>\n",
       "      <td>2013</td>\n",
       "    </tr>\n",
       "    <tr>\n",
       "      <th>1245</th>\n",
       "      <td>-165710090</td>\n",
       "      <td>The Lone Ranger</td>\n",
       "      <td>tt1210819</td>\n",
       "      <td>2013</td>\n",
       "    </tr>\n",
       "  </tbody>\n",
       "</table>\n",
       "</div>"
      ],
      "text/plain": [
       "         profit                   original_title    imdb_id  release_year\n",
       "187   -25592384     Sin City: A Dame to Kill For  tt0458481          2014\n",
       "216   -29199769                    Winter's Tale  tt1837709          2014\n",
       "144   -32694825                    The Interview  tt2788710          2014\n",
       "1033  -32893443                           Stolen  tt1656186          2012\n",
       "1278  -36298836                      Broken City  tt1235522          2013\n",
       "1235  -45510171               Bullet to the Head  tt1308729          2013\n",
       "1302  -51337973  Legends of Oz: Dorothy's Return  tt0884726          2013\n",
       "1007  -51893525                      Upside Down  tt1374992          2012\n",
       "1214  -68351500                         R.I.P.D.  tt0790736          2013\n",
       "1245 -165710090                  The Lone Ranger  tt1210819          2013"
      ]
     },
     "execution_count": 45,
     "metadata": {},
     "output_type": "execute_result"
    }
   ],
   "source": [
    "colums_ls=['profit', 'original_title', 'imdb_id','release_year']\n",
    "movie_bd[colums_ls][(movie_bd['release_year']>=2012) & (movie_bd['release_year']<=2014)].sort_values('profit', ascending=False)[-10:]"
   ]
  },
  {
   "cell_type": "markdown",
   "metadata": {
    "colab_type": "text",
    "id": "DOJlJMVpqp6w"
   },
   "source": [
    "# 11. Какого жанра фильмов больше всего?\n",
    "Варианты ответов:\n",
    "1. Action\n",
    "2. Adventure\n",
    "3. **Drama**\n",
    "4. Comedy\n",
    "5. Thriller"
   ]
  },
  {
   "cell_type": "code",
   "execution_count": 46,
   "metadata": {
    "colab": {},
    "colab_type": "code",
    "id": "JLX23Vzpqp6w"
   },
   "outputs": [],
   "source": [
    "answers['11'] = '3. Drama'"
   ]
  },
  {
   "cell_type": "markdown",
   "metadata": {
    "colab_type": "text",
    "id": "wLTMyJSqqp6y"
   },
   "source": [
    "### ВАРИАНТ 1\n",
    "через модуль collections с функцией Counter"
   ]
  },
  {
   "cell_type": "code",
   "execution_count": 47,
   "metadata": {
    "colab": {},
    "colab_type": "code",
    "id": "3TLowwPyqp6y",
    "outputId": "de5b9b2f-b9b2-4da6-c734-8fca5b1c535f"
   },
   "outputs": [
    {
     "data": {
      "text/plain": [
       "[('Drama', 782)]"
      ]
     },
     "execution_count": 47,
     "metadata": {},
     "output_type": "execute_result"
    }
   ],
   "source": [
    "Counter(data['genres'].str.cat(sep='|').split('|')).most_common(1)"
   ]
  },
  {
   "cell_type": "code",
   "execution_count": 48,
   "metadata": {
    "colab": {},
    "colab_type": "code",
    "id": "2hr8NQJeqp6z",
    "outputId": "3d2490bc-b43b-4eec-dfbc-1b2ee3476f2a"
   },
   "outputs": [
    {
     "data": {
      "text/plain": [
       "[('Drama', 782)]"
      ]
     },
     "execution_count": 48,
     "metadata": {},
     "output_type": "execute_result"
    }
   ],
   "source": [
    "Counter(data.genres.str.split('|').sum()).most_common(1)"
   ]
  },
  {
   "cell_type": "markdown",
   "metadata": {
    "colab_type": "text",
    "id": "stQxk2SOqp61"
   },
   "source": [
    "### Вариант 2"
   ]
  },
  {
   "cell_type": "code",
   "execution_count": 49,
   "metadata": {
    "colab": {},
    "colab_type": "code",
    "id": "iTAtpirdqp61",
    "outputId": "b19cc75e-5c07-4fb2-b593-f2ab458ceceb"
   },
   "outputs": [
    {
     "data": {
      "text/plain": [
       "Drama        782\n",
       "Comedy       683\n",
       "Thriller     596\n",
       "Action       582\n",
       "Adventure    415\n",
       "dtype: int64"
      ]
     },
     "execution_count": 49,
     "metadata": {},
     "output_type": "execute_result"
    }
   ],
   "source": [
    "pd.Series(data['genres'].str.cat(sep='|').split('|')).value_counts()[:5]"
   ]
  },
  {
   "cell_type": "markdown",
   "metadata": {
    "colab_type": "text",
    "id": "uhp2pQstqp62"
   },
   "source": [
    "по шагам"
   ]
  },
  {
   "cell_type": "code",
   "execution_count": 50,
   "metadata": {
    "colab": {},
    "colab_type": "code",
    "id": "4nUi5z7qqp62",
    "outputId": "8bf47e71-0259-4787-fdbc-27e5017873e5"
   },
   "outputs": [
    {
     "data": {
      "text/plain": [
       "'Action|Adventure|Science Fiction|Thriller|Action|Adventure|Science Fiction|Thriller|Adventure|Scienc'"
      ]
     },
     "execution_count": 50,
     "metadata": {},
     "output_type": "execute_result"
    }
   ],
   "source": [
    "# превращаем все в одну строку\n",
    "data['genres'].str.cat(sep='|')[:100]"
   ]
  },
  {
   "cell_type": "code",
   "execution_count": 51,
   "metadata": {
    "colab": {},
    "colab_type": "code",
    "id": "BA7WdiQUqp64",
    "outputId": "ce0ba452-5cd8-4acd-eddd-1e8bb275b5f9"
   },
   "outputs": [
    {
     "data": {
      "text/plain": [
       "0             Action\n",
       "1          Adventure\n",
       "2    Science Fiction\n",
       "3           Thriller\n",
       "4             Action\n",
       "dtype: object"
      ]
     },
     "execution_count": 51,
     "metadata": {},
     "output_type": "execute_result"
    }
   ],
   "source": [
    "# создаем список разделяя строку по '|'\n",
    "pd.Series(data['genres'].str.cat(sep='|').split('|'))[:5]"
   ]
  },
  {
   "cell_type": "code",
   "execution_count": 52,
   "metadata": {
    "colab": {},
    "colab_type": "code",
    "id": "A-YihH_zqp66",
    "outputId": "af1e334a-8126-4531-967c-6b881dcfb613"
   },
   "outputs": [
    {
     "data": {
      "text/plain": [
       "Drama        782\n",
       "Comedy       683\n",
       "Thriller     596\n",
       "Action       582\n",
       "Adventure    415\n",
       "dtype: int64"
      ]
     },
     "execution_count": 52,
     "metadata": {},
     "output_type": "execute_result"
    }
   ],
   "source": [
    "# считаем количество элементов в серии\n",
    "pd.Series(data['genres'].str.cat(sep='|').split('|')).value_counts()[:5]"
   ]
  },
  {
   "cell_type": "code",
   "execution_count": 50,
   "metadata": {
    "colab": {},
    "colab_type": "code",
    "id": "daK7agu8qp67",
    "outputId": "c80bdaf8-d032-487c-fa43-eed27dc49876"
   },
   "outputs": [
    {
     "data": {
      "text/plain": [
       "Text(0, 0.5, 'Movies')"
      ]
     },
     "execution_count": 50,
     "metadata": {},
     "output_type": "execute_result"
    },
    {
     "data": {
      "image/png": "[encoded data removed]",
      "text/plain": [
       "<Figure size 1080x504 with 1 Axes>"
      ]
     },
     "metadata": {
      "needs_background": "light"
     },
     "output_type": "display_data"
    }
   ],
   "source": [
    "# завернем в функцию и будем использовать в дальнейшем\n",
    "def counter(movie_bd, x):\n",
    "    data_tmp=movie_bd[x].str.cat(sep='|') # превращаем все в одну строку\n",
    "    data_tmp=pd.Series(data_tmp.split('|')) # создаем список разделяя строку по '|'\n",
    "    data_tmp=data_tmp.value_counts(ascending=False) # считаем количество элементов строке\n",
    "    return data_tmp\n",
    "\n",
    "count=counter(data,'genres')\n",
    "count.plot(kind='bar',figsize=(15,7),fontsize=12)\n",
    "plt.xticks(rotation=60)\n",
    "plt.title(\"Genre with Highest Release\",fontsize=15)\n",
    "plt.xlabel(\"Genres\",fontsize=14)\n",
    "plt.ylabel(\"Movies\",fontsize=14)"
   ]
  },
  {
   "cell_type": "markdown",
   "metadata": {
    "colab_type": "text",
    "id": "FRML2xydqp69"
   },
   "source": [
    "# 12. Фильмы какого жанра чаще всего становятся прибыльными? \n",
    "\n",
    "Варианты ответов:\n",
    "1. **Drama**\n",
    "2. Comedy\n",
    "3. Action\n",
    "4. Thriller\n",
    "5. Adventure"
   ]
  },
  {
   "cell_type": "code",
   "execution_count": 44,
   "metadata": {
    "colab": {},
    "colab_type": "code",
    "id": "xzH7_2kLqp69"
   },
   "outputs": [],
   "source": [
    "answers['12'] = '1. Drama'"
   ]
  },
  {
   "cell_type": "code",
   "execution_count": 45,
   "metadata": {
    "colab": {},
    "colab_type": "code",
    "id": "flVJc1Fvqp6-"
   },
   "outputs": [],
   "source": [
    "data_tmp = data[data['profit'] > 0]"
   ]
  },
  {
   "cell_type": "code",
   "execution_count": 47,
   "metadata": {
    "colab": {},
    "colab_type": "code",
    "id": "4Rhev1L4qp6_",
    "outputId": "5cbfda32-0f46-45b3-83de-0138c294638f"
   },
   "outputs": [
    {
     "name": "stdout",
     "output_type": "stream",
     "text": [
      "Drama\n"
     ]
    }
   ],
   "source": [
    "print(pd.Series((data_tmp.genres.str.split('|').sum())).value_counts().index[0])"
   ]
  },
  {
   "cell_type": "code",
   "execution_count": null,
   "metadata": {},
   "outputs": [],
   "source": [
    "column.cat('|').split('|')"
   ]
  },
  {
   "cell_type": "markdown",
   "metadata": {
    "colab_type": "text",
    "id": "lomHDHoUqp7B"
   },
   "source": [
    "ВАРИАНТ 2"
   ]
  },
  {
   "cell_type": "code",
   "execution_count": 51,
   "metadata": {
    "colab": {},
    "colab_type": "code",
    "id": "98I4VA2aqp7B"
   },
   "outputs": [],
   "source": [
    "data_tmp = data[data['profit'] > 0]"
   ]
  },
  {
   "cell_type": "code",
   "execution_count": 52,
   "metadata": {
    "colab": {},
    "colab_type": "code",
    "id": "RQb8PULMqp7C",
    "outputId": "414b8060-c885-4002-9055-d4a04986423d"
   },
   "outputs": [
    {
     "data": {
      "text/plain": [
       "Text(0, 0.5, 'Movies')"
      ]
     },
     "execution_count": 52,
     "metadata": {},
     "output_type": "execute_result"
    },
    {
     "data": {
      "image/png": "[encoded data removed]",
      "text/plain": [
       "<Figure size 1080x504 with 1 Axes>"
      ]
     },
     "metadata": {
      "needs_background": "light"
     },
     "output_type": "display_data"
    }
   ],
   "source": [
    "data_tmp=counter(data_tmp,'genres')\n",
    "data_tmp.plot(kind='bar',figsize=(15, 7),fontsize=12)\n",
    "plt.xticks(rotation=60)\n",
    "plt.title(\"Genre with Highest Release\",fontsize=15)\n",
    "plt.xlabel(\"Genres\",fontsize=14)\n",
    "plt.ylabel(\"Movies\",fontsize=14)"
   ]
  },
  {
   "cell_type": "markdown",
   "metadata": {
    "colab_type": "text",
    "id": "gg-VIH9bqp7D"
   },
   "source": [
    "# 13. У какого режиссера самые большие суммарные кассовые сбооры?\n",
    "Варианты ответов:\n",
    "1. Steven Spielberg\n",
    "2. Christopher Nolan\n",
    "3. David Yates\n",
    "4. James Cameron\n",
    "5. **Peter Jackson**\n"
   ]
  },
  {
   "cell_type": "code",
   "execution_count": 59,
   "metadata": {
    "colab": {},
    "colab_type": "code",
    "id": "1Y2N8Lzpqp7E"
   },
   "outputs": [],
   "source": [
    "answers['13'] = '5. Peter Jackson'"
   ]
  },
  {
   "cell_type": "code",
   "execution_count": 60,
   "metadata": {
    "colab": {},
    "colab_type": "code",
    "id": "cNIiBcXFqp7F",
    "outputId": "6b35f3f4-120a-49cf-dedd-31f5febd4714"
   },
   "outputs": [
    {
     "data": {
      "text/plain": [
       "12"
      ]
     },
     "execution_count": 60,
     "metadata": {},
     "output_type": "execute_result"
    }
   ],
   "source": [
    "# немного схитрим, и воспользуемся уже готовой функцией\n",
    "directors=counter(data,'director')\n",
    "directors['Ridley Scott']"
   ]
  },
  {
   "cell_type": "code",
   "execution_count": 61,
   "metadata": {
    "colab": {},
    "colab_type": "code",
    "id": "t8Za1Lvkqp7H",
    "outputId": "10c2b74f-a8f1-46f1-9cd3-bf500c0106de"
   },
   "outputs": [
    {
     "data": {
      "text/html": [
       "<div>\n",
       "<style scoped>\n",
       "    .dataframe tbody tr th:only-of-type {\n",
       "        vertical-align: middle;\n",
       "    }\n",
       "\n",
       "    .dataframe tbody tr th {\n",
       "        vertical-align: top;\n",
       "    }\n",
       "\n",
       "    .dataframe thead th {\n",
       "        text-align: right;\n",
       "    }\n",
       "</style>\n",
       "<table border=\"1\" class=\"dataframe\">\n",
       "  <thead>\n",
       "    <tr style=\"text-align: right;\">\n",
       "      <th></th>\n",
       "      <th>0</th>\n",
       "    </tr>\n",
       "  </thead>\n",
       "  <tbody>\n",
       "    <tr>\n",
       "      <th>Peter Jackson</th>\n",
       "      <td>6490593685</td>\n",
       "    </tr>\n",
       "    <tr>\n",
       "      <th>Christopher Nolan</th>\n",
       "      <td>4167548502</td>\n",
       "    </tr>\n",
       "    <tr>\n",
       "      <th>David Yates</th>\n",
       "      <td>4154295625</td>\n",
       "    </tr>\n",
       "    <tr>\n",
       "      <th>Michael Bay</th>\n",
       "      <td>3886938960</td>\n",
       "    </tr>\n",
       "    <tr>\n",
       "      <th>J.J. Abrams</th>\n",
       "      <td>3579169916</td>\n",
       "    </tr>\n",
       "    <tr>\n",
       "      <th>Gore Verbinski</th>\n",
       "      <td>3426362290</td>\n",
       "    </tr>\n",
       "    <tr>\n",
       "      <th>Steven Spielberg</th>\n",
       "      <td>3386700791</td>\n",
       "    </tr>\n",
       "    <tr>\n",
       "      <th>McG</th>\n",
       "      <td>3323121992</td>\n",
       "    </tr>\n",
       "    <tr>\n",
       "      <th>Ridley Scott</th>\n",
       "      <td>3264035909</td>\n",
       "    </tr>\n",
       "    <tr>\n",
       "      <th>Francis Lawrence</th>\n",
       "      <td>3179979588</td>\n",
       "    </tr>\n",
       "  </tbody>\n",
       "</table>\n",
       "</div>"
      ],
      "text/plain": [
       "                            0\n",
       "Peter Jackson      6490593685\n",
       "Christopher Nolan  4167548502\n",
       "David Yates        4154295625\n",
       "Michael Bay        3886938960\n",
       "J.J. Abrams        3579169916\n",
       "Gore Verbinski     3426362290\n",
       "Steven Spielberg   3386700791\n",
       "McG                3323121992\n",
       "Ridley Scott       3264035909\n",
       "Francis Lawrence   3179979588"
      ]
     },
     "execution_count": 61,
     "metadata": {},
     "output_type": "execute_result"
    }
   ],
   "source": [
    "# наша функция counter возвращает нам словарь, а как мы помним индексы у словаря уникальны что позволит нам \n",
    "# 1. сразу получить список режисеров без дублей (directors.index)\n",
    "# 2. заполнить значение словаря нужными нам показателем\n",
    "for director in directors.index:\n",
    "    directors[director] = data['revenue'][data['director'].map(lambda x: True if director in x else False)].sum()\n",
    "\n",
    "# отсортируем\n",
    "directors = pd.DataFrame(directors).sort_values(0, ascending=False)\n",
    "directors[:10]"
   ]
  },
  {
   "cell_type": "code",
   "execution_count": 62,
   "metadata": {
    "colab": {},
    "colab_type": "code",
    "id": "pRhHA-Teqp7J",
    "outputId": "b0c0d82f-d2c9-480a-b686-1ab994240a7d"
   },
   "outputs": [
    {
     "data": {
      "text/plain": [
       "Text(0, 0.5, '$')"
      ]
     },
     "execution_count": 62,
     "metadata": {},
     "output_type": "execute_result"
    },
    {
     "data": {
      "image/png": "[encoded data removed]",
      "text/plain": [
       "<Figure size 1080x504 with 1 Axes>"
      ]
     },
     "metadata": {
      "needs_background": "light"
     },
     "output_type": "display_data"
    }
   ],
   "source": [
    "directors[:10].plot(kind='bar',figsize=(15,7),fontsize=12)\n",
    "plt.xticks(rotation=60)\n",
    "plt.title(\"director with Highest Profit\",fontsize=15)\n",
    "plt.xlabel(\"director\",fontsize=14)\n",
    "plt.ylabel(\"$\",fontsize=14)"
   ]
  },
  {
   "cell_type": "markdown",
   "metadata": {
    "colab_type": "text",
    "id": "Zt5i8F09qp7K"
   },
   "source": [
    "ВАРИАНТ 2"
   ]
  },
  {
   "cell_type": "code",
   "execution_count": 63,
   "metadata": {
    "colab": {},
    "colab_type": "code",
    "id": "qxzWlu6cqp7K",
    "outputId": "47394fc0-56be-49bb-ea34-84a38a0726da"
   },
   "outputs": [
    {
     "data": {
      "text/plain": [
       "Peter Jackson        6490593685\n",
       "Christopher Nolan    4167548502\n",
       "David Yates          4154295625\n",
       "Michael Bay          3886938960\n",
       "J.J. Abrams          3579169916\n",
       "dtype: int64"
      ]
     },
     "execution_count": 63,
     "metadata": {},
     "output_type": "execute_result"
    }
   ],
   "source": [
    "directors = set(data.director.str.split('|').sum())\n",
    "pd.Series({x: data[data.director.str.contains(x)].revenue.sum() for x in directors}).\\\n",
    "                    sort_values(ascending = False).head(5)"
   ]
  },
  {
   "cell_type": "markdown",
   "metadata": {
    "colab_type": "text",
    "id": "RXaHHeIVqp7M"
   },
   "source": [
    "# 14. Какой режисер снял больше всего фильмов в стиле Action?\n",
    "Варианты ответа:\n",
    "1. Ridley Scott\n",
    "2. Guy Ritchie\n",
    "3. Robert Rodriguez\n",
    "4. Quentin Tarantino\n",
    "5. Tony Scott"
   ]
  },
  {
   "cell_type": "code",
   "execution_count": 64,
   "metadata": {
    "colab": {},
    "colab_type": "code",
    "id": "w9HjjOb-qp7M"
   },
   "outputs": [],
   "source": [
    "answers['14'] = '3. Robert Rodriguez'"
   ]
  },
  {
   "cell_type": "code",
   "execution_count": 65,
   "metadata": {
    "colab": {},
    "colab_type": "code",
    "id": "1uGhPjUwqp7N"
   },
   "outputs": [],
   "source": [
    "data_tmp = data[data.genres.str.contains(\"Action\")]"
   ]
  },
  {
   "cell_type": "code",
   "execution_count": 66,
   "metadata": {
    "colab": {},
    "colab_type": "code",
    "id": "wEPkUlGsqp7P",
    "outputId": "33034111-5853-4123-c430-c536a9d5f8e8"
   },
   "outputs": [
    {
     "data": {
      "text/plain": [
       "Robert Rodriguez      9\n",
       "Paul W.S. Anderson    7\n",
       "Michael Bay           7\n",
       "Antoine Fuqua         6\n",
       "Ridley Scott          6\n",
       "dtype: int64"
      ]
     },
     "execution_count": 66,
     "metadata": {},
     "output_type": "execute_result"
    },
    {
     "data": {
      "image/png": "[encoded data removed]",
      "text/plain": [
       "<Figure size 1080x504 with 1 Axes>"
      ]
     },
     "metadata": {
      "needs_background": "light"
     },
     "output_type": "display_data"
    }
   ],
   "source": [
    "sum_gen=counter(data_tmp,'director')\n",
    "sum_gen[:10].plot(kind='bar',figsize=(15,7),fontsize=10)\n",
    "plt.xticks(rotation=60)\n",
    "plt.xlabel(\"director\",fontsize=14)\n",
    "plt.ylabel(\"Movies\",fontsize=14)\n",
    "sum_gen[:5]"
   ]
  },
  {
   "cell_type": "markdown",
   "metadata": {
    "colab_type": "text",
    "id": "FPmoVSaOqp7Q"
   },
   "source": [
    "# 15. У какого актера самые высокие суммарные кассовые сборы в 2012 году? (суммарные сборы по фильмам с его участием)\n",
    "Варианты ответов:\n",
    "1. Nicolas Cage\n",
    "2. Tom Hardy\n",
    "3. Chris Hemsworth\n",
    "4. Jim Sturgess\n",
    "5. Emma Stone"
   ]
  },
  {
   "cell_type": "code",
   "execution_count": 67,
   "metadata": {
    "colab": {},
    "colab_type": "code",
    "id": "8nqfVJYPqp7R"
   },
   "outputs": [],
   "source": [
    "answers['15'] = '3. Chris Hemsworth'"
   ]
  },
  {
   "cell_type": "code",
   "execution_count": 68,
   "metadata": {
    "colab": {},
    "colab_type": "code",
    "id": "urL36imLqp7S",
    "outputId": "153a9377-36a9-4989-a532-6f9385868cf7"
   },
   "outputs": [
    {
     "data": {
      "text/html": [
       "<div>\n",
       "<style scoped>\n",
       "    .dataframe tbody tr th:only-of-type {\n",
       "        vertical-align: middle;\n",
       "    }\n",
       "\n",
       "    .dataframe tbody tr th {\n",
       "        vertical-align: top;\n",
       "    }\n",
       "\n",
       "    .dataframe thead th {\n",
       "        text-align: right;\n",
       "    }\n",
       "</style>\n",
       "<table border=\"1\" class=\"dataframe\">\n",
       "  <thead>\n",
       "    <tr style=\"text-align: right;\">\n",
       "      <th></th>\n",
       "      <th>0</th>\n",
       "    </tr>\n",
       "  </thead>\n",
       "  <tbody>\n",
       "    <tr>\n",
       "      <th>Chris Hemsworth</th>\n",
       "      <td>2027450773</td>\n",
       "    </tr>\n",
       "    <tr>\n",
       "      <th>Denis Leary</th>\n",
       "      <td>1629460639</td>\n",
       "    </tr>\n",
       "    <tr>\n",
       "      <th>Anne Hathaway</th>\n",
       "      <td>1522851057</td>\n",
       "    </tr>\n",
       "    <tr>\n",
       "      <th>Robert Downey Jr.</th>\n",
       "      <td>1519557910</td>\n",
       "    </tr>\n",
       "    <tr>\n",
       "      <th>Mark Ruffalo</th>\n",
       "      <td>1519557910</td>\n",
       "    </tr>\n",
       "    <tr>\n",
       "      <th>Scarlett Johansson</th>\n",
       "      <td>1519557910</td>\n",
       "    </tr>\n",
       "    <tr>\n",
       "      <th>Chris Evans</th>\n",
       "      <td>1519557910</td>\n",
       "    </tr>\n",
       "    <tr>\n",
       "      <th>Ralph Fiennes</th>\n",
       "      <td>1409561013</td>\n",
       "    </tr>\n",
       "    <tr>\n",
       "      <th>Sacha Baron Cohen</th>\n",
       "      <td>1368110577</td>\n",
       "    </tr>\n",
       "    <tr>\n",
       "      <th>Kristen Stewart</th>\n",
       "      <td>1234384318</td>\n",
       "    </tr>\n",
       "  </tbody>\n",
       "</table>\n",
       "</div>"
      ],
      "text/plain": [
       "                             0\n",
       "Chris Hemsworth     2027450773\n",
       "Denis Leary         1629460639\n",
       "Anne Hathaway       1522851057\n",
       "Robert Downey Jr.   1519557910\n",
       "Mark Ruffalo        1519557910\n",
       "Scarlett Johansson  1519557910\n",
       "Chris Evans         1519557910\n",
       "Ralph Fiennes       1409561013\n",
       "Sacha Baron Cohen   1368110577\n",
       "Kristen Stewart     1234384318"
      ]
     },
     "execution_count": 68,
     "metadata": {},
     "output_type": "execute_result"
    },
    {
     "data": {
      "image/png": "[encoded data removed]",
      "text/plain": [
       "<Figure size 1080x504 with 1 Axes>"
      ]
     },
     "metadata": {
      "needs_background": "light"
     },
     "output_type": "display_data"
    }
   ],
   "source": [
    "# решаем аналогично только фильтруем датасет по году\n",
    "sum_gen=counter(data[data['release_year']==2012],'cast')\n",
    "for gen in sum_gen.index:\n",
    "    sum_gen[gen] = data['revenue'][data['release_year']==2012][data['cast'].map(lambda x: True if gen in x else False)].sum()\n",
    "sum_gen = pd.DataFrame(sum_gen).sort_values(0, ascending=False)\n",
    "sum_gen[:10].plot(kind='bar',figsize=(15,7),fontsize=12)\n",
    "plt.xticks(rotation=60)\n",
    "plt.title(\"cast with Highest Profit\",fontsize=15)\n",
    "plt.xlabel(\"cast\",fontsize=14)\n",
    "plt.ylabel(\"$\",fontsize=14)\n",
    "sum_gen[:10]"
   ]
  },
  {
   "cell_type": "markdown",
   "metadata": {
    "colab_type": "text",
    "id": "kgsFX6qwqp7T"
   },
   "source": [
    "# 16. Какой актер снялся в большем количестве высокобюджетных фильмов? (в фильмах где бюджет выше среднего по данной выборке)\n",
    "Варианты ответов:\n",
    "1. Tom Cruise\n",
    "2. Mark Wahlberg \n",
    "3. Matt Damon\n",
    "4. Angelina Jolie\n",
    "5. Brad Pitt"
   ]
  },
  {
   "cell_type": "code",
   "execution_count": 69,
   "metadata": {
    "colab": {},
    "colab_type": "code",
    "id": "kvoeZnW2qp7T"
   },
   "outputs": [],
   "source": [
    "answers['16'] = '3. Matt Damon'"
   ]
  },
  {
   "cell_type": "code",
   "execution_count": 70,
   "metadata": {
    "colab": {},
    "colab_type": "code",
    "id": "6UZY6a_cqp7V",
    "outputId": "2f94c537-4fde-443f-faa1-bf9d9cc342ab"
   },
   "outputs": [
    {
     "data": {
      "text/plain": [
       "54310829.63843303"
      ]
     },
     "execution_count": 70,
     "metadata": {},
     "output_type": "execute_result"
    }
   ],
   "source": [
    "data['budget'].mean()"
   ]
  },
  {
   "cell_type": "code",
   "execution_count": 71,
   "metadata": {
    "colab": {},
    "colab_type": "code",
    "id": "8soWBBAiqp7W",
    "outputId": "a10a1c36-d661-486a-b33e-a9fa5e9774da"
   },
   "outputs": [
    {
     "data": {
      "text/plain": [
       "Matt Damon           18\n",
       "Adam Sandler         17\n",
       "Angelina Jolie       16\n",
       "Samuel L. Jackson    15\n",
       "Tom Cruise           15\n",
       "Eddie Murphy         15\n",
       "Russell Crowe        14\n",
       "Ben Stiller          14\n",
       "Hugh Jackman         14\n",
       "Jamie Foxx           14\n",
       "dtype: int64"
      ]
     },
     "execution_count": 71,
     "metadata": {},
     "output_type": "execute_result"
    },
    {
     "data": {
      "image/png": "[encoded data removed]",
      "text/plain": [
       "<Figure size 1080x504 with 1 Axes>"
      ]
     },
     "metadata": {
      "needs_background": "light"
     },
     "output_type": "display_data"
    }
   ],
   "source": [
    "sum_gen=counter(data[data['budget'] > data['budget'].mean()],'cast')\n",
    "sum_gen[:10].plot(kind='bar',figsize=(15,7),fontsize=12)\n",
    "plt.xticks(rotation=60)\n",
    "plt.title(\"cast with Highest Release\",fontsize=15)\n",
    "plt.xlabel(\"cast\",fontsize=14)\n",
    "plt.ylabel(\"Movies\",fontsize=14)\n",
    "sum_gen[:10]"
   ]
  },
  {
   "cell_type": "markdown",
   "metadata": {
    "colab_type": "text",
    "id": "btIr7gBRqp7X"
   },
   "source": [
    "ВАРИАНТ 2"
   ]
  },
  {
   "cell_type": "code",
   "execution_count": 72,
   "metadata": {
    "colab": {},
    "colab_type": "code",
    "id": "-yb-FanRqp7Y",
    "outputId": "bd141520-0299-4778-a7b9-6cd829c0c3ba"
   },
   "outputs": [
    {
     "data": {
      "text/plain": [
       "'Matt Damon'"
      ]
     },
     "execution_count": 72,
     "metadata": {},
     "output_type": "execute_result"
    }
   ],
   "source": [
    "pd.Series(data[data.budget > data.budget.mean()].cast.str.split('|').sum()).value_counts().index[0]"
   ]
  },
  {
   "cell_type": "markdown",
   "metadata": {
    "colab_type": "text",
    "id": "KbQvd7xYqp7Z"
   },
   "source": [
    "# 17. В фильмах какого жанра больше всего снимался Nicolas Cage?  \n",
    "Варианты ответа:\n",
    "1. Drama\n",
    "2. Action\n",
    "3. Thriller\n",
    "4. Adventure\n",
    "5. Crime"
   ]
  },
  {
   "cell_type": "code",
   "execution_count": 73,
   "metadata": {
    "colab": {},
    "colab_type": "code",
    "id": "3z0LgOYzqp7a"
   },
   "outputs": [],
   "source": [
    "answers['17'] = '2. Action'"
   ]
  },
  {
   "cell_type": "code",
   "execution_count": 74,
   "metadata": {
    "colab": {},
    "colab_type": "code",
    "id": "5BQg4AoTqp7b",
    "outputId": "d2c71d05-625f-4ede-c789-8f2bb732cdb5"
   },
   "outputs": [
    {
     "data": {
      "text/plain": [
       "[('Action', 17)]"
      ]
     },
     "execution_count": 74,
     "metadata": {},
     "output_type": "execute_result"
    }
   ],
   "source": [
    "Counter(data[data.cast.str.contains('Nicolas Cage')].genres.str.split('|').sum()).most_common(1)"
   ]
  },
  {
   "cell_type": "markdown",
   "metadata": {
    "colab_type": "text",
    "id": "uf2fa2Udqp7d"
   },
   "source": [
    "ВАРИАНТ 2"
   ]
  },
  {
   "cell_type": "code",
   "execution_count": 75,
   "metadata": {
    "colab": {},
    "colab_type": "code",
    "id": "SGG946grqp7d"
   },
   "outputs": [],
   "source": [
    "data_tmp = data[data.cast.str.contains(\"Nicolas Cage\")]\n",
    "# or\n",
    "data_tmp = data[data['cast'].map(lambda x: True if 'Nicolas Cage' in x else False)]"
   ]
  },
  {
   "cell_type": "code",
   "execution_count": 76,
   "metadata": {
    "colab": {},
    "colab_type": "code",
    "id": "6QPnOsPnqp7e",
    "outputId": "025ea860-59e0-4275-f0d1-5a8dc39757c2"
   },
   "outputs": [
    {
     "data": {
      "text/plain": [
       "Text(0, 0.5, 'Movies')"
      ]
     },
     "execution_count": 76,
     "metadata": {},
     "output_type": "execute_result"
    },
    {
     "data": {
      "image/png": "[encoded data removed]",
      "text/plain": [
       "<Figure size 1080x504 with 1 Axes>"
      ]
     },
     "metadata": {
      "needs_background": "light"
     },
     "output_type": "display_data"
    }
   ],
   "source": [
    "sum_gen=counter(data_tmp,'genres')\n",
    "sum_gen.plot(kind='bar',figsize=(15,7),fontsize=12)\n",
    "plt.xticks(rotation=60)\n",
    "plt.title(\"Genre with Highest Release\",fontsize=15)\n",
    "plt.xlabel(\"Genres\",fontsize=14)\n",
    "plt.ylabel(\"Movies\",fontsize=14)"
   ]
  },
  {
   "cell_type": "markdown",
   "metadata": {
    "colab_type": "text",
    "id": "j245t27Uqp7f"
   },
   "source": [
    "# 18. Самый убыточный фильм от Paramount Pictures\n",
    "Варианты ответа:\n",
    "\n",
    "1. K-19: The Widowmaker tt0267626\n",
    "2. Next tt0435705\n",
    "3. Twisted tt0315297\n",
    "4. The Love Guru tt0811138\n",
    "5. The Fighter tt0964517"
   ]
  },
  {
   "cell_type": "code",
   "execution_count": 77,
   "metadata": {
    "colab": {},
    "colab_type": "code",
    "id": "wj-VAfziqp7g"
   },
   "outputs": [],
   "source": [
    "answers['18'] = '1. K-19: The Widowmaker (tt0267626)'"
   ]
  },
  {
   "cell_type": "code",
   "execution_count": 78,
   "metadata": {
    "colab": {},
    "colab_type": "code",
    "id": "t6SL3-5rqp7h",
    "outputId": "b07b64b8-1074-4248-f6fa-ff99ca4ed0ad"
   },
   "outputs": [
    {
     "data": {
      "text/plain": [
       "'K-19: The Widowmaker'"
      ]
     },
     "execution_count": 78,
     "metadata": {},
     "output_type": "execute_result"
    }
   ],
   "source": [
    "data[data['production_companies'].str.contains('Paramount Pictures', na=False)].sort_values(by='profit').head(1)['original_title'].values[0]"
   ]
  },
  {
   "cell_type": "code",
   "execution_count": 79,
   "metadata": {
    "colab": {},
    "colab_type": "code",
    "id": "9H5MK3u7qp7i",
    "outputId": "785d27dd-5127-4fe9-d49b-41fd04dc4568"
   },
   "outputs": [
    {
     "data": {
      "text/html": [
       "<div>\n",
       "<style scoped>\n",
       "    .dataframe tbody tr th:only-of-type {\n",
       "        vertical-align: middle;\n",
       "    }\n",
       "\n",
       "    .dataframe tbody tr th {\n",
       "        vertical-align: top;\n",
       "    }\n",
       "\n",
       "    .dataframe thead th {\n",
       "        text-align: right;\n",
       "    }\n",
       "</style>\n",
       "<table border=\"1\" class=\"dataframe\">\n",
       "  <thead>\n",
       "    <tr style=\"text-align: right;\">\n",
       "      <th></th>\n",
       "      <th>profit</th>\n",
       "      <th>original_title</th>\n",
       "      <th>imdb_id</th>\n",
       "      <th>production_companies</th>\n",
       "    </tr>\n",
       "  </thead>\n",
       "  <tbody>\n",
       "    <tr>\n",
       "      <th>959</th>\n",
       "      <td>-14280643</td>\n",
       "      <td>Abandon</td>\n",
       "      <td>tt0267248</td>\n",
       "      <td>Paramount Pictures|Spyglass Entertainment|Touc...</td>\n",
       "    </tr>\n",
       "    <tr>\n",
       "      <th>436</th>\n",
       "      <td>-15809131</td>\n",
       "      <td>The Fighter</td>\n",
       "      <td>tt0964517</td>\n",
       "      <td>Paramount Pictures</td>\n",
       "    </tr>\n",
       "    <tr>\n",
       "      <th>1059</th>\n",
       "      <td>-17955723</td>\n",
       "      <td>A Thousand Words</td>\n",
       "      <td>tt0763831</td>\n",
       "      <td>Paramount Pictures|DreamWorks SKG|Saturn Films...</td>\n",
       "    </tr>\n",
       "    <tr>\n",
       "      <th>667</th>\n",
       "      <td>-20180936</td>\n",
       "      <td>The Love Guru</td>\n",
       "      <td>tt0811138</td>\n",
       "      <td>Paramount Pictures|Goldcrest Pictures|Internat...</td>\n",
       "    </tr>\n",
       "    <tr>\n",
       "      <th>587</th>\n",
       "      <td>-20750706</td>\n",
       "      <td>Domestic Disturbance</td>\n",
       "      <td>tt0249478</td>\n",
       "      <td>Paramount Pictures</td>\n",
       "    </tr>\n",
       "    <tr>\n",
       "      <th>1631</th>\n",
       "      <td>-24805000</td>\n",
       "      <td>Twisted</td>\n",
       "      <td>tt0315297</td>\n",
       "      <td>Paramount Pictures|Kopelson Entertainment|Harl...</td>\n",
       "    </tr>\n",
       "    <tr>\n",
       "      <th>1623</th>\n",
       "      <td>-46604061</td>\n",
       "      <td>Alfie</td>\n",
       "      <td>tt0375173</td>\n",
       "      <td>Paramount Pictures|Patalex Productions</td>\n",
       "    </tr>\n",
       "    <tr>\n",
       "      <th>1722</th>\n",
       "      <td>-51788987</td>\n",
       "      <td>Next</td>\n",
       "      <td>tt0435705</td>\n",
       "      <td>Paramount Pictures|Virtual Studios|Revolution ...</td>\n",
       "    </tr>\n",
       "    <tr>\n",
       "      <th>1123</th>\n",
       "      <td>-60519261</td>\n",
       "      <td>Timeline</td>\n",
       "      <td>tt0300556</td>\n",
       "      <td>Paramount Pictures|Donners' Company|Mutual Fil...</td>\n",
       "    </tr>\n",
       "    <tr>\n",
       "      <th>925</th>\n",
       "      <td>-64831034</td>\n",
       "      <td>K-19: The Widowmaker</td>\n",
       "      <td>tt0267626</td>\n",
       "      <td>Paramount Pictures|Intermedia Films|National G...</td>\n",
       "    </tr>\n",
       "  </tbody>\n",
       "</table>\n",
       "</div>"
      ],
      "text/plain": [
       "        profit        original_title    imdb_id  \\\n",
       "959  -14280643               Abandon  tt0267248   \n",
       "436  -15809131           The Fighter  tt0964517   \n",
       "1059 -17955723      A Thousand Words  tt0763831   \n",
       "667  -20180936         The Love Guru  tt0811138   \n",
       "587  -20750706  Domestic Disturbance  tt0249478   \n",
       "1631 -24805000               Twisted  tt0315297   \n",
       "1623 -46604061                 Alfie  tt0375173   \n",
       "1722 -51788987                  Next  tt0435705   \n",
       "1123 -60519261              Timeline  tt0300556   \n",
       "925  -64831034  K-19: The Widowmaker  tt0267626   \n",
       "\n",
       "                                   production_companies  \n",
       "959   Paramount Pictures|Spyglass Entertainment|Touc...  \n",
       "436                                  Paramount Pictures  \n",
       "1059  Paramount Pictures|DreamWorks SKG|Saturn Films...  \n",
       "667   Paramount Pictures|Goldcrest Pictures|Internat...  \n",
       "587                                  Paramount Pictures  \n",
       "1631  Paramount Pictures|Kopelson Entertainment|Harl...  \n",
       "1623             Paramount Pictures|Patalex Productions  \n",
       "1722  Paramount Pictures|Virtual Studios|Revolution ...  \n",
       "1123  Paramount Pictures|Donners' Company|Mutual Fil...  \n",
       "925   Paramount Pictures|Intermedia Films|National G...  "
      ]
     },
     "execution_count": 79,
     "metadata": {},
     "output_type": "execute_result"
    }
   ],
   "source": [
    "print_columns = ['profit', 'original_title', 'imdb_id', 'production_companies']\n",
    "data[print_columns][data['production_companies'].map(lambda x: True if 'Paramount Pictures' in x else False)].sort_values('profit', ascending=False)[-10:]"
   ]
  },
  {
   "cell_type": "markdown",
   "metadata": {
    "colab_type": "text",
    "id": "Wnj5ZsGAqp7j"
   },
   "source": [
    "# 19. Какой год стал самым успешным по суммарным кассовым сборам?\n",
    "Варианты ответа:\n",
    "1. 2014\n",
    "2. 2008\n",
    "3. 2012\n",
    "4. 2002\n",
    "5. 2015"
   ]
  },
  {
   "cell_type": "code",
   "execution_count": 80,
   "metadata": {
    "colab": {},
    "colab_type": "code",
    "id": "FQ27TKOhqp7j"
   },
   "outputs": [],
   "source": [
    "answers['19'] = '5. 2015'"
   ]
  },
  {
   "cell_type": "code",
   "execution_count": 81,
   "metadata": {
    "colab": {},
    "colab_type": "code",
    "id": "uvoCeBd2qp7k",
    "outputId": "164479c0-213a-4a5a-dca2-aceca9ddb63b"
   },
   "outputs": [
    {
     "name": "stdout",
     "output_type": "stream",
     "text": [
      "release_year\n",
      "2015    25449202382\n",
      "2014    23405862953\n",
      "2013    23213799791\n",
      "2012    23079001687\n",
      "2011    22676791872\n",
      "2010    21071204961\n",
      "2009    20261791024\n",
      "2008    18252781990\n",
      "2007    18162406801\n",
      "2004    15663430720\n",
      "Name: revenue, dtype: int64\n"
     ]
    },
    {
     "data": {
      "text/plain": [
       "(array([8.0e+09, 1.0e+10, 1.2e+10, 1.4e+10, 1.6e+10, 1.8e+10, 2.0e+10,\n",
       "        2.2e+10, 2.4e+10, 2.6e+10, 2.8e+10]),\n",
       " <a list of 11 Text major ticklabel objects>)"
      ]
     },
     "execution_count": 81,
     "metadata": {},
     "output_type": "execute_result"
    },
    {
     "data": {
      "image/png": "[encoded data removed]",
      "text/plain": [
       "<Figure size 432x288 with 1 Axes>"
      ]
     },
     "metadata": {
      "needs_background": "light"
     },
     "output_type": "display_data"
    }
   ],
   "source": [
    "data.groupby('release_year')['revenue'].sum().plot()\n",
    "print(data.groupby('release_year')['revenue'].sum().sort_values(0, ascending=False)[:10])\n",
    "plt.title('Year vs Average revenue',fontsize=15)\n",
    "plt.xlabel('Release Year',fontsize=12)\n",
    "plt.ylabel('Average revenue',fontsize=12)\n",
    "plt.yticks(rotation=90)"
   ]
  },
  {
   "cell_type": "markdown",
   "metadata": {
    "colab_type": "text",
    "id": "gCPpGgNvqp7l"
   },
   "source": [
    "ВАРИАНТ 2"
   ]
  },
  {
   "cell_type": "code",
   "execution_count": 82,
   "metadata": {
    "colab": {},
    "colab_type": "code",
    "id": "jpTfkJWZqp7m",
    "outputId": "0d7c536e-3de6-40e4-eac8-b2c75741ff16"
   },
   "outputs": [
    {
     "data": {
      "text/plain": [
       "release_year\n",
       "2015    25449202382\n",
       "Name: revenue, dtype: int64"
      ]
     },
     "execution_count": 82,
     "metadata": {},
     "output_type": "execute_result"
    }
   ],
   "source": [
    "best_profit = pd.pivot_table(data, values='revenue', index='release_year', aggfunc='sum')\n",
    "best_profit.revenue.sort_values(ascending=False).head(1)"
   ]
  },
  {
   "cell_type": "markdown",
   "metadata": {
    "colab_type": "text",
    "id": "aAN8r3bYqp7n"
   },
   "source": [
    "# 20. Какой Самый прибыльный год для студии Warner Bros?\n",
    "Варианты ответа:\n",
    "1. 2014\n",
    "2. 2003\n",
    "3. 2012\n",
    "4. 2010\n",
    "5. 2015"
   ]
  },
  {
   "cell_type": "code",
   "execution_count": 83,
   "metadata": {
    "colab": {},
    "colab_type": "code",
    "id": "LOpgoR-yqp7n"
   },
   "outputs": [],
   "source": [
    "answers['20'] = '1. 2014'"
   ]
  },
  {
   "cell_type": "code",
   "execution_count": 84,
   "metadata": {
    "colab": {},
    "colab_type": "code",
    "id": "A-J_PgaCqp7o",
    "outputId": "6fdd26c2-22f5-4af0-ad1e-7be82514160e"
   },
   "outputs": [
    {
     "data": {
      "text/plain": [
       "2014"
      ]
     },
     "execution_count": 84,
     "metadata": {},
     "output_type": "execute_result"
    }
   ],
   "source": [
    "data[data.production_companies.str.contains('Warner Bros')].groupby('release_year')['profit'].sum().idxmax()"
   ]
  },
  {
   "cell_type": "code",
   "execution_count": 85,
   "metadata": {
    "colab": {},
    "colab_type": "code",
    "id": "ktfqosoTqp7p",
    "outputId": "d3eaef5d-6046-4fd7-dc05-1944fdbc3d22"
   },
   "outputs": [
    {
     "data": {
      "text/plain": [
       "release_year\n",
       "2014    2295464519\n",
       "2007    2201675217\n",
       "2008    2134595031\n",
       "2010    1974712985\n",
       "2011    1871393682\n",
       "2003    1855493377\n",
       "2009    1822454136\n",
       "2013    1636453400\n",
       "2004    1631933725\n",
       "2005    1551980298\n",
       "2001    1343545668\n",
       "2012    1258020056\n",
       "2002    1022709901\n",
       "2015     870368348\n",
       "2006     620170743\n",
       "2000     452631386\n",
       "Name: profit, dtype: int64"
      ]
     },
     "execution_count": 85,
     "metadata": {},
     "output_type": "execute_result"
    }
   ],
   "source": [
    "#Оставляем только записи фильмов, принадлежащих компании Warner Bros\n",
    "warner_df = data[data['production_companies'].str.contains('Warner Bros')]\n",
    "\n",
    "warner_df.groupby(['release_year'])['profit'].sum().sort_values(ascending = False)"
   ]
  },
  {
   "cell_type": "code",
   "execution_count": 86,
   "metadata": {
    "colab": {},
    "colab_type": "code",
    "id": "itEskZGLqp7t",
    "outputId": "e42ab7fb-1b2a-4520-c3ab-634ce50c70e6"
   },
   "outputs": [
    {
     "data": {
      "text/plain": [
       "(array([2.50e+08, 5.00e+08, 7.50e+08, 1.00e+09, 1.25e+09, 1.50e+09,\n",
       "        1.75e+09, 2.00e+09, 2.25e+09, 2.50e+09]),\n",
       " <a list of 10 Text major ticklabel objects>)"
      ]
     },
     "execution_count": 86,
     "metadata": {},
     "output_type": "execute_result"
    },
    {
     "data": {
      "image/png": "[encoded data removed]",
      "text/plain": [
       "<Figure size 432x288 with 1 Axes>"
      ]
     },
     "metadata": {
      "needs_background": "light"
     },
     "output_type": "display_data"
    }
   ],
   "source": [
    "warner_df.groupby(['release_year'])['profit'].sum().plot()\n",
    "plt.title('Year vs Average Profit',fontsize=15)\n",
    "plt.xlabel('Release Year',fontsize=12)\n",
    "plt.ylabel('Average Profit',fontsize=12)\n",
    "plt.yticks(rotation=90)"
   ]
  },
  {
   "cell_type": "markdown",
   "metadata": {
    "colab_type": "text",
    "id": "xiiXMiErqp7v"
   },
   "source": [
    "# 21. В каком месяце за все годы суммарно вышло больше всего фильмов?\n",
    "Варианты ответа:\n",
    "1. Январь\n",
    "2. Июнь\n",
    "3. Декабрь\n",
    "4. Сентябрь\n",
    "5. Май"
   ]
  },
  {
   "cell_type": "code",
   "execution_count": 53,
   "metadata": {
    "colab": {},
    "colab_type": "code",
    "id": "yQeLC4SDqp7v"
   },
   "outputs": [],
   "source": [
    "answers['21'] = '4. Сентябрь'"
   ]
  },
  {
   "cell_type": "code",
   "execution_count": 57,
   "metadata": {
    "colab": {},
    "colab_type": "code",
    "id": "WJDGuT3qqp7w",
    "outputId": "f4c9f5a9-6fcc-41c9-ef5a-ed258b439186"
   },
   "outputs": [
    {
     "data": {
      "text/plain": [
       "release_date\n",
       "September    227\n",
       "December     190\n",
       "October      186\n",
       "August       161\n",
       "March        156\n",
       "April        149\n",
       "June         147\n",
       "November     146\n",
       "July         142\n",
       "May          140\n",
       "February     135\n",
       "January      110\n",
       "Name: imdb_id, dtype: int64"
      ]
     },
     "execution_count": 57,
     "metadata": {},
     "output_type": "execute_result"
    }
   ],
   "source": [
    "# не забываем сделать pd.to_datetime(data['release_date']) при предобработке\n",
    "data.groupby(data['release_date'].dt.strftime('%B'))['imdb_id'].count().sort_values(ascending = False)"
   ]
  },
  {
   "cell_type": "markdown",
   "metadata": {
    "colab_type": "text",
    "id": "fTDvQF-cqp7x"
   },
   "source": [
    "ВАРИАНТ 2"
   ]
  },
  {
   "cell_type": "code",
   "execution_count": 89,
   "metadata": {
    "colab": {},
    "colab_type": "code",
    "id": "QoNzIWwjqp7y",
    "outputId": "dfda6399-93c3-49b7-edff-b0d2a344fbcc"
   },
   "outputs": [
    {
     "data": {
      "text/plain": [
       "9     227\n",
       "12    190\n",
       "10    186\n",
       "8     161\n",
       "3     156\n",
       "4     149\n",
       "6     147\n",
       "11    146\n",
       "7     142\n",
       "5     140\n",
       "2     135\n",
       "1     110\n",
       "Name: release_date, dtype: int64"
      ]
     },
     "execution_count": 89,
     "metadata": {},
     "output_type": "execute_result"
    }
   ],
   "source": [
    "data.release_date.dt.month.value_counts()"
   ]
  },
  {
   "cell_type": "markdown",
   "metadata": {
    "colab_type": "text",
    "id": "WImIrA1Jqp7y"
   },
   "source": [
    "# 22. Сколько суммарно вышло фильмов летом? (за июнь, июль, август)\n",
    "Варианты ответа:\n",
    "1. 345\n",
    "2. 450\n",
    "3. 478\n",
    "4. 523\n",
    "5. 381"
   ]
  },
  {
   "cell_type": "code",
   "execution_count": 90,
   "metadata": {
    "colab": {},
    "colab_type": "code",
    "id": "4fkJKF1Zqp7z"
   },
   "outputs": [],
   "source": [
    "answers['22'] = '2. 450'"
   ]
  },
  {
   "cell_type": "code",
   "execution_count": 91,
   "metadata": {
    "colab": {},
    "colab_type": "code",
    "id": "RvxbwV5Jqp7z",
    "outputId": "05fa02fa-3b62-44ba-e3c1-905703d4ec0f"
   },
   "outputs": [
    {
     "name": "stdout",
     "output_type": "stream",
     "text": [
      "450\n"
     ]
    }
   ],
   "source": [
    "print(len(data[(data.release_date.dt.month >=6) & (data.release_date.dt.month <=8)]))"
   ]
  },
  {
   "cell_type": "code",
   "execution_count": 92,
   "metadata": {
    "colab": {},
    "colab_type": "code",
    "id": "nG3CptThqp70",
    "outputId": "15faca95-9b73-4d72-9575-d39c75e5b242"
   },
   "outputs": [
    {
     "data": {
      "text/plain": [
       "450"
      ]
     },
     "execution_count": 92,
     "metadata": {},
     "output_type": "execute_result"
    }
   ],
   "source": [
    "len(data[data.release_date.dt.month.isin([6, 7, 8,])])"
   ]
  },
  {
   "cell_type": "code",
   "execution_count": 93,
   "metadata": {
    "colab": {},
    "colab_type": "code",
    "id": "0KrWTYjxqp72",
    "outputId": "eda71b2d-db2f-4a66-a7da-cd4aec6a707a"
   },
   "outputs": [
    {
     "name": "stdout",
     "output_type": "stream",
     "text": [
      "450\n"
     ]
    }
   ],
   "source": [
    "print(len(data[data['season'] == 3]))"
   ]
  },
  {
   "cell_type": "markdown",
   "metadata": {
    "colab_type": "text",
    "id": "uLmjHoABqp73"
   },
   "source": [
    "# 23. Какой режисер выпускает (суммарно по годам) больше всего фильмов зимой?\n",
    "Варианты ответов:\n",
    "1. Steven Soderbergh\n",
    "2. Christopher Nolan\n",
    "3. Steven Spielberg\n",
    "4. Ridley Scott\n",
    "5. Peter Jackson"
   ]
  },
  {
   "cell_type": "code",
   "execution_count": 94,
   "metadata": {
    "colab": {},
    "colab_type": "code",
    "id": "_mMBYNV5qp73"
   },
   "outputs": [],
   "source": [
    "answers['23'] = '5. Peter Jackson'"
   ]
  },
  {
   "cell_type": "code",
   "execution_count": 95,
   "metadata": {
    "colab": {},
    "colab_type": "code",
    "id": "6hSnJ48Tqp74"
   },
   "outputs": [],
   "source": [
    "data_tmp = data[data['season'] == 1]\n",
    "# or\n",
    "data_tmp = data[data.release_date.dt.month.isin([1, 2, 12,])]"
   ]
  },
  {
   "cell_type": "code",
   "execution_count": 96,
   "metadata": {
    "colab": {},
    "colab_type": "code",
    "id": "jFRvnGZhqp75",
    "outputId": "778bb8e1-8ccc-496f-9df8-a19571bbbe5e"
   },
   "outputs": [
    {
     "name": "stdout",
     "output_type": "stream",
     "text": [
      "Peter Jackson        7\n",
      "Steven Soderbergh    6\n",
      "Clint Eastwood       6\n",
      "Martin Scorsese      4\n",
      "Adam Shankman        4\n",
      "Shawn Levy           4\n",
      "Nancy Meyers         4\n",
      "Tim Burton           3\n",
      "Steve Carr           3\n",
      "Donald Petrie        3\n",
      "dtype: int64\n"
     ]
    },
    {
     "data": {
      "text/plain": [
       "Text(0, 0.5, 'Movies')"
      ]
     },
     "execution_count": 96,
     "metadata": {},
     "output_type": "execute_result"
    },
    {
     "data": {
      "image/png": "[encoded data removed]",
      "text/plain": [
       "<Figure size 1080x504 with 1 Axes>"
      ]
     },
     "metadata": {
      "needs_background": "light"
     },
     "output_type": "display_data"
    }
   ],
   "source": [
    "sum_gen=counter(data_tmp,'director')\n",
    "print(sum_gen[:10])\n",
    "sum_gen[:10].plot(kind='bar',figsize=(15,7),fontsize=12)\n",
    "plt.xticks(rotation=60)\n",
    "plt.title(\"director with Highest Release\",fontsize=15)\n",
    "plt.xlabel(\"director\",fontsize=14)\n",
    "plt.ylabel(\"Movies\",fontsize=14)"
   ]
  },
  {
   "cell_type": "markdown",
   "metadata": {
    "colab_type": "text",
    "id": "5dnebi3Vqp76"
   },
   "source": [
    "# 24. Какая студия дает самые длинные названия своим фильмам по количеству символов?\n",
    "Варианты ответа:\n",
    "1. Universal Pictures\n",
    "2. Warner Bros\n",
    "3. Miramax Films\n",
    "4. Paramount Pictures\n",
    "5. Four By Two Productions"
   ]
  },
  {
   "cell_type": "code",
   "execution_count": 97,
   "metadata": {
    "colab": {},
    "colab_type": "code",
    "id": "3xii99rWqp76"
   },
   "outputs": [],
   "source": [
    "answers['24'] = '5. Four By Two Productions'"
   ]
  },
  {
   "cell_type": "code",
   "execution_count": 98,
   "metadata": {
    "colab": {},
    "colab_type": "code",
    "id": "KN7jURK4qp79"
   },
   "outputs": [],
   "source": [
    "data['title_length'] = data['original_title'].map(lambda x: len(x))"
   ]
  },
  {
   "cell_type": "code",
   "execution_count": 99,
   "metadata": {
    "colab": {},
    "colab_type": "code",
    "id": "dj44k44uqp79",
    "outputId": "de770774-bd47-4859-ded3-877ed0750d8c"
   },
   "outputs": [
    {
     "data": {
      "text/html": [
       "<div>\n",
       "<style scoped>\n",
       "    .dataframe tbody tr th:only-of-type {\n",
       "        vertical-align: middle;\n",
       "    }\n",
       "\n",
       "    .dataframe tbody tr th {\n",
       "        vertical-align: top;\n",
       "    }\n",
       "\n",
       "    .dataframe thead th {\n",
       "        text-align: right;\n",
       "    }\n",
       "</style>\n",
       "<table border=\"1\" class=\"dataframe\">\n",
       "  <thead>\n",
       "    <tr style=\"text-align: right;\">\n",
       "      <th></th>\n",
       "      <th>0</th>\n",
       "    </tr>\n",
       "  </thead>\n",
       "  <tbody>\n",
       "    <tr>\n",
       "      <th>Four By Two Productions</th>\n",
       "      <td>83</td>\n",
       "    </tr>\n",
       "    <tr>\n",
       "      <th>Jim Henson Company, The</th>\n",
       "      <td>59</td>\n",
       "    </tr>\n",
       "    <tr>\n",
       "      <th>Dos Corazones</th>\n",
       "      <td>47</td>\n",
       "    </tr>\n",
       "    <tr>\n",
       "      <th>Museum Canada Productions</th>\n",
       "      <td>46</td>\n",
       "    </tr>\n",
       "    <tr>\n",
       "      <th>Polsky Films</th>\n",
       "      <td>46</td>\n",
       "    </tr>\n",
       "    <tr>\n",
       "      <th>The Saul Zaentz Company</th>\n",
       "      <td>43</td>\n",
       "    </tr>\n",
       "    <tr>\n",
       "      <th>Second Mate Productions</th>\n",
       "      <td>41</td>\n",
       "    </tr>\n",
       "    <tr>\n",
       "      <th>Total Entertainment</th>\n",
       "      <td>41</td>\n",
       "    </tr>\n",
       "    <tr>\n",
       "      <th>Cool Music</th>\n",
       "      <td>41</td>\n",
       "    </tr>\n",
       "    <tr>\n",
       "      <th>Iron Film</th>\n",
       "      <td>41</td>\n",
       "    </tr>\n",
       "  </tbody>\n",
       "</table>\n",
       "</div>"
      ],
      "text/plain": [
       "                            0\n",
       "Four By Two Productions    83\n",
       "Jim Henson Company, The    59\n",
       "Dos Corazones              47\n",
       "Museum Canada Productions  46\n",
       "Polsky Films               46\n",
       "The Saul Zaentz Company    43\n",
       "Second Mate Productions    41\n",
       "Total Entertainment        41\n",
       "Cool Music                 41\n",
       "Iron Film                  41"
      ]
     },
     "execution_count": 99,
     "metadata": {},
     "output_type": "execute_result"
    },
    {
     "data": {
      "image/png": "[encoded data removed]",
      "text/plain": [
       "<Figure size 1080x504 with 1 Axes>"
      ]
     },
     "metadata": {
      "needs_background": "light"
     },
     "output_type": "display_data"
    }
   ],
   "source": [
    "sum_gen=counter(data,'production_companies')\n",
    "for gen in sum_gen.index:\n",
    "    sum_gen[gen] = data['title_length'][data['production_companies'].map(lambda x: True if gen in x else False)].mean()\n",
    "sum_gen = pd.DataFrame(sum_gen).sort_values(0, ascending=False)\n",
    "sum_gen[:10].plot(kind='bar',figsize=(15,7),fontsize=12)\n",
    "plt.xticks(rotation=60)\n",
    "plt.title(\"cast with Highest Profit\",fontsize=15)\n",
    "plt.xlabel(\"cast\",fontsize=14)\n",
    "plt.ylabel(\"$\",fontsize=14)\n",
    "sum_gen[:10]"
   ]
  },
  {
   "cell_type": "markdown",
   "metadata": {
    "colab_type": "text",
    "id": "uZArGu4Xqp7-"
   },
   "source": [
    "# 25. Описание фильмов какой студии в среднем самые длинные по количеству слов?\n",
    "\n",
    "Варианты ответа:\n",
    "1. Universal Pictures\n",
    "2. Warner Bros\n",
    "3. Midnight Picture Show\n",
    "4. Paramount Pictures\n",
    "5. Total Entertainment"
   ]
  },
  {
   "cell_type": "code",
   "execution_count": 100,
   "metadata": {
    "colab": {},
    "colab_type": "code",
    "id": "RdWync2Qqp8A"
   },
   "outputs": [],
   "source": [
    "answers['25'] = '3. Midnight Picture Show'"
   ]
  },
  {
   "cell_type": "code",
   "execution_count": 101,
   "metadata": {
    "colab": {},
    "colab_type": "code",
    "id": "_gwVfWlqqp8A"
   },
   "outputs": [],
   "source": [
    "data['overview_words_length'] = data.overview.map(lambda x: len(x.split(' ')))"
   ]
  },
  {
   "cell_type": "code",
   "execution_count": 102,
   "metadata": {
    "colab": {},
    "colab_type": "code",
    "id": "i7B0O_8nqp8B",
    "outputId": "bfb5c9df-09dd-4ddc-8504-b8bf98510e8c"
   },
   "outputs": [
    {
     "data": {
      "text/html": [
       "<div>\n",
       "<style scoped>\n",
       "    .dataframe tbody tr th:only-of-type {\n",
       "        vertical-align: middle;\n",
       "    }\n",
       "\n",
       "    .dataframe tbody tr th {\n",
       "        vertical-align: top;\n",
       "    }\n",
       "\n",
       "    .dataframe thead th {\n",
       "        text-align: right;\n",
       "    }\n",
       "</style>\n",
       "<table border=\"1\" class=\"dataframe\">\n",
       "  <thead>\n",
       "    <tr style=\"text-align: right;\">\n",
       "      <th></th>\n",
       "      <th>0</th>\n",
       "    </tr>\n",
       "  </thead>\n",
       "  <tbody>\n",
       "    <tr>\n",
       "      <th>Midnight Picture Show</th>\n",
       "      <td>175</td>\n",
       "    </tr>\n",
       "    <tr>\n",
       "      <th>Heineken Branded Entertainment</th>\n",
       "      <td>161</td>\n",
       "    </tr>\n",
       "    <tr>\n",
       "      <th>Room 9 Entertainment</th>\n",
       "      <td>161</td>\n",
       "    </tr>\n",
       "    <tr>\n",
       "      <th>98 MPH Productions</th>\n",
       "      <td>159</td>\n",
       "    </tr>\n",
       "    <tr>\n",
       "      <th>Brookwell-McNamara Entertainment</th>\n",
       "      <td>156</td>\n",
       "    </tr>\n",
       "  </tbody>\n",
       "</table>\n",
       "</div>"
      ],
      "text/plain": [
       "                                    0\n",
       "Midnight Picture Show             175\n",
       "Heineken Branded Entertainment    161\n",
       "Room 9 Entertainment              161\n",
       "98 MPH Productions                159\n",
       "Brookwell-McNamara Entertainment  156"
      ]
     },
     "execution_count": 102,
     "metadata": {},
     "output_type": "execute_result"
    },
    {
     "data": {
      "image/png": "[encoded data removed]",
      "text/plain": [
       "<Figure size 1080x504 with 1 Axes>"
      ]
     },
     "metadata": {
      "needs_background": "light"
     },
     "output_type": "display_data"
    }
   ],
   "source": [
    "sum_gen=counter(data,'production_companies')\n",
    "for gen in sum_gen.index:\n",
    "    sum_gen[gen] = data['overview_words_length'][data['production_companies'].map(lambda x: True if gen in x else False)].mean()\n",
    "sum_gen = pd.DataFrame(sum_gen).sort_values(0, ascending=False)\n",
    "sum_gen[:10].plot(kind='bar',figsize=(15,7),fontsize=12)\n",
    "plt.xticks(rotation=60)\n",
    "plt.title(\"cast with Highest Profit\",fontsize=15)\n",
    "plt.xlabel(\"cast\",fontsize=14)\n",
    "plt.ylabel(\"$\",fontsize=14)\n",
    "sum_gen[:5]"
   ]
  },
  {
   "cell_type": "markdown",
   "metadata": {
    "colab_type": "text",
    "id": "1Bh3U7IEqp8C"
   },
   "source": [
    "# 26. Какие фильмы входят в 1 процент лучших по рейтингу? (vote_average)\n",
    "Варианты ответа:\n",
    "1. Inside Out, The Dark Knight, 12 Years a Slave\n",
    "2. BloodRayne, The Adventures of Rocky & Bullwinkle\n",
    "3. Batman Begins, The Lord of the Rings: The Return of the King, Upside Down\n",
    "4. 300, Lucky Number Slevin, Kill Bill: Vol. 1\n",
    "5. Upside Down, Inside Out, Iron Man"
   ]
  },
  {
   "cell_type": "code",
   "execution_count": 103,
   "metadata": {
    "colab": {},
    "colab_type": "code",
    "id": "OxS5C00_qp8C"
   },
   "outputs": [],
   "source": [
    "answers['26'] = '1. Inside Out, The Dark Knight, 12 Years a Slave'"
   ]
  },
  {
   "cell_type": "code",
   "execution_count": 104,
   "metadata": {
    "colab": {},
    "colab_type": "code",
    "id": "ZOSRekNOqp8D",
    "outputId": "b14777eb-05b1-44d1-c56f-4d3328a01899"
   },
   "outputs": [
    {
     "data": {
      "text/plain": [
       "9                                          Inside Out\n",
       "34                                               Room\n",
       "118                                      Interstellar\n",
       "119                           Guardians of the Galaxy\n",
       "125                                The Imitation Game\n",
       "128                                         Gone Girl\n",
       "138                          The Grand Budapest Hotel\n",
       "370                                         Inception\n",
       "599                                   The Dark Knight\n",
       "872                                       The Pianist\n",
       "1081    The Lord of the Rings: The Return of the King\n",
       "1183                          The Wolf of Wall Street\n",
       "1191                                 12 Years a Slave\n",
       "1800                                          Memento\n",
       "Name: original_title, dtype: object"
      ]
     },
     "execution_count": 104,
     "metadata": {},
     "output_type": "execute_result"
    }
   ],
   "source": [
    "data.loc[data['vote_average']>data.quantile(0.99, numeric_only=True)['vote_average']]['original_title']"
   ]
  },
  {
   "cell_type": "markdown",
   "metadata": {
    "colab_type": "text",
    "id": "xOY9xNCpqp8E"
   },
   "source": [
    "ВАРИАНТ 2"
   ]
  },
  {
   "cell_type": "code",
   "execution_count": 105,
   "metadata": {
    "colab": {},
    "colab_type": "code",
    "id": "IXzM18cKqp8E",
    "outputId": "20c184ad-5492-4fd2-fa5e-3f36fa627815"
   },
   "outputs": [
    {
     "data": {
      "text/plain": [
       "599                                       The Dark Knight\n",
       "9                                              Inside Out\n",
       "34                                                   Room\n",
       "118                                          Interstellar\n",
       "125                                    The Imitation Game\n",
       "370                                             Inception\n",
       "1191                                     12 Years a Slave\n",
       "1183                              The Wolf of Wall Street\n",
       "1081        The Lord of the Rings: The Return of the King\n",
       "872                                           The Pianist\n",
       "1800                                              Memento\n",
       "119                               Guardians of the Galaxy\n",
       "138                              The Grand Budapest Hotel\n",
       "128                                             Gone Girl\n",
       "283                                            Mr. Nobody\n",
       "1688                                  There Will Be Blood\n",
       "1563                Eternal Sunshine of the Spotless Mind\n",
       "1444                                         The Prestige\n",
       "1213                                   Dallas Buyers Club\n",
       "1205                                            Prisoners\n",
       "124                                            Big Hero 6\n",
       "1188                                                  Her\n",
       "316                                              3 Idiots\n",
       "863                 The Lord of the Rings: The Two Towers\n",
       "155                              The Theory of Everything\n",
       "28                                              Spotlight\n",
       "177                                The Fault in Our Stars\n",
       "496     The Lord of the Rings: The Fellowship of the Ring\n",
       "Name: original_title, dtype: object"
      ]
     },
     "execution_count": 105,
     "metadata": {},
     "output_type": "execute_result"
    }
   ],
   "source": [
    "border = np.quantile(data.vote_average, 0.99)\n",
    "data[data.vote_average >= border].sort_values(by='vote_average', ascending=False)['original_title']"
   ]
  },
  {
   "cell_type": "markdown",
   "metadata": {
    "colab_type": "text",
    "id": "jVWv8pRsqp8F"
   },
   "source": [
    "# 27. Какие актеры чаще всего снимаются в одном фильме вместе\n",
    "Варианты ответа:\n",
    "1. Johnny Depp & Helena Bonham Carter\n",
    "2. Ben Stiller & Owen Wilson\n",
    "3. Vin Diesel & Paul Walker\n",
    "4. Adam Sandler & Kevin James\n",
    "5. Daniel Radcliffe & Rupert Grint"
   ]
  },
  {
   "cell_type": "code",
   "execution_count": 58,
   "metadata": {
    "colab": {},
    "colab_type": "code",
    "id": "7OvO3h9_qp8F"
   },
   "outputs": [],
   "source": [
    "answers['27'] = '5. Daniel Radcliffe & Rupert Grint'"
   ]
  },
  {
   "cell_type": "code",
   "execution_count": 60,
   "metadata": {
    "colab": {},
    "colab_type": "code",
    "id": "vJSQBNehqp8F",
    "outputId": "0910bab4-b822-4e3a-815d-08ecde45ab56"
   },
   "outputs": [
    {
     "data": {
      "text/plain": [
       "(Daniel Radcliffe, Emma Watson)        8\n",
       "(Emma Watson, Rupert Grint)            8\n",
       "(Daniel Radcliffe, Rupert Grint)       8\n",
       "(Helena Bonham Carter, Johnny Depp)    6\n",
       "(Ben Stiller, Owen Wilson)             6\n",
       "dtype: int64"
      ]
     },
     "execution_count": 60,
     "metadata": {},
     "output_type": "execute_result"
    }
   ],
   "source": [
    "from itertools import combinations\n",
    "pairs = data.cast.apply(lambda x: list(tuple(sorted(comb)) for comb in combinations(x.split('|'), 2) )).tolist()\n",
    "flattened = pd.DataFrame(pairs).stack()\n",
    "flattened.value_counts().head(5)"
   ]
  },
  {
   "cell_type": "markdown",
   "metadata": {
    "colab_type": "text",
    "id": "-Z6uWW7Kqp8G"
   },
   "source": [
    "ВАРИАНТ 2"
   ]
  },
  {
   "cell_type": "code",
   "execution_count": 62,
   "metadata": {
    "colab": {},
    "colab_type": "code",
    "id": "C2EGrEpCqp8G",
    "outputId": "117b9d3f-3308-4bca-fbc9-50143298bebf"
   },
   "outputs": [
    {
     "name": "stdout",
     "output_type": "stream",
     "text": [
      "52.9 ms ± 2.88 ms per loop (mean ± std. dev. of 7 runs, 10 loops each)\n"
     ]
    }
   ],
   "source": [
    "%%timeit\n",
    "pairs = Counter()\n",
    "for i in range(0, len(data)):\n",
    "    artists = data.cast[i].split('|')\n",
    "    for j in list(combinations(artists, 2)):\n",
    "        if j not in pairs:\n",
    "            pairs[j] = 1\n",
    "        else:\n",
    "            pairs[j] += 1\n",
    "pairs.most_common(5)"
   ]
  },
  {
   "cell_type": "markdown",
   "metadata": {
    "colab_type": "text",
    "id": "LaErXcihqp8H"
   },
   "source": [
    "ВАРИАНТ 3"
   ]
  },
  {
   "cell_type": "code",
   "execution_count": 109,
   "metadata": {
    "colab": {},
    "colab_type": "code",
    "id": "CJoT1I7Wqp8H",
    "outputId": "c7c3683f-3e05-43d7-facf-99df1012d83e"
   },
   "outputs": [
    {
     "data": {
      "text/plain": [
       "(Daniel Radcliffe, Emma Watson)        8\n",
       "(Daniel Radcliffe, Rupert Grint)       8\n",
       "(Rupert Grint, Emma Watson)            7\n",
       "(Ben Stiller, Owen Wilson)             6\n",
       "(Johnny Depp, Helena Bonham Carter)    6\n",
       "dtype: int64"
      ]
     },
     "execution_count": 109,
     "metadata": {},
     "output_type": "execute_result"
    }
   ],
   "source": [
    "pairs = data.cast.apply(lambda x: combinations(x.split('|'), 2)).tolist()\n",
    "flattened = pd.DataFrame(pairs).stack()\n",
    "flattened.value_counts().head(5)"
   ]
  },
  {
   "cell_type": "markdown",
   "metadata": {
    "colab_type": "text",
    "id": "bQ23t62yqp8I"
   },
   "source": [
    "# Submission"
   ]
  },
  {
   "cell_type": "code",
   "execution_count": 110,
   "metadata": {
    "colab": {},
    "colab_type": "code",
    "id": "VhUfHtuFqp8I"
   },
   "outputs": [
    {
     "data": {
      "text/plain": [
       "{'1': '5. Pirates of the Caribbean: On Stranger Tides (tt1298650)',\n",
       " '2': '2. Gods and Generals (tt0279111)',\n",
       " '3': '3. Winnie the Pooh tt1449283',\n",
       " '4': '2. 110',\n",
       " '5': '1. 107',\n",
       " '6': '5. Avatar tt0499549',\n",
       " '7': '4. The Adventures of Pluto Nash (tt0180052)',\n",
       " '8': '1. 1478',\n",
       " '9': '4. The Dark Knight (tt0468569)',\n",
       " '10': '5. The Lone Ranger (tt1210819)',\n",
       " '11': '3. Drama',\n",
       " '12': '1. Drama',\n",
       " '13': '5. Peter Jackson',\n",
       " '14': '3. Robert Rodriguez',\n",
       " '15': '3. Chris Hemsworth',\n",
       " '16': '3. Matt Damon',\n",
       " '17': '2. Action',\n",
       " '18': '1. K-19: The Widowmaker (tt0267626)',\n",
       " '19': '5. 2015',\n",
       " '20': '1. 2014',\n",
       " '21': '4. Сентябрь',\n",
       " '22': '2. 450',\n",
       " '23': '5. Peter Jackson',\n",
       " '24': '5. Four By Two Productions',\n",
       " '25': '3. Midnight Picture Show',\n",
       " '26': '1. Inside Out, The Dark Knight, 12 Years a Slave',\n",
       " '27': '5. Daniel Radcliffe & Rupert Grint'}"
      ]
     },
     "execution_count": 110,
     "metadata": {},
     "output_type": "execute_result"
    }
   ],
   "source": [
    "answers"
   ]
  },
  {
   "cell_type": "code",
   "execution_count": 111,
   "metadata": {
    "colab": {},
    "colab_type": "code",
    "id": "QnwDMf3Uqp8J"
   },
   "outputs": [
    {
     "data": {
      "text/plain": [
       "27"
      ]
     },
     "execution_count": 111,
     "metadata": {},
     "output_type": "execute_result"
    }
   ],
   "source": [
    "len(answers)"
   ]
  },
  {
   "cell_type": "markdown",
   "metadata": {
    "colab_type": "text",
    "id": "FWXZ_gpSqp8J"
   },
   "source": [
    "# Доп материалы\n",
    "%%time and %%timeit\n",
    "\n",
    "https://jakevdp.github.io/PythonDataScienceHandbook/01.07-timing-and-profiling.html\n",
    "\n",
    "iterrows или itertuples,когда используем циклы https://stackoverflow.com/questions/16476924/how-to-iterate-over-rows-in-a-dataframe-in-pandas\n",
    "\n",
    "Интересный разбор эффективности функций: https://stackoverflow.com/questions/54028199/are-for-loops-in-pandas-really-bad-when-should-i-care\n",
    "\n",
    "Копирование не равно https://stackoverflow.com/questions/35665135/why-can-pandas-dataframes-change-each-other"
   ]
  },
  {
   "cell_type": "code",
   "execution_count": null,
   "metadata": {
    "colab": {},
    "colab_type": "code",
    "id": "DSiDrCEdqp8K"
   },
   "outputs": [],
   "source": []
  }
 ],
 "metadata": {
  "colab": {
   "name": "[SF-DST] Movies IMBD v4.2 SOLVE.ipynb",
   "provenance": []
  },
  "kernelspec": {
   "display_name": "Python 3",
   "language": "python",
   "name": "python3"
  },
  "language_info": {
   "codemirror_mode": {
    "name": "ipython",
    "version": 3
   },
   "file_extension": ".py",
   "mimetype": "text/x-python",
   "name": "python",
   "nbconvert_exporter": "python",
   "pygments_lexer": "ipython3",
   "version": "3.7.6"
  },
  "toc": {
   "base_numbering": 1,
   "nav_menu": {},
   "number_sections": false,
   "sideBar": true,
   "skip_h1_title": false,
   "title_cell": "Table of Contents",
   "title_sidebar": "Contents",
   "toc_cell": false,
   "toc_position": {},
   "toc_section_display": true,
   "toc_window_display": true
  }
 },
 "nbformat": 4,
 "nbformat_minor": 4
}
